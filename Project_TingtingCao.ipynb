{
  "nbformat": 4,
  "nbformat_minor": 0,
  "metadata": {
    "colab": {
      "name": "Project-TingtingCao.ipynb",
      "provenance": [],
      "authorship_tag": "ABX9TyPiteQOD2NFLbSiBo+y/Fsc",
      "include_colab_link": true
    },
    "kernelspec": {
      "name": "python3",
      "display_name": "Python 3"
    },
    "language_info": {
      "name": "python"
    }
  },
  "cells": [
    {
      "cell_type": "markdown",
      "metadata": {
        "id": "view-in-github",
        "colab_type": "text"
      },
      "source": [
        "<a href=\"https://colab.research.google.com/github/ttcao63/775team_project_b2_t2/blob/main/Project_TingtingCao.ipynb\" target=\"_parent\"><img src=\"https://colab.research.google.com/assets/colab-badge.svg\" alt=\"Open In Colab\"/></a>"
      ]
    },
    {
      "cell_type": "code",
      "execution_count": null,
      "metadata": {
        "id": "FqT2_Vwx3lk5",
        "colab": {
          "base_uri": "https://localhost:8080/"
        },
        "outputId": "4cfd3e71-b713-4cef-edd6-a99cc43e7206"
      },
      "outputs": [
        {
          "output_type": "stream",
          "name": "stderr",
          "text": [
            "/usr/local/lib/python3.7/dist-packages/statsmodels/tools/_testing.py:19: FutureWarning: pandas.util.testing is deprecated. Use the functions in the public API at pandas.testing instead.\n",
            "  import pandas.util.testing as tm\n"
          ]
        }
      ],
      "source": [
        "#load library\n",
        "import numpy as np\n",
        "import pandas as pd\n",
        "import matplotlib.pyplot as plt\n",
        "import seaborn as sns\n",
        "import statsmodels.api as sm"
      ]
    },
    {
      "cell_type": "markdown",
      "source": [
        "## Determine Risk Exposures"
      ],
      "metadata": {
        "id": "YorI0uy8wR0W"
      }
    },
    {
      "cell_type": "code",
      "execution_count": null,
      "metadata": {
        "id": "s0UWbO-03yvU"
      },
      "outputs": [],
      "source": [
        "#load the data files\n",
        "data = pd.read_csv('Project-2017-21-Returns.csv')\n",
        "ff_factors = pd.read_csv('FF-Factors-2017-2021.csv')"
      ]
    },
    {
      "cell_type": "code",
      "execution_count": null,
      "metadata": {
        "colab": {
          "base_uri": "https://localhost:8080/"
        },
        "id": "DQpdQd1_3wRk",
        "outputId": "b3809b5e-5df9-4501-f280-d3ca5d5b3c3a"
      },
      "outputs": [
        {
          "output_type": "stream",
          "name": "stdout",
          "text": [
            "<class 'pandas.core.frame.DataFrame'>\n",
            "RangeIndex: 114715 entries, 0 to 114714\n",
            "Data columns (total 4 columns):\n",
            " #   Column  Non-Null Count   Dtype \n",
            "---  ------  --------------   ----- \n",
            " 0   PERMNO  114715 non-null  int64 \n",
            " 1   date    114715 non-null  int64 \n",
            " 2   TICKER  114653 non-null  object\n",
            " 3   RET     114700 non-null  object\n",
            "dtypes: int64(2), object(2)\n",
            "memory usage: 3.5+ MB\n"
          ]
        }
      ],
      "source": [
        "#initial check\n",
        "data.info()"
      ]
    },
    {
      "cell_type": "code",
      "execution_count": null,
      "metadata": {
        "colab": {
          "base_uri": "https://localhost:8080/",
          "height": 206
        },
        "id": "x7hq8cFm32Ex",
        "outputId": "6a23d716-181a-4329-c4f3-b49018ae065a"
      },
      "outputs": [
        {
          "output_type": "execute_result",
          "data": {
            "text/plain": [
              "   PERMNO      date TICKER        RET\n",
              "0   10026  20170131   JJSF  -0.043918\n",
              "1   10026  20170228   JJSF   0.048836\n",
              "2   10026  20170331   JJSF   0.016293\n",
              "3   10026  20170428   JJSF  -0.007229\n",
              "4   10026  20170531   JJSF  -0.033289"
            ],
            "text/html": [
              "\n",
              "  <div id=\"df-b68f13fc-2746-4c87-a91c-348a33803bfa\">\n",
              "    <div class=\"colab-df-container\">\n",
              "      <div>\n",
              "<style scoped>\n",
              "    .dataframe tbody tr th:only-of-type {\n",
              "        vertical-align: middle;\n",
              "    }\n",
              "\n",
              "    .dataframe tbody tr th {\n",
              "        vertical-align: top;\n",
              "    }\n",
              "\n",
              "    .dataframe thead th {\n",
              "        text-align: right;\n",
              "    }\n",
              "</style>\n",
              "<table border=\"1\" class=\"dataframe\">\n",
              "  <thead>\n",
              "    <tr style=\"text-align: right;\">\n",
              "      <th></th>\n",
              "      <th>PERMNO</th>\n",
              "      <th>date</th>\n",
              "      <th>TICKER</th>\n",
              "      <th>RET</th>\n",
              "    </tr>\n",
              "  </thead>\n",
              "  <tbody>\n",
              "    <tr>\n",
              "      <th>0</th>\n",
              "      <td>10026</td>\n",
              "      <td>20170131</td>\n",
              "      <td>JJSF</td>\n",
              "      <td>-0.043918</td>\n",
              "    </tr>\n",
              "    <tr>\n",
              "      <th>1</th>\n",
              "      <td>10026</td>\n",
              "      <td>20170228</td>\n",
              "      <td>JJSF</td>\n",
              "      <td>0.048836</td>\n",
              "    </tr>\n",
              "    <tr>\n",
              "      <th>2</th>\n",
              "      <td>10026</td>\n",
              "      <td>20170331</td>\n",
              "      <td>JJSF</td>\n",
              "      <td>0.016293</td>\n",
              "    </tr>\n",
              "    <tr>\n",
              "      <th>3</th>\n",
              "      <td>10026</td>\n",
              "      <td>20170428</td>\n",
              "      <td>JJSF</td>\n",
              "      <td>-0.007229</td>\n",
              "    </tr>\n",
              "    <tr>\n",
              "      <th>4</th>\n",
              "      <td>10026</td>\n",
              "      <td>20170531</td>\n",
              "      <td>JJSF</td>\n",
              "      <td>-0.033289</td>\n",
              "    </tr>\n",
              "  </tbody>\n",
              "</table>\n",
              "</div>\n",
              "      <button class=\"colab-df-convert\" onclick=\"convertToInteractive('df-b68f13fc-2746-4c87-a91c-348a33803bfa')\"\n",
              "              title=\"Convert this dataframe to an interactive table.\"\n",
              "              style=\"display:none;\">\n",
              "        \n",
              "  <svg xmlns=\"http://www.w3.org/2000/svg\" height=\"24px\"viewBox=\"0 0 24 24\"\n",
              "       width=\"24px\">\n",
              "    <path d=\"M0 0h24v24H0V0z\" fill=\"none\"/>\n",
              "    <path d=\"M18.56 5.44l.94 2.06.94-2.06 2.06-.94-2.06-.94-.94-2.06-.94 2.06-2.06.94zm-11 1L8.5 8.5l.94-2.06 2.06-.94-2.06-.94L8.5 2.5l-.94 2.06-2.06.94zm10 10l.94 2.06.94-2.06 2.06-.94-2.06-.94-.94-2.06-.94 2.06-2.06.94z\"/><path d=\"M17.41 7.96l-1.37-1.37c-.4-.4-.92-.59-1.43-.59-.52 0-1.04.2-1.43.59L10.3 9.45l-7.72 7.72c-.78.78-.78 2.05 0 2.83L4 21.41c.39.39.9.59 1.41.59.51 0 1.02-.2 1.41-.59l7.78-7.78 2.81-2.81c.8-.78.8-2.07 0-2.86zM5.41 20L4 18.59l7.72-7.72 1.47 1.35L5.41 20z\"/>\n",
              "  </svg>\n",
              "      </button>\n",
              "      \n",
              "  <style>\n",
              "    .colab-df-container {\n",
              "      display:flex;\n",
              "      flex-wrap:wrap;\n",
              "      gap: 12px;\n",
              "    }\n",
              "\n",
              "    .colab-df-convert {\n",
              "      background-color: #E8F0FE;\n",
              "      border: none;\n",
              "      border-radius: 50%;\n",
              "      cursor: pointer;\n",
              "      display: none;\n",
              "      fill: #1967D2;\n",
              "      height: 32px;\n",
              "      padding: 0 0 0 0;\n",
              "      width: 32px;\n",
              "    }\n",
              "\n",
              "    .colab-df-convert:hover {\n",
              "      background-color: #E2EBFA;\n",
              "      box-shadow: 0px 1px 2px rgba(60, 64, 67, 0.3), 0px 1px 3px 1px rgba(60, 64, 67, 0.15);\n",
              "      fill: #174EA6;\n",
              "    }\n",
              "\n",
              "    [theme=dark] .colab-df-convert {\n",
              "      background-color: #3B4455;\n",
              "      fill: #D2E3FC;\n",
              "    }\n",
              "\n",
              "    [theme=dark] .colab-df-convert:hover {\n",
              "      background-color: #434B5C;\n",
              "      box-shadow: 0px 1px 3px 1px rgba(0, 0, 0, 0.15);\n",
              "      filter: drop-shadow(0px 1px 2px rgba(0, 0, 0, 0.3));\n",
              "      fill: #FFFFFF;\n",
              "    }\n",
              "  </style>\n",
              "\n",
              "      <script>\n",
              "        const buttonEl =\n",
              "          document.querySelector('#df-b68f13fc-2746-4c87-a91c-348a33803bfa button.colab-df-convert');\n",
              "        buttonEl.style.display =\n",
              "          google.colab.kernel.accessAllowed ? 'block' : 'none';\n",
              "\n",
              "        async function convertToInteractive(key) {\n",
              "          const element = document.querySelector('#df-b68f13fc-2746-4c87-a91c-348a33803bfa');\n",
              "          const dataTable =\n",
              "            await google.colab.kernel.invokeFunction('convertToInteractive',\n",
              "                                                     [key], {});\n",
              "          if (!dataTable) return;\n",
              "\n",
              "          const docLinkHtml = 'Like what you see? Visit the ' +\n",
              "            '<a target=\"_blank\" href=https://colab.research.google.com/notebooks/data_table.ipynb>data table notebook</a>'\n",
              "            + ' to learn more about interactive tables.';\n",
              "          element.innerHTML = '';\n",
              "          dataTable['output_type'] = 'display_data';\n",
              "          await google.colab.output.renderOutput(dataTable, element);\n",
              "          const docLink = document.createElement('div');\n",
              "          docLink.innerHTML = docLinkHtml;\n",
              "          element.appendChild(docLink);\n",
              "        }\n",
              "      </script>\n",
              "    </div>\n",
              "  </div>\n",
              "  "
            ]
          },
          "metadata": {},
          "execution_count": 4
        }
      ],
      "source": [
        "data.head()"
      ]
    },
    {
      "cell_type": "code",
      "source": [
        "#replace string with null values and fill na with mean\n",
        "data['RET'] = data['RET'].replace([\"C\",\"B\"], np.nan).astype('float')\n",
        "\n",
        "mean_value=data['RET'].mean()\n",
        "data['RET'].fillna(mean_value,inplace=True)"
      ],
      "metadata": {
        "id": "3KNMA1q5ngVi"
      },
      "execution_count": null,
      "outputs": []
    },
    {
      "cell_type": "code",
      "execution_count": null,
      "metadata": {
        "colab": {
          "base_uri": "https://localhost:8080/",
          "height": 206
        },
        "id": "aLuBRjBe487n",
        "outputId": "fc375f0b-9b1a-45cf-c318-acfa21660399"
      },
      "outputs": [
        {
          "output_type": "execute_result",
          "data": {
            "text/plain": [
              "     dateff   mktrf     smb     hml      rf\n",
              "0  20170131  0.0194 -0.0113 -0.0274  0.0004\n",
              "1  20170228  0.0357 -0.0204 -0.0167  0.0004\n",
              "2  20170331  0.0017  0.0113 -0.0333  0.0003\n",
              "3  20170428  0.0109  0.0072 -0.0213  0.0005\n",
              "4  20170531  0.0106 -0.0252 -0.0375  0.0006"
            ],
            "text/html": [
              "\n",
              "  <div id=\"df-fd5902f1-25f8-4fa1-9451-b4b490f7667b\">\n",
              "    <div class=\"colab-df-container\">\n",
              "      <div>\n",
              "<style scoped>\n",
              "    .dataframe tbody tr th:only-of-type {\n",
              "        vertical-align: middle;\n",
              "    }\n",
              "\n",
              "    .dataframe tbody tr th {\n",
              "        vertical-align: top;\n",
              "    }\n",
              "\n",
              "    .dataframe thead th {\n",
              "        text-align: right;\n",
              "    }\n",
              "</style>\n",
              "<table border=\"1\" class=\"dataframe\">\n",
              "  <thead>\n",
              "    <tr style=\"text-align: right;\">\n",
              "      <th></th>\n",
              "      <th>dateff</th>\n",
              "      <th>mktrf</th>\n",
              "      <th>smb</th>\n",
              "      <th>hml</th>\n",
              "      <th>rf</th>\n",
              "    </tr>\n",
              "  </thead>\n",
              "  <tbody>\n",
              "    <tr>\n",
              "      <th>0</th>\n",
              "      <td>20170131</td>\n",
              "      <td>0.0194</td>\n",
              "      <td>-0.0113</td>\n",
              "      <td>-0.0274</td>\n",
              "      <td>0.0004</td>\n",
              "    </tr>\n",
              "    <tr>\n",
              "      <th>1</th>\n",
              "      <td>20170228</td>\n",
              "      <td>0.0357</td>\n",
              "      <td>-0.0204</td>\n",
              "      <td>-0.0167</td>\n",
              "      <td>0.0004</td>\n",
              "    </tr>\n",
              "    <tr>\n",
              "      <th>2</th>\n",
              "      <td>20170331</td>\n",
              "      <td>0.0017</td>\n",
              "      <td>0.0113</td>\n",
              "      <td>-0.0333</td>\n",
              "      <td>0.0003</td>\n",
              "    </tr>\n",
              "    <tr>\n",
              "      <th>3</th>\n",
              "      <td>20170428</td>\n",
              "      <td>0.0109</td>\n",
              "      <td>0.0072</td>\n",
              "      <td>-0.0213</td>\n",
              "      <td>0.0005</td>\n",
              "    </tr>\n",
              "    <tr>\n",
              "      <th>4</th>\n",
              "      <td>20170531</td>\n",
              "      <td>0.0106</td>\n",
              "      <td>-0.0252</td>\n",
              "      <td>-0.0375</td>\n",
              "      <td>0.0006</td>\n",
              "    </tr>\n",
              "  </tbody>\n",
              "</table>\n",
              "</div>\n",
              "      <button class=\"colab-df-convert\" onclick=\"convertToInteractive('df-fd5902f1-25f8-4fa1-9451-b4b490f7667b')\"\n",
              "              title=\"Convert this dataframe to an interactive table.\"\n",
              "              style=\"display:none;\">\n",
              "        \n",
              "  <svg xmlns=\"http://www.w3.org/2000/svg\" height=\"24px\"viewBox=\"0 0 24 24\"\n",
              "       width=\"24px\">\n",
              "    <path d=\"M0 0h24v24H0V0z\" fill=\"none\"/>\n",
              "    <path d=\"M18.56 5.44l.94 2.06.94-2.06 2.06-.94-2.06-.94-.94-2.06-.94 2.06-2.06.94zm-11 1L8.5 8.5l.94-2.06 2.06-.94-2.06-.94L8.5 2.5l-.94 2.06-2.06.94zm10 10l.94 2.06.94-2.06 2.06-.94-2.06-.94-.94-2.06-.94 2.06-2.06.94z\"/><path d=\"M17.41 7.96l-1.37-1.37c-.4-.4-.92-.59-1.43-.59-.52 0-1.04.2-1.43.59L10.3 9.45l-7.72 7.72c-.78.78-.78 2.05 0 2.83L4 21.41c.39.39.9.59 1.41.59.51 0 1.02-.2 1.41-.59l7.78-7.78 2.81-2.81c.8-.78.8-2.07 0-2.86zM5.41 20L4 18.59l7.72-7.72 1.47 1.35L5.41 20z\"/>\n",
              "  </svg>\n",
              "      </button>\n",
              "      \n",
              "  <style>\n",
              "    .colab-df-container {\n",
              "      display:flex;\n",
              "      flex-wrap:wrap;\n",
              "      gap: 12px;\n",
              "    }\n",
              "\n",
              "    .colab-df-convert {\n",
              "      background-color: #E8F0FE;\n",
              "      border: none;\n",
              "      border-radius: 50%;\n",
              "      cursor: pointer;\n",
              "      display: none;\n",
              "      fill: #1967D2;\n",
              "      height: 32px;\n",
              "      padding: 0 0 0 0;\n",
              "      width: 32px;\n",
              "    }\n",
              "\n",
              "    .colab-df-convert:hover {\n",
              "      background-color: #E2EBFA;\n",
              "      box-shadow: 0px 1px 2px rgba(60, 64, 67, 0.3), 0px 1px 3px 1px rgba(60, 64, 67, 0.15);\n",
              "      fill: #174EA6;\n",
              "    }\n",
              "\n",
              "    [theme=dark] .colab-df-convert {\n",
              "      background-color: #3B4455;\n",
              "      fill: #D2E3FC;\n",
              "    }\n",
              "\n",
              "    [theme=dark] .colab-df-convert:hover {\n",
              "      background-color: #434B5C;\n",
              "      box-shadow: 0px 1px 3px 1px rgba(0, 0, 0, 0.15);\n",
              "      filter: drop-shadow(0px 1px 2px rgba(0, 0, 0, 0.3));\n",
              "      fill: #FFFFFF;\n",
              "    }\n",
              "  </style>\n",
              "\n",
              "      <script>\n",
              "        const buttonEl =\n",
              "          document.querySelector('#df-fd5902f1-25f8-4fa1-9451-b4b490f7667b button.colab-df-convert');\n",
              "        buttonEl.style.display =\n",
              "          google.colab.kernel.accessAllowed ? 'block' : 'none';\n",
              "\n",
              "        async function convertToInteractive(key) {\n",
              "          const element = document.querySelector('#df-fd5902f1-25f8-4fa1-9451-b4b490f7667b');\n",
              "          const dataTable =\n",
              "            await google.colab.kernel.invokeFunction('convertToInteractive',\n",
              "                                                     [key], {});\n",
              "          if (!dataTable) return;\n",
              "\n",
              "          const docLinkHtml = 'Like what you see? Visit the ' +\n",
              "            '<a target=\"_blank\" href=https://colab.research.google.com/notebooks/data_table.ipynb>data table notebook</a>'\n",
              "            + ' to learn more about interactive tables.';\n",
              "          element.innerHTML = '';\n",
              "          dataTable['output_type'] = 'display_data';\n",
              "          await google.colab.output.renderOutput(dataTable, element);\n",
              "          const docLink = document.createElement('div');\n",
              "          docLink.innerHTML = docLinkHtml;\n",
              "          element.appendChild(docLink);\n",
              "        }\n",
              "      </script>\n",
              "    </div>\n",
              "  </div>\n",
              "  "
            ]
          },
          "metadata": {},
          "execution_count": 6
        }
      ],
      "source": [
        "ff_factors.head()"
      ]
    },
    {
      "cell_type": "code",
      "execution_count": null,
      "metadata": {
        "colab": {
          "base_uri": "https://localhost:8080/",
          "height": 423
        },
        "id": "zIFHh3cY4yAU",
        "outputId": "09cf9dcb-4b5a-4ba6-dd0e-eaaaa0be0386"
      },
      "outputs": [
        {
          "output_type": "execute_result",
          "data": {
            "text/plain": [
              "        PERMNO      date TICKER       RET    dateff   mktrf     smb     hml  \\\n",
              "0        10026  20170131   JJSF -0.043918  20170131  0.0194 -0.0113 -0.0274   \n",
              "1        10026  20170228   JJSF  0.048836  20170228  0.0357 -0.0204 -0.0167   \n",
              "2        10026  20170331   JJSF  0.016293  20170331  0.0017  0.0113 -0.0333   \n",
              "3        10026  20170428   JJSF -0.007229  20170428  0.0109  0.0072 -0.0213   \n",
              "4        10026  20170531   JJSF -0.033289  20170531  0.0106 -0.0252 -0.0375   \n",
              "...        ...       ...    ...       ...       ...     ...     ...     ...   \n",
              "114710   93436  20210831   TSLA  0.070605  20210831  0.0290 -0.0048 -0.0013   \n",
              "114711   93436  20210930   TSLA  0.054042  20210930 -0.0437  0.0080  0.0509   \n",
              "114712   93436  20211029   TSLA  0.436530  20211029  0.0665 -0.0228 -0.0044   \n",
              "114713   93436  20211130   TSLA  0.027612  20211130 -0.0155 -0.0135 -0.0053   \n",
              "114714   93436  20211231   TSLA -0.076855  20211231  0.0310 -0.0157  0.0323   \n",
              "\n",
              "            rf  \n",
              "0       0.0004  \n",
              "1       0.0004  \n",
              "2       0.0003  \n",
              "3       0.0005  \n",
              "4       0.0006  \n",
              "...        ...  \n",
              "114710  0.0000  \n",
              "114711  0.0000  \n",
              "114712  0.0000  \n",
              "114713  0.0000  \n",
              "114714  0.0001  \n",
              "\n",
              "[114715 rows x 9 columns]"
            ],
            "text/html": [
              "\n",
              "  <div id=\"df-c8971fdb-2b34-4a45-b5a1-2abda15465d8\">\n",
              "    <div class=\"colab-df-container\">\n",
              "      <div>\n",
              "<style scoped>\n",
              "    .dataframe tbody tr th:only-of-type {\n",
              "        vertical-align: middle;\n",
              "    }\n",
              "\n",
              "    .dataframe tbody tr th {\n",
              "        vertical-align: top;\n",
              "    }\n",
              "\n",
              "    .dataframe thead th {\n",
              "        text-align: right;\n",
              "    }\n",
              "</style>\n",
              "<table border=\"1\" class=\"dataframe\">\n",
              "  <thead>\n",
              "    <tr style=\"text-align: right;\">\n",
              "      <th></th>\n",
              "      <th>PERMNO</th>\n",
              "      <th>date</th>\n",
              "      <th>TICKER</th>\n",
              "      <th>RET</th>\n",
              "      <th>dateff</th>\n",
              "      <th>mktrf</th>\n",
              "      <th>smb</th>\n",
              "      <th>hml</th>\n",
              "      <th>rf</th>\n",
              "    </tr>\n",
              "  </thead>\n",
              "  <tbody>\n",
              "    <tr>\n",
              "      <th>0</th>\n",
              "      <td>10026</td>\n",
              "      <td>20170131</td>\n",
              "      <td>JJSF</td>\n",
              "      <td>-0.043918</td>\n",
              "      <td>20170131</td>\n",
              "      <td>0.0194</td>\n",
              "      <td>-0.0113</td>\n",
              "      <td>-0.0274</td>\n",
              "      <td>0.0004</td>\n",
              "    </tr>\n",
              "    <tr>\n",
              "      <th>1</th>\n",
              "      <td>10026</td>\n",
              "      <td>20170228</td>\n",
              "      <td>JJSF</td>\n",
              "      <td>0.048836</td>\n",
              "      <td>20170228</td>\n",
              "      <td>0.0357</td>\n",
              "      <td>-0.0204</td>\n",
              "      <td>-0.0167</td>\n",
              "      <td>0.0004</td>\n",
              "    </tr>\n",
              "    <tr>\n",
              "      <th>2</th>\n",
              "      <td>10026</td>\n",
              "      <td>20170331</td>\n",
              "      <td>JJSF</td>\n",
              "      <td>0.016293</td>\n",
              "      <td>20170331</td>\n",
              "      <td>0.0017</td>\n",
              "      <td>0.0113</td>\n",
              "      <td>-0.0333</td>\n",
              "      <td>0.0003</td>\n",
              "    </tr>\n",
              "    <tr>\n",
              "      <th>3</th>\n",
              "      <td>10026</td>\n",
              "      <td>20170428</td>\n",
              "      <td>JJSF</td>\n",
              "      <td>-0.007229</td>\n",
              "      <td>20170428</td>\n",
              "      <td>0.0109</td>\n",
              "      <td>0.0072</td>\n",
              "      <td>-0.0213</td>\n",
              "      <td>0.0005</td>\n",
              "    </tr>\n",
              "    <tr>\n",
              "      <th>4</th>\n",
              "      <td>10026</td>\n",
              "      <td>20170531</td>\n",
              "      <td>JJSF</td>\n",
              "      <td>-0.033289</td>\n",
              "      <td>20170531</td>\n",
              "      <td>0.0106</td>\n",
              "      <td>-0.0252</td>\n",
              "      <td>-0.0375</td>\n",
              "      <td>0.0006</td>\n",
              "    </tr>\n",
              "    <tr>\n",
              "      <th>...</th>\n",
              "      <td>...</td>\n",
              "      <td>...</td>\n",
              "      <td>...</td>\n",
              "      <td>...</td>\n",
              "      <td>...</td>\n",
              "      <td>...</td>\n",
              "      <td>...</td>\n",
              "      <td>...</td>\n",
              "      <td>...</td>\n",
              "    </tr>\n",
              "    <tr>\n",
              "      <th>114710</th>\n",
              "      <td>93436</td>\n",
              "      <td>20210831</td>\n",
              "      <td>TSLA</td>\n",
              "      <td>0.070605</td>\n",
              "      <td>20210831</td>\n",
              "      <td>0.0290</td>\n",
              "      <td>-0.0048</td>\n",
              "      <td>-0.0013</td>\n",
              "      <td>0.0000</td>\n",
              "    </tr>\n",
              "    <tr>\n",
              "      <th>114711</th>\n",
              "      <td>93436</td>\n",
              "      <td>20210930</td>\n",
              "      <td>TSLA</td>\n",
              "      <td>0.054042</td>\n",
              "      <td>20210930</td>\n",
              "      <td>-0.0437</td>\n",
              "      <td>0.0080</td>\n",
              "      <td>0.0509</td>\n",
              "      <td>0.0000</td>\n",
              "    </tr>\n",
              "    <tr>\n",
              "      <th>114712</th>\n",
              "      <td>93436</td>\n",
              "      <td>20211029</td>\n",
              "      <td>TSLA</td>\n",
              "      <td>0.436530</td>\n",
              "      <td>20211029</td>\n",
              "      <td>0.0665</td>\n",
              "      <td>-0.0228</td>\n",
              "      <td>-0.0044</td>\n",
              "      <td>0.0000</td>\n",
              "    </tr>\n",
              "    <tr>\n",
              "      <th>114713</th>\n",
              "      <td>93436</td>\n",
              "      <td>20211130</td>\n",
              "      <td>TSLA</td>\n",
              "      <td>0.027612</td>\n",
              "      <td>20211130</td>\n",
              "      <td>-0.0155</td>\n",
              "      <td>-0.0135</td>\n",
              "      <td>-0.0053</td>\n",
              "      <td>0.0000</td>\n",
              "    </tr>\n",
              "    <tr>\n",
              "      <th>114714</th>\n",
              "      <td>93436</td>\n",
              "      <td>20211231</td>\n",
              "      <td>TSLA</td>\n",
              "      <td>-0.076855</td>\n",
              "      <td>20211231</td>\n",
              "      <td>0.0310</td>\n",
              "      <td>-0.0157</td>\n",
              "      <td>0.0323</td>\n",
              "      <td>0.0001</td>\n",
              "    </tr>\n",
              "  </tbody>\n",
              "</table>\n",
              "<p>114715 rows × 9 columns</p>\n",
              "</div>\n",
              "      <button class=\"colab-df-convert\" onclick=\"convertToInteractive('df-c8971fdb-2b34-4a45-b5a1-2abda15465d8')\"\n",
              "              title=\"Convert this dataframe to an interactive table.\"\n",
              "              style=\"display:none;\">\n",
              "        \n",
              "  <svg xmlns=\"http://www.w3.org/2000/svg\" height=\"24px\"viewBox=\"0 0 24 24\"\n",
              "       width=\"24px\">\n",
              "    <path d=\"M0 0h24v24H0V0z\" fill=\"none\"/>\n",
              "    <path d=\"M18.56 5.44l.94 2.06.94-2.06 2.06-.94-2.06-.94-.94-2.06-.94 2.06-2.06.94zm-11 1L8.5 8.5l.94-2.06 2.06-.94-2.06-.94L8.5 2.5l-.94 2.06-2.06.94zm10 10l.94 2.06.94-2.06 2.06-.94-2.06-.94-.94-2.06-.94 2.06-2.06.94z\"/><path d=\"M17.41 7.96l-1.37-1.37c-.4-.4-.92-.59-1.43-.59-.52 0-1.04.2-1.43.59L10.3 9.45l-7.72 7.72c-.78.78-.78 2.05 0 2.83L4 21.41c.39.39.9.59 1.41.59.51 0 1.02-.2 1.41-.59l7.78-7.78 2.81-2.81c.8-.78.8-2.07 0-2.86zM5.41 20L4 18.59l7.72-7.72 1.47 1.35L5.41 20z\"/>\n",
              "  </svg>\n",
              "      </button>\n",
              "      \n",
              "  <style>\n",
              "    .colab-df-container {\n",
              "      display:flex;\n",
              "      flex-wrap:wrap;\n",
              "      gap: 12px;\n",
              "    }\n",
              "\n",
              "    .colab-df-convert {\n",
              "      background-color: #E8F0FE;\n",
              "      border: none;\n",
              "      border-radius: 50%;\n",
              "      cursor: pointer;\n",
              "      display: none;\n",
              "      fill: #1967D2;\n",
              "      height: 32px;\n",
              "      padding: 0 0 0 0;\n",
              "      width: 32px;\n",
              "    }\n",
              "\n",
              "    .colab-df-convert:hover {\n",
              "      background-color: #E2EBFA;\n",
              "      box-shadow: 0px 1px 2px rgba(60, 64, 67, 0.3), 0px 1px 3px 1px rgba(60, 64, 67, 0.15);\n",
              "      fill: #174EA6;\n",
              "    }\n",
              "\n",
              "    [theme=dark] .colab-df-convert {\n",
              "      background-color: #3B4455;\n",
              "      fill: #D2E3FC;\n",
              "    }\n",
              "\n",
              "    [theme=dark] .colab-df-convert:hover {\n",
              "      background-color: #434B5C;\n",
              "      box-shadow: 0px 1px 3px 1px rgba(0, 0, 0, 0.15);\n",
              "      filter: drop-shadow(0px 1px 2px rgba(0, 0, 0, 0.3));\n",
              "      fill: #FFFFFF;\n",
              "    }\n",
              "  </style>\n",
              "\n",
              "      <script>\n",
              "        const buttonEl =\n",
              "          document.querySelector('#df-c8971fdb-2b34-4a45-b5a1-2abda15465d8 button.colab-df-convert');\n",
              "        buttonEl.style.display =\n",
              "          google.colab.kernel.accessAllowed ? 'block' : 'none';\n",
              "\n",
              "        async function convertToInteractive(key) {\n",
              "          const element = document.querySelector('#df-c8971fdb-2b34-4a45-b5a1-2abda15465d8');\n",
              "          const dataTable =\n",
              "            await google.colab.kernel.invokeFunction('convertToInteractive',\n",
              "                                                     [key], {});\n",
              "          if (!dataTable) return;\n",
              "\n",
              "          const docLinkHtml = 'Like what you see? Visit the ' +\n",
              "            '<a target=\"_blank\" href=https://colab.research.google.com/notebooks/data_table.ipynb>data table notebook</a>'\n",
              "            + ' to learn more about interactive tables.';\n",
              "          element.innerHTML = '';\n",
              "          dataTable['output_type'] = 'display_data';\n",
              "          await google.colab.output.renderOutput(dataTable, element);\n",
              "          const docLink = document.createElement('div');\n",
              "          docLink.innerHTML = docLinkHtml;\n",
              "          element.appendChild(docLink);\n",
              "        }\n",
              "      </script>\n",
              "    </div>\n",
              "  </div>\n",
              "  "
            ]
          },
          "metadata": {},
          "execution_count": 7
        }
      ],
      "source": [
        "#merge two files based on date\n",
        "data_ff = pd.merge(data,ff_factors,left_on='date',right_on='dateff',how='left')\n",
        "data_ff"
      ]
    },
    {
      "cell_type": "code",
      "execution_count": null,
      "metadata": {
        "colab": {
          "base_uri": "https://localhost:8080/"
        },
        "id": "f0xmzm415l7Y",
        "outputId": "3be26ff8-9dbf-4cda-a768-c5ec49439441"
      },
      "outputs": [
        {
          "output_type": "execute_result",
          "data": {
            "text/plain": [
              "PERMNO     0\n",
              "date       0\n",
              "TICKER    62\n",
              "RET        0\n",
              "dateff     0\n",
              "mktrf      0\n",
              "smb        0\n",
              "hml        0\n",
              "rf         0\n",
              "dtype: int64"
            ]
          },
          "metadata": {},
          "execution_count": 8
        }
      ],
      "source": [
        "#make sure no null values\n",
        "data_ff.isnull().sum()"
      ]
    },
    {
      "cell_type": "markdown",
      "metadata": {
        "id": "ceYeaGvh5vZn"
      },
      "source": [
        "a. Similar to Assignment #3, calculate the Fama-French Risk Exposures for\n",
        "the list of 3,000 tickers for (i) Market Risk Exposure; (ii) Size Risk\n",
        "Exposure; and (iii) Value/Distress Risk Expsoure.\n",
        "\n",
        "* $[Ret(MSFT)-Rf] = alpha + B1(RetMkt-Rf) + b2(SMB) + b3(HML) + e$"
      ]
    },
    {
      "cell_type": "code",
      "source": [
        "#get a list of all the unique tickers\n",
        "companies = data.TICKER.unique()\n",
        "#create empty lists for all the regression outputs we want to store\n",
        "Ticker = []\n",
        "R_squared = []\n",
        "Adj_R_squared = []\n",
        "Parameters = []\n",
        "for name in companies:\n",
        " #merge to FF data for all 100 copmanies using ticker and date\n",
        " df_ticker = data_ff\n",
        " #establish the x and y variables\n",
        " y = df_ticker[\"RET\"] - df_ticker[\"rf\"]\n",
        " X = df_ticker[['mktrf' , 'smb' , 'hml']]\n",
        " # Use statsmodels\n",
        " X = sm.add_constant(X) # adding a constant\n",
        " model = sm.OLS(y, X).fit()\n",
        " results_summary = model.summary()\n",
        " #append the regression outputs to the appropriate empty list create above\n",
        " Ticker.append(name)\n",
        " R_squared.append(model.rsquared)\n",
        " Adj_R_squared.append(model.rsquared_adj)\n",
        " Parameters.append(model.params)\n",
        "#store the regression outputs as dataframes to be used in following steps\n",
        "dfTicker = pd.DataFrame(Ticker)\n",
        "dfR_squared = pd.DataFrame(R_squared)\n",
        "dfAdj_R_squared = pd.DataFrame(Adj_R_squared)\n",
        "dfParameters = pd.DataFrame(Parameters)"
      ],
      "metadata": {
        "colab": {
          "base_uri": "https://localhost:8080/"
        },
        "id": "S9I9CCPbubVt",
        "outputId": "36ef054c-05bb-4636-9d99-105f22bbe314"
      },
      "execution_count": null,
      "outputs": [
        {
          "output_type": "stream",
          "name": "stderr",
          "text": [
            "/usr/local/lib/python3.7/dist-packages/statsmodels/tsa/tsatools.py:117: FutureWarning: In a future version of pandas all arguments of concat except for the argument 'objs' will be keyword-only\n",
            "  x = pd.concat(x[::order], 1)\n"
          ]
        }
      ]
    },
    {
      "cell_type": "code",
      "source": [
        "#creat a dataframe to store all Risk Exposure values\n",
        "Final = pd.DataFrame({'TICKER' : dfTicker[0]})\n",
        "Final['R_squared'] = dfR_squared\n",
        "Final['Adj_R_squared'] = dfAdj_R_squared\n",
        "Final['const'] = dfParameters['const']\n",
        "Final['mktrf'] = dfParameters['mktrf']\n",
        "Final['smb'] = dfParameters['smb']\n",
        "Final['hml'] = dfParameters['hml']"
      ],
      "metadata": {
        "id": "LCvw_ly3uxnj"
      },
      "execution_count": null,
      "outputs": []
    },
    {
      "cell_type": "code",
      "source": [
        "Final.info()"
      ],
      "metadata": {
        "colab": {
          "base_uri": "https://localhost:8080/"
        },
        "id": "mVze7Y0KvE3w",
        "outputId": "aa800909-f189-45aa-d460-1e50e0bf2f22"
      },
      "execution_count": null,
      "outputs": [
        {
          "output_type": "stream",
          "name": "stdout",
          "text": [
            "<class 'pandas.core.frame.DataFrame'>\n",
            "RangeIndex: 1925 entries, 0 to 1924\n",
            "Data columns (total 7 columns):\n",
            " #   Column         Non-Null Count  Dtype  \n",
            "---  ------         --------------  -----  \n",
            " 0   TICKER         1924 non-null   object \n",
            " 1   R_squared      1925 non-null   float64\n",
            " 2   Adj_R_squared  1925 non-null   float64\n",
            " 3   const          1925 non-null   float64\n",
            " 4   mktrf          1925 non-null   float64\n",
            " 5   smb            1925 non-null   float64\n",
            " 6   hml            1925 non-null   float64\n",
            "dtypes: float64(6), object(1)\n",
            "memory usage: 105.4+ KB\n"
          ]
        }
      ]
    },
    {
      "cell_type": "code",
      "source": [
        "Final.head()"
      ],
      "metadata": {
        "colab": {
          "base_uri": "https://localhost:8080/",
          "height": 206
        },
        "id": "fjB6UtyDvF8T",
        "outputId": "d5134b17-3896-4a0b-a198-90796085d9d2"
      },
      "execution_count": null,
      "outputs": [
        {
          "output_type": "execute_result",
          "data": {
            "text/plain": [
              "  TICKER  R_squared  Adj_R_squared     const     mktrf       smb       hml\n",
              "0   JJSF   0.151523       0.151501  0.004124  1.067576  0.665104  0.317125\n",
              "1   PLXS   0.151523       0.151501  0.004124  1.067576  0.665104  0.317125\n",
              "2   ORCL   0.151523       0.151501  0.004124  1.067576  0.665104  0.317125\n",
              "3   MSFT   0.151523       0.151501  0.004124  1.067576  0.665104  0.317125\n",
              "4   TROW   0.151523       0.151501  0.004124  1.067576  0.665104  0.317125"
            ],
            "text/html": [
              "\n",
              "  <div id=\"df-df9d0876-2885-4516-adc7-80c604a26066\">\n",
              "    <div class=\"colab-df-container\">\n",
              "      <div>\n",
              "<style scoped>\n",
              "    .dataframe tbody tr th:only-of-type {\n",
              "        vertical-align: middle;\n",
              "    }\n",
              "\n",
              "    .dataframe tbody tr th {\n",
              "        vertical-align: top;\n",
              "    }\n",
              "\n",
              "    .dataframe thead th {\n",
              "        text-align: right;\n",
              "    }\n",
              "</style>\n",
              "<table border=\"1\" class=\"dataframe\">\n",
              "  <thead>\n",
              "    <tr style=\"text-align: right;\">\n",
              "      <th></th>\n",
              "      <th>TICKER</th>\n",
              "      <th>R_squared</th>\n",
              "      <th>Adj_R_squared</th>\n",
              "      <th>const</th>\n",
              "      <th>mktrf</th>\n",
              "      <th>smb</th>\n",
              "      <th>hml</th>\n",
              "    </tr>\n",
              "  </thead>\n",
              "  <tbody>\n",
              "    <tr>\n",
              "      <th>0</th>\n",
              "      <td>JJSF</td>\n",
              "      <td>0.151523</td>\n",
              "      <td>0.151501</td>\n",
              "      <td>0.004124</td>\n",
              "      <td>1.067576</td>\n",
              "      <td>0.665104</td>\n",
              "      <td>0.317125</td>\n",
              "    </tr>\n",
              "    <tr>\n",
              "      <th>1</th>\n",
              "      <td>PLXS</td>\n",
              "      <td>0.151523</td>\n",
              "      <td>0.151501</td>\n",
              "      <td>0.004124</td>\n",
              "      <td>1.067576</td>\n",
              "      <td>0.665104</td>\n",
              "      <td>0.317125</td>\n",
              "    </tr>\n",
              "    <tr>\n",
              "      <th>2</th>\n",
              "      <td>ORCL</td>\n",
              "      <td>0.151523</td>\n",
              "      <td>0.151501</td>\n",
              "      <td>0.004124</td>\n",
              "      <td>1.067576</td>\n",
              "      <td>0.665104</td>\n",
              "      <td>0.317125</td>\n",
              "    </tr>\n",
              "    <tr>\n",
              "      <th>3</th>\n",
              "      <td>MSFT</td>\n",
              "      <td>0.151523</td>\n",
              "      <td>0.151501</td>\n",
              "      <td>0.004124</td>\n",
              "      <td>1.067576</td>\n",
              "      <td>0.665104</td>\n",
              "      <td>0.317125</td>\n",
              "    </tr>\n",
              "    <tr>\n",
              "      <th>4</th>\n",
              "      <td>TROW</td>\n",
              "      <td>0.151523</td>\n",
              "      <td>0.151501</td>\n",
              "      <td>0.004124</td>\n",
              "      <td>1.067576</td>\n",
              "      <td>0.665104</td>\n",
              "      <td>0.317125</td>\n",
              "    </tr>\n",
              "  </tbody>\n",
              "</table>\n",
              "</div>\n",
              "      <button class=\"colab-df-convert\" onclick=\"convertToInteractive('df-df9d0876-2885-4516-adc7-80c604a26066')\"\n",
              "              title=\"Convert this dataframe to an interactive table.\"\n",
              "              style=\"display:none;\">\n",
              "        \n",
              "  <svg xmlns=\"http://www.w3.org/2000/svg\" height=\"24px\"viewBox=\"0 0 24 24\"\n",
              "       width=\"24px\">\n",
              "    <path d=\"M0 0h24v24H0V0z\" fill=\"none\"/>\n",
              "    <path d=\"M18.56 5.44l.94 2.06.94-2.06 2.06-.94-2.06-.94-.94-2.06-.94 2.06-2.06.94zm-11 1L8.5 8.5l.94-2.06 2.06-.94-2.06-.94L8.5 2.5l-.94 2.06-2.06.94zm10 10l.94 2.06.94-2.06 2.06-.94-2.06-.94-.94-2.06-.94 2.06-2.06.94z\"/><path d=\"M17.41 7.96l-1.37-1.37c-.4-.4-.92-.59-1.43-.59-.52 0-1.04.2-1.43.59L10.3 9.45l-7.72 7.72c-.78.78-.78 2.05 0 2.83L4 21.41c.39.39.9.59 1.41.59.51 0 1.02-.2 1.41-.59l7.78-7.78 2.81-2.81c.8-.78.8-2.07 0-2.86zM5.41 20L4 18.59l7.72-7.72 1.47 1.35L5.41 20z\"/>\n",
              "  </svg>\n",
              "      </button>\n",
              "      \n",
              "  <style>\n",
              "    .colab-df-container {\n",
              "      display:flex;\n",
              "      flex-wrap:wrap;\n",
              "      gap: 12px;\n",
              "    }\n",
              "\n",
              "    .colab-df-convert {\n",
              "      background-color: #E8F0FE;\n",
              "      border: none;\n",
              "      border-radius: 50%;\n",
              "      cursor: pointer;\n",
              "      display: none;\n",
              "      fill: #1967D2;\n",
              "      height: 32px;\n",
              "      padding: 0 0 0 0;\n",
              "      width: 32px;\n",
              "    }\n",
              "\n",
              "    .colab-df-convert:hover {\n",
              "      background-color: #E2EBFA;\n",
              "      box-shadow: 0px 1px 2px rgba(60, 64, 67, 0.3), 0px 1px 3px 1px rgba(60, 64, 67, 0.15);\n",
              "      fill: #174EA6;\n",
              "    }\n",
              "\n",
              "    [theme=dark] .colab-df-convert {\n",
              "      background-color: #3B4455;\n",
              "      fill: #D2E3FC;\n",
              "    }\n",
              "\n",
              "    [theme=dark] .colab-df-convert:hover {\n",
              "      background-color: #434B5C;\n",
              "      box-shadow: 0px 1px 3px 1px rgba(0, 0, 0, 0.15);\n",
              "      filter: drop-shadow(0px 1px 2px rgba(0, 0, 0, 0.3));\n",
              "      fill: #FFFFFF;\n",
              "    }\n",
              "  </style>\n",
              "\n",
              "      <script>\n",
              "        const buttonEl =\n",
              "          document.querySelector('#df-df9d0876-2885-4516-adc7-80c604a26066 button.colab-df-convert');\n",
              "        buttonEl.style.display =\n",
              "          google.colab.kernel.accessAllowed ? 'block' : 'none';\n",
              "\n",
              "        async function convertToInteractive(key) {\n",
              "          const element = document.querySelector('#df-df9d0876-2885-4516-adc7-80c604a26066');\n",
              "          const dataTable =\n",
              "            await google.colab.kernel.invokeFunction('convertToInteractive',\n",
              "                                                     [key], {});\n",
              "          if (!dataTable) return;\n",
              "\n",
              "          const docLinkHtml = 'Like what you see? Visit the ' +\n",
              "            '<a target=\"_blank\" href=https://colab.research.google.com/notebooks/data_table.ipynb>data table notebook</a>'\n",
              "            + ' to learn more about interactive tables.';\n",
              "          element.innerHTML = '';\n",
              "          dataTable['output_type'] = 'display_data';\n",
              "          await google.colab.output.renderOutput(dataTable, element);\n",
              "          const docLink = document.createElement('div');\n",
              "          docLink.innerHTML = docLinkHtml;\n",
              "          element.appendChild(docLink);\n",
              "        }\n",
              "      </script>\n",
              "    </div>\n",
              "  </div>\n",
              "  "
            ]
          },
          "metadata": {},
          "execution_count": 12
        }
      ]
    },
    {
      "cell_type": "markdown",
      "source": [
        "b. Save the ticker symbol and the 3 exposure values for each stock in the list\n",
        "in a CSV file labelled “FF-Exposures.csv”."
      ],
      "metadata": {
        "id": "3hTJyX7Pv0fl"
      }
    },
    {
      "cell_type": "code",
      "source": [
        "Final[['TICKER','mktrf','smb','hml']].to_csv(\"FF-Exposures.csv\",index=False)"
      ],
      "metadata": {
        "id": "v1wFgURpvyzR"
      },
      "execution_count": null,
      "outputs": []
    },
    {
      "cell_type": "markdown",
      "source": [
        "## Calculate Financial Ratios"
      ],
      "metadata": {
        "id": "ipASVHcpwVLQ"
      }
    },
    {
      "cell_type": "markdown",
      "source": [
        "### a. Based on the Lectures in BA870, calculate relevant financial ratios\n",
        "(including market ratios) that you believe might explain a company’s stock\n",
        "return in early 2022."
      ],
      "metadata": {
        "id": "k944Ks_wwkz4"
      }
    },
    {
      "cell_type": "code",
      "source": [
        "#load the data files\n",
        "\n",
        "ticker = pd.read_csv('ProjectTickers.csv')\n",
        "data = pd.read_csv('Project-2021-Financials.csv')"
      ],
      "metadata": {
        "id": "j0eZRFnjMZPn"
      },
      "execution_count": null,
      "outputs": []
    },
    {
      "cell_type": "code",
      "source": [
        "#initial check\n",
        "data.info()"
      ],
      "metadata": {
        "colab": {
          "base_uri": "https://localhost:8080/"
        },
        "id": "w3XujgWZPcW1",
        "outputId": "9e88339f-87d4-4261-9fca-e6b91be472d0"
      },
      "execution_count": null,
      "outputs": [
        {
          "output_type": "stream",
          "name": "stdout",
          "text": [
            "<class 'pandas.core.frame.DataFrame'>\n",
            "RangeIndex: 1886 entries, 0 to 1885\n",
            "Data columns (total 20 columns):\n",
            " #   Column    Non-Null Count  Dtype  \n",
            "---  ------    --------------  -----  \n",
            " 0   gvkey     1886 non-null   int64  \n",
            " 1   datadate  1886 non-null   int64  \n",
            " 2   fyear     1886 non-null   int64  \n",
            " 3   indfmt    1886 non-null   object \n",
            " 4   consol    1886 non-null   object \n",
            " 5   popsrc    1886 non-null   object \n",
            " 6   datafmt   1886 non-null   object \n",
            " 7   tic       1886 non-null   object \n",
            " 8   curcd     1886 non-null   object \n",
            " 9   at        1886 non-null   float64\n",
            " 10  ceq       1886 non-null   float64\n",
            " 11  csho      1886 non-null   float64\n",
            " 12  ebit      1886 non-null   float64\n",
            " 13  ni        1886 non-null   float64\n",
            " 14  re        1883 non-null   float64\n",
            " 15  ret       135 non-null    float64\n",
            " 16  sale      1886 non-null   float64\n",
            " 17  seq       1886 non-null   float64\n",
            " 18  costat    1886 non-null   object \n",
            " 19  prcc_c    1886 non-null   float64\n",
            "dtypes: float64(10), int64(3), object(7)\n",
            "memory usage: 294.8+ KB\n"
          ]
        }
      ]
    },
    {
      "cell_type": "code",
      "source": [
        "data.head()"
      ],
      "metadata": {
        "colab": {
          "base_uri": "https://localhost:8080/",
          "height": 270
        },
        "id": "VSZO4-lLPcyS",
        "outputId": "37c62b8f-7730-4c64-f5e5-581d29d8e625"
      },
      "execution_count": null,
      "outputs": [
        {
          "output_type": "execute_result",
          "data": {
            "text/plain": [
              "   gvkey  datadate  fyear indfmt consol popsrc datafmt  tic curcd         at  \\\n",
              "0   1004  20210531   2020   INDL      C      D     STD  AIR   USD   1539.700   \n",
              "1   1045  20211231   2021   INDL      C      D     STD  AAL   USD  66467.000   \n",
              "2   1075  20211231   2021   INDL      C      D     STD  PNW   USD  22003.222   \n",
              "3   1078  20211231   2021   INDL      C      D     STD  ABT   USD  75196.000   \n",
              "4   1161  20211231   2021   INDL      C      D     STD  AMD   USD  12419.000   \n",
              "\n",
              "       ceq      csho     ebit       ni         re  ret       sale      seq  \\\n",
              "0    974.4    35.375    65.50    35.80    723.400  NaN   1651.400    974.4   \n",
              "1  -7340.0   647.728 -5514.00 -1993.00 -14580.000  NaN  29882.000  -7340.0   \n",
              "2   5906.2   112.927   805.31   618.72   3209.858  NaN   3803.835   5906.2   \n",
              "3  35802.0  1764.082  8966.00  7071.00  23154.000  NaN  43075.000  35802.0   \n",
              "4   7497.0  1207.000  3678.00  3162.00  -1454.000  NaN  16434.000   7497.0   \n",
              "\n",
              "  costat  prcc_c  \n",
              "0      A   36.22  \n",
              "1      A   17.96  \n",
              "2      A   70.59  \n",
              "3      A  140.74  \n",
              "4      A  143.90  "
            ],
            "text/html": [
              "\n",
              "  <div id=\"df-00c40182-be80-41e6-85d0-8f1b0084db9f\">\n",
              "    <div class=\"colab-df-container\">\n",
              "      <div>\n",
              "<style scoped>\n",
              "    .dataframe tbody tr th:only-of-type {\n",
              "        vertical-align: middle;\n",
              "    }\n",
              "\n",
              "    .dataframe tbody tr th {\n",
              "        vertical-align: top;\n",
              "    }\n",
              "\n",
              "    .dataframe thead th {\n",
              "        text-align: right;\n",
              "    }\n",
              "</style>\n",
              "<table border=\"1\" class=\"dataframe\">\n",
              "  <thead>\n",
              "    <tr style=\"text-align: right;\">\n",
              "      <th></th>\n",
              "      <th>gvkey</th>\n",
              "      <th>datadate</th>\n",
              "      <th>fyear</th>\n",
              "      <th>indfmt</th>\n",
              "      <th>consol</th>\n",
              "      <th>popsrc</th>\n",
              "      <th>datafmt</th>\n",
              "      <th>tic</th>\n",
              "      <th>curcd</th>\n",
              "      <th>at</th>\n",
              "      <th>ceq</th>\n",
              "      <th>csho</th>\n",
              "      <th>ebit</th>\n",
              "      <th>ni</th>\n",
              "      <th>re</th>\n",
              "      <th>ret</th>\n",
              "      <th>sale</th>\n",
              "      <th>seq</th>\n",
              "      <th>costat</th>\n",
              "      <th>prcc_c</th>\n",
              "    </tr>\n",
              "  </thead>\n",
              "  <tbody>\n",
              "    <tr>\n",
              "      <th>0</th>\n",
              "      <td>1004</td>\n",
              "      <td>20210531</td>\n",
              "      <td>2020</td>\n",
              "      <td>INDL</td>\n",
              "      <td>C</td>\n",
              "      <td>D</td>\n",
              "      <td>STD</td>\n",
              "      <td>AIR</td>\n",
              "      <td>USD</td>\n",
              "      <td>1539.700</td>\n",
              "      <td>974.4</td>\n",
              "      <td>35.375</td>\n",
              "      <td>65.50</td>\n",
              "      <td>35.80</td>\n",
              "      <td>723.400</td>\n",
              "      <td>NaN</td>\n",
              "      <td>1651.400</td>\n",
              "      <td>974.4</td>\n",
              "      <td>A</td>\n",
              "      <td>36.22</td>\n",
              "    </tr>\n",
              "    <tr>\n",
              "      <th>1</th>\n",
              "      <td>1045</td>\n",
              "      <td>20211231</td>\n",
              "      <td>2021</td>\n",
              "      <td>INDL</td>\n",
              "      <td>C</td>\n",
              "      <td>D</td>\n",
              "      <td>STD</td>\n",
              "      <td>AAL</td>\n",
              "      <td>USD</td>\n",
              "      <td>66467.000</td>\n",
              "      <td>-7340.0</td>\n",
              "      <td>647.728</td>\n",
              "      <td>-5514.00</td>\n",
              "      <td>-1993.00</td>\n",
              "      <td>-14580.000</td>\n",
              "      <td>NaN</td>\n",
              "      <td>29882.000</td>\n",
              "      <td>-7340.0</td>\n",
              "      <td>A</td>\n",
              "      <td>17.96</td>\n",
              "    </tr>\n",
              "    <tr>\n",
              "      <th>2</th>\n",
              "      <td>1075</td>\n",
              "      <td>20211231</td>\n",
              "      <td>2021</td>\n",
              "      <td>INDL</td>\n",
              "      <td>C</td>\n",
              "      <td>D</td>\n",
              "      <td>STD</td>\n",
              "      <td>PNW</td>\n",
              "      <td>USD</td>\n",
              "      <td>22003.222</td>\n",
              "      <td>5906.2</td>\n",
              "      <td>112.927</td>\n",
              "      <td>805.31</td>\n",
              "      <td>618.72</td>\n",
              "      <td>3209.858</td>\n",
              "      <td>NaN</td>\n",
              "      <td>3803.835</td>\n",
              "      <td>5906.2</td>\n",
              "      <td>A</td>\n",
              "      <td>70.59</td>\n",
              "    </tr>\n",
              "    <tr>\n",
              "      <th>3</th>\n",
              "      <td>1078</td>\n",
              "      <td>20211231</td>\n",
              "      <td>2021</td>\n",
              "      <td>INDL</td>\n",
              "      <td>C</td>\n",
              "      <td>D</td>\n",
              "      <td>STD</td>\n",
              "      <td>ABT</td>\n",
              "      <td>USD</td>\n",
              "      <td>75196.000</td>\n",
              "      <td>35802.0</td>\n",
              "      <td>1764.082</td>\n",
              "      <td>8966.00</td>\n",
              "      <td>7071.00</td>\n",
              "      <td>23154.000</td>\n",
              "      <td>NaN</td>\n",
              "      <td>43075.000</td>\n",
              "      <td>35802.0</td>\n",
              "      <td>A</td>\n",
              "      <td>140.74</td>\n",
              "    </tr>\n",
              "    <tr>\n",
              "      <th>4</th>\n",
              "      <td>1161</td>\n",
              "      <td>20211231</td>\n",
              "      <td>2021</td>\n",
              "      <td>INDL</td>\n",
              "      <td>C</td>\n",
              "      <td>D</td>\n",
              "      <td>STD</td>\n",
              "      <td>AMD</td>\n",
              "      <td>USD</td>\n",
              "      <td>12419.000</td>\n",
              "      <td>7497.0</td>\n",
              "      <td>1207.000</td>\n",
              "      <td>3678.00</td>\n",
              "      <td>3162.00</td>\n",
              "      <td>-1454.000</td>\n",
              "      <td>NaN</td>\n",
              "      <td>16434.000</td>\n",
              "      <td>7497.0</td>\n",
              "      <td>A</td>\n",
              "      <td>143.90</td>\n",
              "    </tr>\n",
              "  </tbody>\n",
              "</table>\n",
              "</div>\n",
              "      <button class=\"colab-df-convert\" onclick=\"convertToInteractive('df-00c40182-be80-41e6-85d0-8f1b0084db9f')\"\n",
              "              title=\"Convert this dataframe to an interactive table.\"\n",
              "              style=\"display:none;\">\n",
              "        \n",
              "  <svg xmlns=\"http://www.w3.org/2000/svg\" height=\"24px\"viewBox=\"0 0 24 24\"\n",
              "       width=\"24px\">\n",
              "    <path d=\"M0 0h24v24H0V0z\" fill=\"none\"/>\n",
              "    <path d=\"M18.56 5.44l.94 2.06.94-2.06 2.06-.94-2.06-.94-.94-2.06-.94 2.06-2.06.94zm-11 1L8.5 8.5l.94-2.06 2.06-.94-2.06-.94L8.5 2.5l-.94 2.06-2.06.94zm10 10l.94 2.06.94-2.06 2.06-.94-2.06-.94-.94-2.06-.94 2.06-2.06.94z\"/><path d=\"M17.41 7.96l-1.37-1.37c-.4-.4-.92-.59-1.43-.59-.52 0-1.04.2-1.43.59L10.3 9.45l-7.72 7.72c-.78.78-.78 2.05 0 2.83L4 21.41c.39.39.9.59 1.41.59.51 0 1.02-.2 1.41-.59l7.78-7.78 2.81-2.81c.8-.78.8-2.07 0-2.86zM5.41 20L4 18.59l7.72-7.72 1.47 1.35L5.41 20z\"/>\n",
              "  </svg>\n",
              "      </button>\n",
              "      \n",
              "  <style>\n",
              "    .colab-df-container {\n",
              "      display:flex;\n",
              "      flex-wrap:wrap;\n",
              "      gap: 12px;\n",
              "    }\n",
              "\n",
              "    .colab-df-convert {\n",
              "      background-color: #E8F0FE;\n",
              "      border: none;\n",
              "      border-radius: 50%;\n",
              "      cursor: pointer;\n",
              "      display: none;\n",
              "      fill: #1967D2;\n",
              "      height: 32px;\n",
              "      padding: 0 0 0 0;\n",
              "      width: 32px;\n",
              "    }\n",
              "\n",
              "    .colab-df-convert:hover {\n",
              "      background-color: #E2EBFA;\n",
              "      box-shadow: 0px 1px 2px rgba(60, 64, 67, 0.3), 0px 1px 3px 1px rgba(60, 64, 67, 0.15);\n",
              "      fill: #174EA6;\n",
              "    }\n",
              "\n",
              "    [theme=dark] .colab-df-convert {\n",
              "      background-color: #3B4455;\n",
              "      fill: #D2E3FC;\n",
              "    }\n",
              "\n",
              "    [theme=dark] .colab-df-convert:hover {\n",
              "      background-color: #434B5C;\n",
              "      box-shadow: 0px 1px 3px 1px rgba(0, 0, 0, 0.15);\n",
              "      filter: drop-shadow(0px 1px 2px rgba(0, 0, 0, 0.3));\n",
              "      fill: #FFFFFF;\n",
              "    }\n",
              "  </style>\n",
              "\n",
              "      <script>\n",
              "        const buttonEl =\n",
              "          document.querySelector('#df-00c40182-be80-41e6-85d0-8f1b0084db9f button.colab-df-convert');\n",
              "        buttonEl.style.display =\n",
              "          google.colab.kernel.accessAllowed ? 'block' : 'none';\n",
              "\n",
              "        async function convertToInteractive(key) {\n",
              "          const element = document.querySelector('#df-00c40182-be80-41e6-85d0-8f1b0084db9f');\n",
              "          const dataTable =\n",
              "            await google.colab.kernel.invokeFunction('convertToInteractive',\n",
              "                                                     [key], {});\n",
              "          if (!dataTable) return;\n",
              "\n",
              "          const docLinkHtml = 'Like what you see? Visit the ' +\n",
              "            '<a target=\"_blank\" href=https://colab.research.google.com/notebooks/data_table.ipynb>data table notebook</a>'\n",
              "            + ' to learn more about interactive tables.';\n",
              "          element.innerHTML = '';\n",
              "          dataTable['output_type'] = 'display_data';\n",
              "          await google.colab.output.renderOutput(dataTable, element);\n",
              "          const docLink = document.createElement('div');\n",
              "          docLink.innerHTML = docLinkHtml;\n",
              "          element.appendChild(docLink);\n",
              "        }\n",
              "      </script>\n",
              "    </div>\n",
              "  </div>\n",
              "  "
            ]
          },
          "metadata": {},
          "execution_count": 16
        }
      ]
    },
    {
      "cell_type": "code",
      "source": [
        "ticker.head()"
      ],
      "metadata": {
        "colab": {
          "base_uri": "https://localhost:8080/",
          "height": 206
        },
        "id": "D8m6MyknPtIt",
        "outputId": "6f3ebd8a-b5e9-40c6-e8b6-f5bd9d4ef6e6"
      },
      "execution_count": null,
      "outputs": [
        {
          "output_type": "execute_result",
          "data": {
            "text/plain": [
              "  Ticker                     Name   RetYTD\n",
              "0      A     Agilent Technologies  -0.2080\n",
              "1     AA               Alcoa Corp   0.4731\n",
              "2    AAL     American Airlines Gp   0.0579\n",
              "3    AAN  Aarons Holdings Company  -0.1327\n",
              "4   AAON                 Aaon Inc  -0.3456"
            ],
            "text/html": [
              "\n",
              "  <div id=\"df-07689459-28ba-4364-b6ab-1bdb87319710\">\n",
              "    <div class=\"colab-df-container\">\n",
              "      <div>\n",
              "<style scoped>\n",
              "    .dataframe tbody tr th:only-of-type {\n",
              "        vertical-align: middle;\n",
              "    }\n",
              "\n",
              "    .dataframe tbody tr th {\n",
              "        vertical-align: top;\n",
              "    }\n",
              "\n",
              "    .dataframe thead th {\n",
              "        text-align: right;\n",
              "    }\n",
              "</style>\n",
              "<table border=\"1\" class=\"dataframe\">\n",
              "  <thead>\n",
              "    <tr style=\"text-align: right;\">\n",
              "      <th></th>\n",
              "      <th>Ticker</th>\n",
              "      <th>Name</th>\n",
              "      <th>RetYTD</th>\n",
              "    </tr>\n",
              "  </thead>\n",
              "  <tbody>\n",
              "    <tr>\n",
              "      <th>0</th>\n",
              "      <td>A</td>\n",
              "      <td>Agilent Technologies</td>\n",
              "      <td>-0.2080</td>\n",
              "    </tr>\n",
              "    <tr>\n",
              "      <th>1</th>\n",
              "      <td>AA</td>\n",
              "      <td>Alcoa Corp</td>\n",
              "      <td>0.4731</td>\n",
              "    </tr>\n",
              "    <tr>\n",
              "      <th>2</th>\n",
              "      <td>AAL</td>\n",
              "      <td>American Airlines Gp</td>\n",
              "      <td>0.0579</td>\n",
              "    </tr>\n",
              "    <tr>\n",
              "      <th>3</th>\n",
              "      <td>AAN</td>\n",
              "      <td>Aarons Holdings Company</td>\n",
              "      <td>-0.1327</td>\n",
              "    </tr>\n",
              "    <tr>\n",
              "      <th>4</th>\n",
              "      <td>AAON</td>\n",
              "      <td>Aaon Inc</td>\n",
              "      <td>-0.3456</td>\n",
              "    </tr>\n",
              "  </tbody>\n",
              "</table>\n",
              "</div>\n",
              "      <button class=\"colab-df-convert\" onclick=\"convertToInteractive('df-07689459-28ba-4364-b6ab-1bdb87319710')\"\n",
              "              title=\"Convert this dataframe to an interactive table.\"\n",
              "              style=\"display:none;\">\n",
              "        \n",
              "  <svg xmlns=\"http://www.w3.org/2000/svg\" height=\"24px\"viewBox=\"0 0 24 24\"\n",
              "       width=\"24px\">\n",
              "    <path d=\"M0 0h24v24H0V0z\" fill=\"none\"/>\n",
              "    <path d=\"M18.56 5.44l.94 2.06.94-2.06 2.06-.94-2.06-.94-.94-2.06-.94 2.06-2.06.94zm-11 1L8.5 8.5l.94-2.06 2.06-.94-2.06-.94L8.5 2.5l-.94 2.06-2.06.94zm10 10l.94 2.06.94-2.06 2.06-.94-2.06-.94-.94-2.06-.94 2.06-2.06.94z\"/><path d=\"M17.41 7.96l-1.37-1.37c-.4-.4-.92-.59-1.43-.59-.52 0-1.04.2-1.43.59L10.3 9.45l-7.72 7.72c-.78.78-.78 2.05 0 2.83L4 21.41c.39.39.9.59 1.41.59.51 0 1.02-.2 1.41-.59l7.78-7.78 2.81-2.81c.8-.78.8-2.07 0-2.86zM5.41 20L4 18.59l7.72-7.72 1.47 1.35L5.41 20z\"/>\n",
              "  </svg>\n",
              "      </button>\n",
              "      \n",
              "  <style>\n",
              "    .colab-df-container {\n",
              "      display:flex;\n",
              "      flex-wrap:wrap;\n",
              "      gap: 12px;\n",
              "    }\n",
              "\n",
              "    .colab-df-convert {\n",
              "      background-color: #E8F0FE;\n",
              "      border: none;\n",
              "      border-radius: 50%;\n",
              "      cursor: pointer;\n",
              "      display: none;\n",
              "      fill: #1967D2;\n",
              "      height: 32px;\n",
              "      padding: 0 0 0 0;\n",
              "      width: 32px;\n",
              "    }\n",
              "\n",
              "    .colab-df-convert:hover {\n",
              "      background-color: #E2EBFA;\n",
              "      box-shadow: 0px 1px 2px rgba(60, 64, 67, 0.3), 0px 1px 3px 1px rgba(60, 64, 67, 0.15);\n",
              "      fill: #174EA6;\n",
              "    }\n",
              "\n",
              "    [theme=dark] .colab-df-convert {\n",
              "      background-color: #3B4455;\n",
              "      fill: #D2E3FC;\n",
              "    }\n",
              "\n",
              "    [theme=dark] .colab-df-convert:hover {\n",
              "      background-color: #434B5C;\n",
              "      box-shadow: 0px 1px 3px 1px rgba(0, 0, 0, 0.15);\n",
              "      filter: drop-shadow(0px 1px 2px rgba(0, 0, 0, 0.3));\n",
              "      fill: #FFFFFF;\n",
              "    }\n",
              "  </style>\n",
              "\n",
              "      <script>\n",
              "        const buttonEl =\n",
              "          document.querySelector('#df-07689459-28ba-4364-b6ab-1bdb87319710 button.colab-df-convert');\n",
              "        buttonEl.style.display =\n",
              "          google.colab.kernel.accessAllowed ? 'block' : 'none';\n",
              "\n",
              "        async function convertToInteractive(key) {\n",
              "          const element = document.querySelector('#df-07689459-28ba-4364-b6ab-1bdb87319710');\n",
              "          const dataTable =\n",
              "            await google.colab.kernel.invokeFunction('convertToInteractive',\n",
              "                                                     [key], {});\n",
              "          if (!dataTable) return;\n",
              "\n",
              "          const docLinkHtml = 'Like what you see? Visit the ' +\n",
              "            '<a target=\"_blank\" href=https://colab.research.google.com/notebooks/data_table.ipynb>data table notebook</a>'\n",
              "            + ' to learn more about interactive tables.';\n",
              "          element.innerHTML = '';\n",
              "          dataTable['output_type'] = 'display_data';\n",
              "          await google.colab.output.renderOutput(dataTable, element);\n",
              "          const docLink = document.createElement('div');\n",
              "          docLink.innerHTML = docLinkHtml;\n",
              "          element.appendChild(docLink);\n",
              "        }\n",
              "      </script>\n",
              "    </div>\n",
              "  </div>\n",
              "  "
            ]
          },
          "metadata": {},
          "execution_count": 17
        }
      ]
    },
    {
      "cell_type": "code",
      "source": [
        "#merge two files based on ticker\n",
        "data = pd.merge(data,ticker,left_on='tic',right_on='Ticker',how='left')\n",
        "data"
      ],
      "metadata": {
        "colab": {
          "base_uri": "https://localhost:8080/",
          "height": 626
        },
        "id": "T_2os0jyPvnM",
        "outputId": "cf389b86-ddbd-4620-9337-c2ff9739599b"
      },
      "execution_count": null,
      "outputs": [
        {
          "output_type": "execute_result",
          "data": {
            "text/plain": [
              "       gvkey  datadate  fyear indfmt consol popsrc datafmt   tic curcd  \\\n",
              "0       1004  20210531   2020   INDL      C      D     STD   AIR   USD   \n",
              "1       1045  20211231   2021   INDL      C      D     STD   AAL   USD   \n",
              "2       1075  20211231   2021   INDL      C      D     STD   PNW   USD   \n",
              "3       1078  20211231   2021   INDL      C      D     STD   ABT   USD   \n",
              "4       1161  20211231   2021   INDL      C      D     STD   AMD   USD   \n",
              "...      ...       ...    ...    ...    ...    ...     ...   ...   ...   \n",
              "1881  266315  20211231   2021   INDL      C      D     STD   KRG   USD   \n",
              "1882  294524  20211231   2021   INDL      C      D     STD   LYB   USD   \n",
              "1883  312009  20211231   2021   INDL      C      D     STD   FRO   USD   \n",
              "1884  316056  20211231   2021   INDL      C      D     STD  ALLE   USD   \n",
              "1885  317264  20210331   2020   INDL      C      D     STD   LPG   USD   \n",
              "\n",
              "             at  ...        ni         re       ret       sale        seq  \\\n",
              "0      1539.700  ...    35.800    723.400       NaN   1651.400    974.400   \n",
              "1     66467.000  ... -1993.000 -14580.000       NaN  29882.000  -7340.000   \n",
              "2     22003.222  ...   618.720   3209.858       NaN   3803.835   5906.200   \n",
              "3     75196.000  ...  7071.000  23154.000       NaN  43075.000  35802.000   \n",
              "4     12419.000  ...  3162.000  -1454.000       NaN  16434.000   7497.000   \n",
              "...         ...  ...       ...        ...       ...        ...        ...   \n",
              "1881   7639.575  ...   -80.806   -978.815  6707.539    372.908   3922.047   \n",
              "1882  36742.000  ...  5610.000   6760.000       NaN  46173.000  11858.000   \n",
              "1883   4117.098  ...   -11.148     -2.902       NaN    749.381   1653.014   \n",
              "1884   3051.000  ...   483.000    758.200       NaN   2867.400    759.100   \n",
              "1885   1581.615  ...    92.565    289.400       NaN    318.219    946.825   \n",
              "\n",
              "      costat  prcc_c  Ticker                          Name   RetYTD  \n",
              "0          A   36.22     AIR                      AAR Corp   0.2944  \n",
              "1          A   17.96     AAL          American Airlines Gp   0.0579  \n",
              "2          A   70.59     PNW    Pinnacle West Capital Corp   0.0985  \n",
              "3          A  140.74     ABT           Abbott Laboratories  -0.1638  \n",
              "4          A  143.90     AMD             Adv Micro Devices  -0.3533  \n",
              "...      ...     ...     ...                            ...     ...  \n",
              "1881       A   21.78     KRG       Kite Realty Group Trust   0.0275  \n",
              "1882       A   92.23     LYB  Lyondellbasell Industries NV   0.1664  \n",
              "1883       A    7.07     FRO                 Frontline Ltd   0.3380  \n",
              "1884       A  132.44    ALLE                  Allegion Plc  -0.1888  \n",
              "1885       A   12.19     LPG                Dorian Lpg Ltd   0.2427  \n",
              "\n",
              "[1886 rows x 23 columns]"
            ],
            "text/html": [
              "\n",
              "  <div id=\"df-e82cfc7d-455b-4419-934e-853f5fcac3b0\">\n",
              "    <div class=\"colab-df-container\">\n",
              "      <div>\n",
              "<style scoped>\n",
              "    .dataframe tbody tr th:only-of-type {\n",
              "        vertical-align: middle;\n",
              "    }\n",
              "\n",
              "    .dataframe tbody tr th {\n",
              "        vertical-align: top;\n",
              "    }\n",
              "\n",
              "    .dataframe thead th {\n",
              "        text-align: right;\n",
              "    }\n",
              "</style>\n",
              "<table border=\"1\" class=\"dataframe\">\n",
              "  <thead>\n",
              "    <tr style=\"text-align: right;\">\n",
              "      <th></th>\n",
              "      <th>gvkey</th>\n",
              "      <th>datadate</th>\n",
              "      <th>fyear</th>\n",
              "      <th>indfmt</th>\n",
              "      <th>consol</th>\n",
              "      <th>popsrc</th>\n",
              "      <th>datafmt</th>\n",
              "      <th>tic</th>\n",
              "      <th>curcd</th>\n",
              "      <th>at</th>\n",
              "      <th>...</th>\n",
              "      <th>ni</th>\n",
              "      <th>re</th>\n",
              "      <th>ret</th>\n",
              "      <th>sale</th>\n",
              "      <th>seq</th>\n",
              "      <th>costat</th>\n",
              "      <th>prcc_c</th>\n",
              "      <th>Ticker</th>\n",
              "      <th>Name</th>\n",
              "      <th>RetYTD</th>\n",
              "    </tr>\n",
              "  </thead>\n",
              "  <tbody>\n",
              "    <tr>\n",
              "      <th>0</th>\n",
              "      <td>1004</td>\n",
              "      <td>20210531</td>\n",
              "      <td>2020</td>\n",
              "      <td>INDL</td>\n",
              "      <td>C</td>\n",
              "      <td>D</td>\n",
              "      <td>STD</td>\n",
              "      <td>AIR</td>\n",
              "      <td>USD</td>\n",
              "      <td>1539.700</td>\n",
              "      <td>...</td>\n",
              "      <td>35.800</td>\n",
              "      <td>723.400</td>\n",
              "      <td>NaN</td>\n",
              "      <td>1651.400</td>\n",
              "      <td>974.400</td>\n",
              "      <td>A</td>\n",
              "      <td>36.22</td>\n",
              "      <td>AIR</td>\n",
              "      <td>AAR Corp</td>\n",
              "      <td>0.2944</td>\n",
              "    </tr>\n",
              "    <tr>\n",
              "      <th>1</th>\n",
              "      <td>1045</td>\n",
              "      <td>20211231</td>\n",
              "      <td>2021</td>\n",
              "      <td>INDL</td>\n",
              "      <td>C</td>\n",
              "      <td>D</td>\n",
              "      <td>STD</td>\n",
              "      <td>AAL</td>\n",
              "      <td>USD</td>\n",
              "      <td>66467.000</td>\n",
              "      <td>...</td>\n",
              "      <td>-1993.000</td>\n",
              "      <td>-14580.000</td>\n",
              "      <td>NaN</td>\n",
              "      <td>29882.000</td>\n",
              "      <td>-7340.000</td>\n",
              "      <td>A</td>\n",
              "      <td>17.96</td>\n",
              "      <td>AAL</td>\n",
              "      <td>American Airlines Gp</td>\n",
              "      <td>0.0579</td>\n",
              "    </tr>\n",
              "    <tr>\n",
              "      <th>2</th>\n",
              "      <td>1075</td>\n",
              "      <td>20211231</td>\n",
              "      <td>2021</td>\n",
              "      <td>INDL</td>\n",
              "      <td>C</td>\n",
              "      <td>D</td>\n",
              "      <td>STD</td>\n",
              "      <td>PNW</td>\n",
              "      <td>USD</td>\n",
              "      <td>22003.222</td>\n",
              "      <td>...</td>\n",
              "      <td>618.720</td>\n",
              "      <td>3209.858</td>\n",
              "      <td>NaN</td>\n",
              "      <td>3803.835</td>\n",
              "      <td>5906.200</td>\n",
              "      <td>A</td>\n",
              "      <td>70.59</td>\n",
              "      <td>PNW</td>\n",
              "      <td>Pinnacle West Capital Corp</td>\n",
              "      <td>0.0985</td>\n",
              "    </tr>\n",
              "    <tr>\n",
              "      <th>3</th>\n",
              "      <td>1078</td>\n",
              "      <td>20211231</td>\n",
              "      <td>2021</td>\n",
              "      <td>INDL</td>\n",
              "      <td>C</td>\n",
              "      <td>D</td>\n",
              "      <td>STD</td>\n",
              "      <td>ABT</td>\n",
              "      <td>USD</td>\n",
              "      <td>75196.000</td>\n",
              "      <td>...</td>\n",
              "      <td>7071.000</td>\n",
              "      <td>23154.000</td>\n",
              "      <td>NaN</td>\n",
              "      <td>43075.000</td>\n",
              "      <td>35802.000</td>\n",
              "      <td>A</td>\n",
              "      <td>140.74</td>\n",
              "      <td>ABT</td>\n",
              "      <td>Abbott Laboratories</td>\n",
              "      <td>-0.1638</td>\n",
              "    </tr>\n",
              "    <tr>\n",
              "      <th>4</th>\n",
              "      <td>1161</td>\n",
              "      <td>20211231</td>\n",
              "      <td>2021</td>\n",
              "      <td>INDL</td>\n",
              "      <td>C</td>\n",
              "      <td>D</td>\n",
              "      <td>STD</td>\n",
              "      <td>AMD</td>\n",
              "      <td>USD</td>\n",
              "      <td>12419.000</td>\n",
              "      <td>...</td>\n",
              "      <td>3162.000</td>\n",
              "      <td>-1454.000</td>\n",
              "      <td>NaN</td>\n",
              "      <td>16434.000</td>\n",
              "      <td>7497.000</td>\n",
              "      <td>A</td>\n",
              "      <td>143.90</td>\n",
              "      <td>AMD</td>\n",
              "      <td>Adv Micro Devices</td>\n",
              "      <td>-0.3533</td>\n",
              "    </tr>\n",
              "    <tr>\n",
              "      <th>...</th>\n",
              "      <td>...</td>\n",
              "      <td>...</td>\n",
              "      <td>...</td>\n",
              "      <td>...</td>\n",
              "      <td>...</td>\n",
              "      <td>...</td>\n",
              "      <td>...</td>\n",
              "      <td>...</td>\n",
              "      <td>...</td>\n",
              "      <td>...</td>\n",
              "      <td>...</td>\n",
              "      <td>...</td>\n",
              "      <td>...</td>\n",
              "      <td>...</td>\n",
              "      <td>...</td>\n",
              "      <td>...</td>\n",
              "      <td>...</td>\n",
              "      <td>...</td>\n",
              "      <td>...</td>\n",
              "      <td>...</td>\n",
              "      <td>...</td>\n",
              "    </tr>\n",
              "    <tr>\n",
              "      <th>1881</th>\n",
              "      <td>266315</td>\n",
              "      <td>20211231</td>\n",
              "      <td>2021</td>\n",
              "      <td>INDL</td>\n",
              "      <td>C</td>\n",
              "      <td>D</td>\n",
              "      <td>STD</td>\n",
              "      <td>KRG</td>\n",
              "      <td>USD</td>\n",
              "      <td>7639.575</td>\n",
              "      <td>...</td>\n",
              "      <td>-80.806</td>\n",
              "      <td>-978.815</td>\n",
              "      <td>6707.539</td>\n",
              "      <td>372.908</td>\n",
              "      <td>3922.047</td>\n",
              "      <td>A</td>\n",
              "      <td>21.78</td>\n",
              "      <td>KRG</td>\n",
              "      <td>Kite Realty Group Trust</td>\n",
              "      <td>0.0275</td>\n",
              "    </tr>\n",
              "    <tr>\n",
              "      <th>1882</th>\n",
              "      <td>294524</td>\n",
              "      <td>20211231</td>\n",
              "      <td>2021</td>\n",
              "      <td>INDL</td>\n",
              "      <td>C</td>\n",
              "      <td>D</td>\n",
              "      <td>STD</td>\n",
              "      <td>LYB</td>\n",
              "      <td>USD</td>\n",
              "      <td>36742.000</td>\n",
              "      <td>...</td>\n",
              "      <td>5610.000</td>\n",
              "      <td>6760.000</td>\n",
              "      <td>NaN</td>\n",
              "      <td>46173.000</td>\n",
              "      <td>11858.000</td>\n",
              "      <td>A</td>\n",
              "      <td>92.23</td>\n",
              "      <td>LYB</td>\n",
              "      <td>Lyondellbasell Industries NV</td>\n",
              "      <td>0.1664</td>\n",
              "    </tr>\n",
              "    <tr>\n",
              "      <th>1883</th>\n",
              "      <td>312009</td>\n",
              "      <td>20211231</td>\n",
              "      <td>2021</td>\n",
              "      <td>INDL</td>\n",
              "      <td>C</td>\n",
              "      <td>D</td>\n",
              "      <td>STD</td>\n",
              "      <td>FRO</td>\n",
              "      <td>USD</td>\n",
              "      <td>4117.098</td>\n",
              "      <td>...</td>\n",
              "      <td>-11.148</td>\n",
              "      <td>-2.902</td>\n",
              "      <td>NaN</td>\n",
              "      <td>749.381</td>\n",
              "      <td>1653.014</td>\n",
              "      <td>A</td>\n",
              "      <td>7.07</td>\n",
              "      <td>FRO</td>\n",
              "      <td>Frontline Ltd</td>\n",
              "      <td>0.3380</td>\n",
              "    </tr>\n",
              "    <tr>\n",
              "      <th>1884</th>\n",
              "      <td>316056</td>\n",
              "      <td>20211231</td>\n",
              "      <td>2021</td>\n",
              "      <td>INDL</td>\n",
              "      <td>C</td>\n",
              "      <td>D</td>\n",
              "      <td>STD</td>\n",
              "      <td>ALLE</td>\n",
              "      <td>USD</td>\n",
              "      <td>3051.000</td>\n",
              "      <td>...</td>\n",
              "      <td>483.000</td>\n",
              "      <td>758.200</td>\n",
              "      <td>NaN</td>\n",
              "      <td>2867.400</td>\n",
              "      <td>759.100</td>\n",
              "      <td>A</td>\n",
              "      <td>132.44</td>\n",
              "      <td>ALLE</td>\n",
              "      <td>Allegion Plc</td>\n",
              "      <td>-0.1888</td>\n",
              "    </tr>\n",
              "    <tr>\n",
              "      <th>1885</th>\n",
              "      <td>317264</td>\n",
              "      <td>20210331</td>\n",
              "      <td>2020</td>\n",
              "      <td>INDL</td>\n",
              "      <td>C</td>\n",
              "      <td>D</td>\n",
              "      <td>STD</td>\n",
              "      <td>LPG</td>\n",
              "      <td>USD</td>\n",
              "      <td>1581.615</td>\n",
              "      <td>...</td>\n",
              "      <td>92.565</td>\n",
              "      <td>289.400</td>\n",
              "      <td>NaN</td>\n",
              "      <td>318.219</td>\n",
              "      <td>946.825</td>\n",
              "      <td>A</td>\n",
              "      <td>12.19</td>\n",
              "      <td>LPG</td>\n",
              "      <td>Dorian Lpg Ltd</td>\n",
              "      <td>0.2427</td>\n",
              "    </tr>\n",
              "  </tbody>\n",
              "</table>\n",
              "<p>1886 rows × 23 columns</p>\n",
              "</div>\n",
              "      <button class=\"colab-df-convert\" onclick=\"convertToInteractive('df-e82cfc7d-455b-4419-934e-853f5fcac3b0')\"\n",
              "              title=\"Convert this dataframe to an interactive table.\"\n",
              "              style=\"display:none;\">\n",
              "        \n",
              "  <svg xmlns=\"http://www.w3.org/2000/svg\" height=\"24px\"viewBox=\"0 0 24 24\"\n",
              "       width=\"24px\">\n",
              "    <path d=\"M0 0h24v24H0V0z\" fill=\"none\"/>\n",
              "    <path d=\"M18.56 5.44l.94 2.06.94-2.06 2.06-.94-2.06-.94-.94-2.06-.94 2.06-2.06.94zm-11 1L8.5 8.5l.94-2.06 2.06-.94-2.06-.94L8.5 2.5l-.94 2.06-2.06.94zm10 10l.94 2.06.94-2.06 2.06-.94-2.06-.94-.94-2.06-.94 2.06-2.06.94z\"/><path d=\"M17.41 7.96l-1.37-1.37c-.4-.4-.92-.59-1.43-.59-.52 0-1.04.2-1.43.59L10.3 9.45l-7.72 7.72c-.78.78-.78 2.05 0 2.83L4 21.41c.39.39.9.59 1.41.59.51 0 1.02-.2 1.41-.59l7.78-7.78 2.81-2.81c.8-.78.8-2.07 0-2.86zM5.41 20L4 18.59l7.72-7.72 1.47 1.35L5.41 20z\"/>\n",
              "  </svg>\n",
              "      </button>\n",
              "      \n",
              "  <style>\n",
              "    .colab-df-container {\n",
              "      display:flex;\n",
              "      flex-wrap:wrap;\n",
              "      gap: 12px;\n",
              "    }\n",
              "\n",
              "    .colab-df-convert {\n",
              "      background-color: #E8F0FE;\n",
              "      border: none;\n",
              "      border-radius: 50%;\n",
              "      cursor: pointer;\n",
              "      display: none;\n",
              "      fill: #1967D2;\n",
              "      height: 32px;\n",
              "      padding: 0 0 0 0;\n",
              "      width: 32px;\n",
              "    }\n",
              "\n",
              "    .colab-df-convert:hover {\n",
              "      background-color: #E2EBFA;\n",
              "      box-shadow: 0px 1px 2px rgba(60, 64, 67, 0.3), 0px 1px 3px 1px rgba(60, 64, 67, 0.15);\n",
              "      fill: #174EA6;\n",
              "    }\n",
              "\n",
              "    [theme=dark] .colab-df-convert {\n",
              "      background-color: #3B4455;\n",
              "      fill: #D2E3FC;\n",
              "    }\n",
              "\n",
              "    [theme=dark] .colab-df-convert:hover {\n",
              "      background-color: #434B5C;\n",
              "      box-shadow: 0px 1px 3px 1px rgba(0, 0, 0, 0.15);\n",
              "      filter: drop-shadow(0px 1px 2px rgba(0, 0, 0, 0.3));\n",
              "      fill: #FFFFFF;\n",
              "    }\n",
              "  </style>\n",
              "\n",
              "      <script>\n",
              "        const buttonEl =\n",
              "          document.querySelector('#df-e82cfc7d-455b-4419-934e-853f5fcac3b0 button.colab-df-convert');\n",
              "        buttonEl.style.display =\n",
              "          google.colab.kernel.accessAllowed ? 'block' : 'none';\n",
              "\n",
              "        async function convertToInteractive(key) {\n",
              "          const element = document.querySelector('#df-e82cfc7d-455b-4419-934e-853f5fcac3b0');\n",
              "          const dataTable =\n",
              "            await google.colab.kernel.invokeFunction('convertToInteractive',\n",
              "                                                     [key], {});\n",
              "          if (!dataTable) return;\n",
              "\n",
              "          const docLinkHtml = 'Like what you see? Visit the ' +\n",
              "            '<a target=\"_blank\" href=https://colab.research.google.com/notebooks/data_table.ipynb>data table notebook</a>'\n",
              "            + ' to learn more about interactive tables.';\n",
              "          element.innerHTML = '';\n",
              "          dataTable['output_type'] = 'display_data';\n",
              "          await google.colab.output.renderOutput(dataTable, element);\n",
              "          const docLink = document.createElement('div');\n",
              "          docLink.innerHTML = docLinkHtml;\n",
              "          element.appendChild(docLink);\n",
              "        }\n",
              "      </script>\n",
              "    </div>\n",
              "  </div>\n",
              "  "
            ]
          },
          "metadata": {},
          "execution_count": 18
        }
      ]
    },
    {
      "cell_type": "code",
      "source": [
        "#drop unused column\n",
        "data = data.drop(columns=['ret'])"
      ],
      "metadata": {
        "id": "FQ0hAerHF7uQ"
      },
      "execution_count": null,
      "outputs": []
    },
    {
      "cell_type": "code",
      "source": [
        "#check null values\n",
        "\n",
        "data.isnull().sum()"
      ],
      "metadata": {
        "colab": {
          "base_uri": "https://localhost:8080/"
        },
        "id": "GCl0OXT4QP-K",
        "outputId": "2ee6702d-0afd-4d4e-e409-28e0db1b5508"
      },
      "execution_count": null,
      "outputs": [
        {
          "output_type": "execute_result",
          "data": {
            "text/plain": [
              "gvkey       0\n",
              "datadate    0\n",
              "fyear       0\n",
              "indfmt      0\n",
              "consol      0\n",
              "popsrc      0\n",
              "datafmt     0\n",
              "tic         0\n",
              "curcd       0\n",
              "at          0\n",
              "ceq         0\n",
              "csho        0\n",
              "ebit        0\n",
              "ni          0\n",
              "re          3\n",
              "sale        0\n",
              "seq         0\n",
              "costat      0\n",
              "prcc_c      0\n",
              "Ticker      0\n",
              "Name        0\n",
              "RetYTD      0\n",
              "dtype: int64"
            ]
          },
          "metadata": {},
          "execution_count": 20
        }
      ]
    },
    {
      "cell_type": "markdown",
      "source": [
        "### b. Calculate at least 10 ratios (including at least 2 market-based ratios) to use in the analysis.\n"
      ],
      "metadata": {
        "id": "x6WSNLvIyvuX"
      }
    },
    {
      "cell_type": "markdown",
      "source": [
        "\n",
        "### c. Use the methods from Assignment #4 to help you collect and calculate the financial ratios."
      ],
      "metadata": {
        "id": "0D5Q-OMkI-7u"
      }
    },
    {
      "cell_type": "code",
      "source": [
        "data['Price/Book'] = data['prcc_c']*data['csho']/data['ceq']\n",
        "data['P/E'] =  data['prcc_c']*data['csho']/data['ni']\n",
        "data['P/EBIT'] = data['prcc_c']*data['csho']/data['ebit']\n",
        "data['P/SALES'] = data['prcc_c']*data['csho']/data['sale']\n",
        "\n",
        "\n",
        "data['Book/Price'] = 1/data['Price/Book']\n",
        "data['E/P'] = 1/data['P/E'] \n",
        "data['EBIT/P'] = 1/data['P/EBIT']\n",
        "data['SALES/P'] = 1/data['P/SALES']"
      ],
      "metadata": {
        "id": "ZHoBYX5qyoX2"
      },
      "execution_count": null,
      "outputs": []
    },
    {
      "cell_type": "code",
      "source": [
        "data['ROA'] = data['ni'] / data['at']\n",
        "data['ROE'] = data['ni'] / data['seq']\n",
        "data['Market Value'] = data['prcc_c'] * data['csho']"
      ],
      "metadata": {
        "id": "yH1KIjkF4gvr"
      },
      "execution_count": null,
      "outputs": []
    },
    {
      "cell_type": "code",
      "source": [
        "data['RE/TA ratio']  = data['re']/data['at']\n",
        "data['Asset Turnover Ratio'] = data['sale']/data['at']\n",
        "data['NET PROFIT MARGIN'] = data['ebit'] / data['sale']"
      ],
      "metadata": {
        "id": "v2pGoy6a4eS-"
      },
      "execution_count": null,
      "outputs": []
    },
    {
      "cell_type": "code",
      "source": [
        "#check null values again\n",
        "\n",
        "data.isnull().sum()"
      ],
      "metadata": {
        "colab": {
          "base_uri": "https://localhost:8080/"
        },
        "id": "To0vyYqB6HpU",
        "outputId": "b8f0ff94-953e-4376-c1d5-90f0a96da80c"
      },
      "execution_count": null,
      "outputs": [
        {
          "output_type": "execute_result",
          "data": {
            "text/plain": [
              "gvkey                   0\n",
              "datadate                0\n",
              "fyear                   0\n",
              "indfmt                  0\n",
              "consol                  0\n",
              "popsrc                  0\n",
              "datafmt                 0\n",
              "tic                     0\n",
              "curcd                   0\n",
              "at                      0\n",
              "ceq                     0\n",
              "csho                    0\n",
              "ebit                    0\n",
              "ni                      0\n",
              "re                      3\n",
              "sale                    0\n",
              "seq                     0\n",
              "costat                  0\n",
              "prcc_c                  0\n",
              "Ticker                  0\n",
              "Name                    0\n",
              "RetYTD                  0\n",
              "Price/Book              0\n",
              "P/E                     0\n",
              "P/EBIT                  0\n",
              "P/SALES                 0\n",
              "Book/Price              0\n",
              "E/P                     0\n",
              "EBIT/P                  0\n",
              "SALES/P                 0\n",
              "ROA                     0\n",
              "ROE                     0\n",
              "Market Value            0\n",
              "RE/TA ratio             3\n",
              "Asset Turnover Ratio    0\n",
              "NET PROFIT MARGIN       0\n",
              "dtype: int64"
            ]
          },
          "metadata": {},
          "execution_count": 24
        }
      ]
    },
    {
      "cell_type": "code",
      "source": [
        "data.columns"
      ],
      "metadata": {
        "colab": {
          "base_uri": "https://localhost:8080/"
        },
        "id": "BhJ7ybhQ8jwn",
        "outputId": "bc6e0cd1-30a6-464e-c39d-54063a4d1e4d"
      },
      "execution_count": null,
      "outputs": [
        {
          "output_type": "execute_result",
          "data": {
            "text/plain": [
              "Index(['gvkey', 'datadate', 'fyear', 'indfmt', 'consol', 'popsrc', 'datafmt',\n",
              "       'tic', 'curcd', 'at', 'ceq', 'csho', 'ebit', 'ni', 're', 'sale', 'seq',\n",
              "       'costat', 'prcc_c', 'Ticker', 'Name ', 'RetYTD', 'Price/Book', 'P/E',\n",
              "       'P/EBIT', 'P/SALES', 'Book/Price', 'E/P', 'EBIT/P', 'SALES/P', 'ROA',\n",
              "       'ROE', 'Market Value', 'RE/TA ratio', 'Asset Turnover Ratio',\n",
              "       'NET PROFIT MARGIN'],\n",
              "      dtype='object')"
            ]
          },
          "metadata": {},
          "execution_count": 25
        }
      ]
    },
    {
      "cell_type": "markdown",
      "source": [
        "### d. Ensure that correctly deal with missing values and outliers."
      ],
      "metadata": {
        "id": "sav74sNc8XYP"
      }
    },
    {
      "cell_type": "code",
      "source": [
        "columns = ['Book/Price','E/P', 'EBIT/P', 'SALES/P','ROA', 'ROE', \n",
        "           'Market Value', 'RE/TA ratio', 'Asset Turnover Ratio',\n",
        "           'NET PROFIT MARGIN']\n",
        "\n",
        "\n",
        "#Create boxplots for features to see outliers\n",
        "fig, ax = plt.subplots(5, 2, figsize=(40, 32))\n",
        "for col, subplot in zip(columns, ax.flatten()):\n",
        "    sns.boxplot(x=data[col], ax=subplot)"
      ],
      "metadata": {
        "colab": {
          "base_uri": "https://localhost:8080/",
          "height": 900
        },
        "id": "_uV-SVYJ8bfK",
        "outputId": "0643bcc1-df3c-4f63-b1fb-b77acad4a296"
      },
      "execution_count": null,
      "outputs": [
        {
          "output_type": "display_data",
          "data": {
            "text/plain": [
              "<Figure size 2880x2304 with 10 Axes>"
            ],
            "image/png": "[encoded data removed]"
          },
          "metadata": {
            "needs_background": "light"
          }
        }
      ]
    },
    {
      "cell_type": "markdown",
      "source": [
        "Handle outliers via winsorization"
      ],
      "metadata": {
        "id": "KOaaXuOIA42y"
      }
    },
    {
      "cell_type": "code",
      "source": [
        "from scipy.stats.mstats import winsorize"
      ],
      "metadata": {
        "id": "Nv03s9ES-eA9"
      },
      "execution_count": null,
      "outputs": []
    },
    {
      "cell_type": "code",
      "source": [
        "data['ROA'] = winsorize(data['ROA'],(0.09,0.06))"
      ],
      "metadata": {
        "id": "WwlfMLD3-xtt"
      },
      "execution_count": null,
      "outputs": []
    },
    {
      "cell_type": "code",
      "source": [
        "sns.boxplot(x=data['ROA'])"
      ],
      "metadata": {
        "colab": {
          "base_uri": "https://localhost:8080/",
          "height": 296
        },
        "id": "NlNso4US_G7j",
        "outputId": "bcfcf13c-21ec-4ba0-8a87-b4cdbd0fe3bd"
      },
      "execution_count": null,
      "outputs": [
        {
          "output_type": "execute_result",
          "data": {
            "text/plain": [
              "<matplotlib.axes._subplots.AxesSubplot at 0x7fc0eb941450>"
            ]
          },
          "metadata": {},
          "execution_count": 29
        },
        {
          "output_type": "display_data",
          "data": {
            "text/plain": [
              "<Figure size 432x288 with 1 Axes>"
            ],
            "image/png": "[encoded data removed]"
          },
          "metadata": {
            "needs_background": "light"
          }
        }
      ]
    },
    {
      "cell_type": "code",
      "source": [
        "data['ROE'] = winsorize(data['ROE'],(0.09,0.075))"
      ],
      "metadata": {
        "id": "Gm28rTro_Ssj"
      },
      "execution_count": null,
      "outputs": []
    },
    {
      "cell_type": "code",
      "source": [
        "sns.boxplot(x=data['ROE'])"
      ],
      "metadata": {
        "colab": {
          "base_uri": "https://localhost:8080/",
          "height": 296
        },
        "id": "nrhx8IzX_VCE",
        "outputId": "6a2d405c-41f5-484a-8b3f-72f1a22d0c72"
      },
      "execution_count": null,
      "outputs": [
        {
          "output_type": "execute_result",
          "data": {
            "text/plain": [
              "<matplotlib.axes._subplots.AxesSubplot at 0x7fc0eb574fd0>"
            ]
          },
          "metadata": {},
          "execution_count": 31
        },
        {
          "output_type": "display_data",
          "data": {
            "text/plain": [
              "<Figure size 432x288 with 1 Axes>"
            ],
            "image/png": "[encoded data removed]"
          },
          "metadata": {
            "needs_background": "light"
          }
        }
      ]
    },
    {
      "cell_type": "code",
      "source": [
        "data['Book/Price'] = winsorize(data['Book/Price'],(0.02,0.025))"
      ],
      "metadata": {
        "id": "ALeHH5-tBD-K"
      },
      "execution_count": null,
      "outputs": []
    },
    {
      "cell_type": "code",
      "source": [
        "sns.boxplot(x=data['Book/Price'])"
      ],
      "metadata": {
        "colab": {
          "base_uri": "https://localhost:8080/",
          "height": 296
        },
        "id": "hy8uJ6LWBJ1d",
        "outputId": "fa770bc5-298e-479a-fb67-dddb620d06bc"
      },
      "execution_count": null,
      "outputs": [
        {
          "output_type": "execute_result",
          "data": {
            "text/plain": [
              "<matplotlib.axes._subplots.AxesSubplot at 0x7fc0eb469f10>"
            ]
          },
          "metadata": {},
          "execution_count": 33
        },
        {
          "output_type": "display_data",
          "data": {
            "text/plain": [
              "<Figure size 432x288 with 1 Axes>"
            ],
            "image/png": "[encoded data removed]"
          },
          "metadata": {
            "needs_background": "light"
          }
        }
      ]
    },
    {
      "cell_type": "code",
      "source": [
        "data['E/P'] = winsorize(data['E/P'],(0.08,0.04))"
      ],
      "metadata": {
        "id": "HbOplqq_BW1U"
      },
      "execution_count": null,
      "outputs": []
    },
    {
      "cell_type": "code",
      "source": [
        "sns.boxplot(x=data['E/P'])"
      ],
      "metadata": {
        "colab": {
          "base_uri": "https://localhost:8080/",
          "height": 296
        },
        "id": "BXU7DZXvBccL",
        "outputId": "1c82dfe9-3e3d-4469-df97-adf314744b91"
      },
      "execution_count": null,
      "outputs": [
        {
          "output_type": "execute_result",
          "data": {
            "text/plain": [
              "<matplotlib.axes._subplots.AxesSubplot at 0x7fc0eb5a9c10>"
            ]
          },
          "metadata": {},
          "execution_count": 35
        },
        {
          "output_type": "display_data",
          "data": {
            "text/plain": [
              "<Figure size 432x288 with 1 Axes>"
            ],
            "image/png": "[encoded data removed]"
          },
          "metadata": {
            "needs_background": "light"
          }
        }
      ]
    },
    {
      "cell_type": "code",
      "source": [
        "data['EBIT/P'] = winsorize(data['EBIT/P'],(0.05,0.045))"
      ],
      "metadata": {
        "id": "AclSZLWYBv0B"
      },
      "execution_count": null,
      "outputs": []
    },
    {
      "cell_type": "code",
      "source": [
        "sns.boxplot(x=data['EBIT/P'])"
      ],
      "metadata": {
        "colab": {
          "base_uri": "https://localhost:8080/",
          "height": 296
        },
        "id": "81zYS6wFBx-g",
        "outputId": "7351e04e-0771-4943-93a4-32139300aaa5"
      },
      "execution_count": null,
      "outputs": [
        {
          "output_type": "execute_result",
          "data": {
            "text/plain": [
              "<matplotlib.axes._subplots.AxesSubplot at 0x7fc0e9775610>"
            ]
          },
          "metadata": {},
          "execution_count": 37
        },
        {
          "output_type": "display_data",
          "data": {
            "text/plain": [
              "<Figure size 432x288 with 1 Axes>"
            ],
            "image/png": "[encoded data removed]"
          },
          "metadata": {
            "needs_background": "light"
          }
        }
      ]
    },
    {
      "cell_type": "code",
      "source": [
        "data['SALES/P'] = winsorize(data['SALES/P'],(0,0.095))"
      ],
      "metadata": {
        "id": "EW2hLE8cCJcQ"
      },
      "execution_count": null,
      "outputs": []
    },
    {
      "cell_type": "code",
      "source": [
        "sns.boxplot(x=data['SALES/P'])"
      ],
      "metadata": {
        "colab": {
          "base_uri": "https://localhost:8080/",
          "height": 296
        },
        "id": "j5NKYAynCQIf",
        "outputId": "40be8d8a-d578-4c07-ff04-cc4a0aa8ee61"
      },
      "execution_count": null,
      "outputs": [
        {
          "output_type": "execute_result",
          "data": {
            "text/plain": [
              "<matplotlib.axes._subplots.AxesSubplot at 0x7fc0e972a910>"
            ]
          },
          "metadata": {},
          "execution_count": 39
        },
        {
          "output_type": "display_data",
          "data": {
            "text/plain": [
              "<Figure size 432x288 with 1 Axes>"
            ],
            "image/png": "[encoded data removed]"
          },
          "metadata": {
            "needs_background": "light"
          }
        }
      ]
    },
    {
      "cell_type": "code",
      "source": [
        "data['RE/TA ratio'] = winsorize(data['RE/TA ratio'],(0.105,0.03))"
      ],
      "metadata": {
        "id": "uutyuqblC5cf"
      },
      "execution_count": null,
      "outputs": []
    },
    {
      "cell_type": "code",
      "source": [
        "sns.boxplot(x=data['RE/TA ratio'])"
      ],
      "metadata": {
        "colab": {
          "base_uri": "https://localhost:8080/",
          "height": 296
        },
        "id": "uEOWy-WQC6qW",
        "outputId": "f521416e-1833-4abc-c992-ed671163cc3f"
      },
      "execution_count": null,
      "outputs": [
        {
          "output_type": "execute_result",
          "data": {
            "text/plain": [
              "<matplotlib.axes._subplots.AxesSubplot at 0x7fc0ebffe310>"
            ]
          },
          "metadata": {},
          "execution_count": 41
        },
        {
          "output_type": "display_data",
          "data": {
            "text/plain": [
              "<Figure size 432x288 with 1 Axes>"
            ],
            "image/png": "[encoded data removed]"
          },
          "metadata": {
            "needs_background": "light"
          }
        }
      ]
    },
    {
      "cell_type": "code",
      "source": [
        "data['Asset Turnover Ratio'] = winsorize(data['Asset Turnover Ratio'],(0,0.04))"
      ],
      "metadata": {
        "id": "lb_ZTjqWDKyo"
      },
      "execution_count": null,
      "outputs": []
    },
    {
      "cell_type": "code",
      "source": [
        "sns.boxplot(x=data['Asset Turnover Ratio'])"
      ],
      "metadata": {
        "colab": {
          "base_uri": "https://localhost:8080/",
          "height": 296
        },
        "id": "c0mEvqoaDNwL",
        "outputId": "4285d085-f49b-459e-917e-35aab3d5a2ad"
      },
      "execution_count": null,
      "outputs": [
        {
          "output_type": "execute_result",
          "data": {
            "text/plain": [
              "<matplotlib.axes._subplots.AxesSubplot at 0x7fc0eb535710>"
            ]
          },
          "metadata": {},
          "execution_count": 43
        },
        {
          "output_type": "display_data",
          "data": {
            "text/plain": [
              "<Figure size 432x288 with 1 Axes>"
            ],
            "image/png": "[encoded data removed]"
          },
          "metadata": {
            "needs_background": "light"
          }
        }
      ]
    },
    {
      "cell_type": "code",
      "source": [
        "data['NET PROFIT MARGIN'] = winsorize(data['NET PROFIT MARGIN'],(0.075,0.045))"
      ],
      "metadata": {
        "id": "-b_0WamuD21L"
      },
      "execution_count": null,
      "outputs": []
    },
    {
      "cell_type": "code",
      "source": [
        "sns.boxplot(x=data['NET PROFIT MARGIN'])"
      ],
      "metadata": {
        "colab": {
          "base_uri": "https://localhost:8080/",
          "height": 296
        },
        "id": "2lWhmwcoD8F0",
        "outputId": "6ba00c77-fd10-475b-c771-77a46d236f24"
      },
      "execution_count": null,
      "outputs": [
        {
          "output_type": "execute_result",
          "data": {
            "text/plain": [
              "<matplotlib.axes._subplots.AxesSubplot at 0x7fc0e9714c90>"
            ]
          },
          "metadata": {},
          "execution_count": 45
        },
        {
          "output_type": "display_data",
          "data": {
            "text/plain": [
              "<Figure size 432x288 with 1 Axes>"
            ],
            "image/png": "[encoded data removed]"
          },
          "metadata": {
            "needs_background": "light"
          }
        }
      ]
    },
    {
      "cell_type": "code",
      "source": [
        "data['Market Value'] = winsorize(data['Market Value'],(0,0.14))"
      ],
      "metadata": {
        "id": "9Nv0jc9XEQhE"
      },
      "execution_count": null,
      "outputs": []
    },
    {
      "cell_type": "code",
      "source": [
        "sns.boxplot(x=data['Market Value'])"
      ],
      "metadata": {
        "colab": {
          "base_uri": "https://localhost:8080/",
          "height": 296
        },
        "id": "YZfnAf4_ETEg",
        "outputId": "568af8fa-99ba-4b75-d425-f27a688f095b"
      },
      "execution_count": null,
      "outputs": [
        {
          "output_type": "execute_result",
          "data": {
            "text/plain": [
              "<matplotlib.axes._subplots.AxesSubplot at 0x7fc0e96d9dd0>"
            ]
          },
          "metadata": {},
          "execution_count": 47
        },
        {
          "output_type": "display_data",
          "data": {
            "text/plain": [
              "<Figure size 432x288 with 1 Axes>"
            ],
            "image/png": "[encoded data removed]"
          },
          "metadata": {
            "needs_background": "light"
          }
        }
      ]
    },
    {
      "cell_type": "code",
      "source": [
        "#drop 3 null values for RE/TA ratio\n",
        "data['RE/TA ratio'].dropna(inplace=True)"
      ],
      "metadata": {
        "id": "yV8hSZpLGhdS"
      },
      "execution_count": null,
      "outputs": []
    },
    {
      "cell_type": "markdown",
      "source": [
        "### e. Calculate Save the ticker symbol and the 10+ financial ratios for each stock in the list in a CSV file labelled “Fin-Ratios.csv”."
      ],
      "metadata": {
        "id": "mvsLJXF4FTmo"
      }
    },
    {
      "cell_type": "code",
      "source": [
        "columns_3 = ['Ticker','Book/Price','E/P', 'EBIT/P', 'SALES/P','ROA', 'ROE', \n",
        "           'Market Value', 'RE/TA ratio', 'Asset Turnover Ratio',\n",
        "           'NET PROFIT MARGIN']"
      ],
      "metadata": {
        "id": "At9rWK9pH_bI"
      },
      "execution_count": null,
      "outputs": []
    },
    {
      "cell_type": "code",
      "source": [
        "data[columns_3].to_csv(\"Fin-Ratios.csv\",index=False)"
      ],
      "metadata": {
        "id": "AYDk0TTmH9cI"
      },
      "execution_count": null,
      "outputs": []
    },
    {
      "cell_type": "markdown",
      "source": [
        "## Industry Indicators"
      ],
      "metadata": {
        "id": "oAuUGtoQIqzr"
      }
    },
    {
      "cell_type": "markdown",
      "source": [
        "### a. Using the methods outlined in Assignment #5, determine industry indicators for each stock in the list."
      ],
      "metadata": {
        "id": "UPi8oDCSJZug"
      }
    },
    {
      "cell_type": "code",
      "source": [
        "# import data\n",
        "pt = pd.read_csv('ProjectTickers.csv')\n",
        "tg = pd.read_csv('Project-2021-Sector.csv')"
      ],
      "metadata": {
        "id": "mSa9BrOaIsIt"
      },
      "execution_count": null,
      "outputs": []
    },
    {
      "cell_type": "code",
      "source": [
        "#merge the file based on ticker\n",
        "pt = pt.merge(tg,left_on='Ticker',right_on='tic',how='left')"
      ],
      "metadata": {
        "id": "-D0IClz2KKce"
      },
      "execution_count": null,
      "outputs": []
    },
    {
      "cell_type": "code",
      "source": [
        "pt.shape"
      ],
      "metadata": {
        "colab": {
          "base_uri": "https://localhost:8080/"
        },
        "id": "QeerrYXnKn6M",
        "outputId": "c7bd170e-1144-4c35-88c5-9f46ffb175a6"
      },
      "execution_count": null,
      "outputs": [
        {
          "output_type": "execute_result",
          "data": {
            "text/plain": [
              "(1886, 14)"
            ]
          },
          "metadata": {},
          "execution_count": 53
        }
      ]
    },
    {
      "cell_type": "code",
      "source": [
        "pt.head()"
      ],
      "metadata": {
        "colab": {
          "base_uri": "https://localhost:8080/",
          "height": 206
        },
        "id": "03czf-hEK4Eu",
        "outputId": "b2944e52-df88-4a65-a48d-0e3b9b244d12"
      },
      "execution_count": null,
      "outputs": [
        {
          "output_type": "execute_result",
          "data": {
            "text/plain": [
              "  Ticker                     Name   RetYTD     gvkey    datadate   fyear  \\\n",
              "0      A     Agilent Technologies  -0.2080  126554.0  20211031.0  2021.0   \n",
              "1     AA               Alcoa Corp   0.4731   27638.0  20211231.0  2021.0   \n",
              "2    AAL     American Airlines Gp   0.0579    1045.0  20211231.0  2021.0   \n",
              "3    AAN  Aarons Holdings Company  -0.1327   37445.0  20211231.0  2021.0   \n",
              "4   AAON                 Aaon Inc  -0.3456   21542.0  20211231.0  2021.0   \n",
              "\n",
              "  indfmt consol popsrc datafmt   tic curcd costat  ggroup  \n",
              "0   INDL      C      D     STD     A   USD      A  3520.0  \n",
              "1   INDL      C      D     STD    AA   USD      A  1510.0  \n",
              "2   INDL      C      D     STD   AAL   USD      A  2030.0  \n",
              "3   INDL      C      D     STD   AAN   USD      A  2550.0  \n",
              "4   INDL      C      D     STD  AAON   USD      A  2010.0  "
            ],
            "text/html": [
              "\n",
              "  <div id=\"df-e5305f4d-fb29-474c-a41a-72c0124058df\">\n",
              "    <div class=\"colab-df-container\">\n",
              "      <div>\n",
              "<style scoped>\n",
              "    .dataframe tbody tr th:only-of-type {\n",
              "        vertical-align: middle;\n",
              "    }\n",
              "\n",
              "    .dataframe tbody tr th {\n",
              "        vertical-align: top;\n",
              "    }\n",
              "\n",
              "    .dataframe thead th {\n",
              "        text-align: right;\n",
              "    }\n",
              "</style>\n",
              "<table border=\"1\" class=\"dataframe\">\n",
              "  <thead>\n",
              "    <tr style=\"text-align: right;\">\n",
              "      <th></th>\n",
              "      <th>Ticker</th>\n",
              "      <th>Name</th>\n",
              "      <th>RetYTD</th>\n",
              "      <th>gvkey</th>\n",
              "      <th>datadate</th>\n",
              "      <th>fyear</th>\n",
              "      <th>indfmt</th>\n",
              "      <th>consol</th>\n",
              "      <th>popsrc</th>\n",
              "      <th>datafmt</th>\n",
              "      <th>tic</th>\n",
              "      <th>curcd</th>\n",
              "      <th>costat</th>\n",
              "      <th>ggroup</th>\n",
              "    </tr>\n",
              "  </thead>\n",
              "  <tbody>\n",
              "    <tr>\n",
              "      <th>0</th>\n",
              "      <td>A</td>\n",
              "      <td>Agilent Technologies</td>\n",
              "      <td>-0.2080</td>\n",
              "      <td>126554.0</td>\n",
              "      <td>20211031.0</td>\n",
              "      <td>2021.0</td>\n",
              "      <td>INDL</td>\n",
              "      <td>C</td>\n",
              "      <td>D</td>\n",
              "      <td>STD</td>\n",
              "      <td>A</td>\n",
              "      <td>USD</td>\n",
              "      <td>A</td>\n",
              "      <td>3520.0</td>\n",
              "    </tr>\n",
              "    <tr>\n",
              "      <th>1</th>\n",
              "      <td>AA</td>\n",
              "      <td>Alcoa Corp</td>\n",
              "      <td>0.4731</td>\n",
              "      <td>27638.0</td>\n",
              "      <td>20211231.0</td>\n",
              "      <td>2021.0</td>\n",
              "      <td>INDL</td>\n",
              "      <td>C</td>\n",
              "      <td>D</td>\n",
              "      <td>STD</td>\n",
              "      <td>AA</td>\n",
              "      <td>USD</td>\n",
              "      <td>A</td>\n",
              "      <td>1510.0</td>\n",
              "    </tr>\n",
              "    <tr>\n",
              "      <th>2</th>\n",
              "      <td>AAL</td>\n",
              "      <td>American Airlines Gp</td>\n",
              "      <td>0.0579</td>\n",
              "      <td>1045.0</td>\n",
              "      <td>20211231.0</td>\n",
              "      <td>2021.0</td>\n",
              "      <td>INDL</td>\n",
              "      <td>C</td>\n",
              "      <td>D</td>\n",
              "      <td>STD</td>\n",
              "      <td>AAL</td>\n",
              "      <td>USD</td>\n",
              "      <td>A</td>\n",
              "      <td>2030.0</td>\n",
              "    </tr>\n",
              "    <tr>\n",
              "      <th>3</th>\n",
              "      <td>AAN</td>\n",
              "      <td>Aarons Holdings Company</td>\n",
              "      <td>-0.1327</td>\n",
              "      <td>37445.0</td>\n",
              "      <td>20211231.0</td>\n",
              "      <td>2021.0</td>\n",
              "      <td>INDL</td>\n",
              "      <td>C</td>\n",
              "      <td>D</td>\n",
              "      <td>STD</td>\n",
              "      <td>AAN</td>\n",
              "      <td>USD</td>\n",
              "      <td>A</td>\n",
              "      <td>2550.0</td>\n",
              "    </tr>\n",
              "    <tr>\n",
              "      <th>4</th>\n",
              "      <td>AAON</td>\n",
              "      <td>Aaon Inc</td>\n",
              "      <td>-0.3456</td>\n",
              "      <td>21542.0</td>\n",
              "      <td>20211231.0</td>\n",
              "      <td>2021.0</td>\n",
              "      <td>INDL</td>\n",
              "      <td>C</td>\n",
              "      <td>D</td>\n",
              "      <td>STD</td>\n",
              "      <td>AAON</td>\n",
              "      <td>USD</td>\n",
              "      <td>A</td>\n",
              "      <td>2010.0</td>\n",
              "    </tr>\n",
              "  </tbody>\n",
              "</table>\n",
              "</div>\n",
              "      <button class=\"colab-df-convert\" onclick=\"convertToInteractive('df-e5305f4d-fb29-474c-a41a-72c0124058df')\"\n",
              "              title=\"Convert this dataframe to an interactive table.\"\n",
              "              style=\"display:none;\">\n",
              "        \n",
              "  <svg xmlns=\"http://www.w3.org/2000/svg\" height=\"24px\"viewBox=\"0 0 24 24\"\n",
              "       width=\"24px\">\n",
              "    <path d=\"M0 0h24v24H0V0z\" fill=\"none\"/>\n",
              "    <path d=\"M18.56 5.44l.94 2.06.94-2.06 2.06-.94-2.06-.94-.94-2.06-.94 2.06-2.06.94zm-11 1L8.5 8.5l.94-2.06 2.06-.94-2.06-.94L8.5 2.5l-.94 2.06-2.06.94zm10 10l.94 2.06.94-2.06 2.06-.94-2.06-.94-.94-2.06-.94 2.06-2.06.94z\"/><path d=\"M17.41 7.96l-1.37-1.37c-.4-.4-.92-.59-1.43-.59-.52 0-1.04.2-1.43.59L10.3 9.45l-7.72 7.72c-.78.78-.78 2.05 0 2.83L4 21.41c.39.39.9.59 1.41.59.51 0 1.02-.2 1.41-.59l7.78-7.78 2.81-2.81c.8-.78.8-2.07 0-2.86zM5.41 20L4 18.59l7.72-7.72 1.47 1.35L5.41 20z\"/>\n",
              "  </svg>\n",
              "      </button>\n",
              "      \n",
              "  <style>\n",
              "    .colab-df-container {\n",
              "      display:flex;\n",
              "      flex-wrap:wrap;\n",
              "      gap: 12px;\n",
              "    }\n",
              "\n",
              "    .colab-df-convert {\n",
              "      background-color: #E8F0FE;\n",
              "      border: none;\n",
              "      border-radius: 50%;\n",
              "      cursor: pointer;\n",
              "      display: none;\n",
              "      fill: #1967D2;\n",
              "      height: 32px;\n",
              "      padding: 0 0 0 0;\n",
              "      width: 32px;\n",
              "    }\n",
              "\n",
              "    .colab-df-convert:hover {\n",
              "      background-color: #E2EBFA;\n",
              "      box-shadow: 0px 1px 2px rgba(60, 64, 67, 0.3), 0px 1px 3px 1px rgba(60, 64, 67, 0.15);\n",
              "      fill: #174EA6;\n",
              "    }\n",
              "\n",
              "    [theme=dark] .colab-df-convert {\n",
              "      background-color: #3B4455;\n",
              "      fill: #D2E3FC;\n",
              "    }\n",
              "\n",
              "    [theme=dark] .colab-df-convert:hover {\n",
              "      background-color: #434B5C;\n",
              "      box-shadow: 0px 1px 3px 1px rgba(0, 0, 0, 0.15);\n",
              "      filter: drop-shadow(0px 1px 2px rgba(0, 0, 0, 0.3));\n",
              "      fill: #FFFFFF;\n",
              "    }\n",
              "  </style>\n",
              "\n",
              "      <script>\n",
              "        const buttonEl =\n",
              "          document.querySelector('#df-e5305f4d-fb29-474c-a41a-72c0124058df button.colab-df-convert');\n",
              "        buttonEl.style.display =\n",
              "          google.colab.kernel.accessAllowed ? 'block' : 'none';\n",
              "\n",
              "        async function convertToInteractive(key) {\n",
              "          const element = document.querySelector('#df-e5305f4d-fb29-474c-a41a-72c0124058df');\n",
              "          const dataTable =\n",
              "            await google.colab.kernel.invokeFunction('convertToInteractive',\n",
              "                                                     [key], {});\n",
              "          if (!dataTable) return;\n",
              "\n",
              "          const docLinkHtml = 'Like what you see? Visit the ' +\n",
              "            '<a target=\"_blank\" href=https://colab.research.google.com/notebooks/data_table.ipynb>data table notebook</a>'\n",
              "            + ' to learn more about interactive tables.';\n",
              "          element.innerHTML = '';\n",
              "          dataTable['output_type'] = 'display_data';\n",
              "          await google.colab.output.renderOutput(dataTable, element);\n",
              "          const docLink = document.createElement('div');\n",
              "          docLink.innerHTML = docLinkHtml;\n",
              "          element.appendChild(docLink);\n",
              "        }\n",
              "      </script>\n",
              "    </div>\n",
              "  </div>\n",
              "  "
            ]
          },
          "metadata": {},
          "execution_count": 54
        }
      ]
    },
    {
      "cell_type": "markdown",
      "source": [
        "### b. Save the ticker symbol and the industry indicators for each stock in the list in a CSV file labelled “Industry.csv”."
      ],
      "metadata": {
        "id": "7s4H_oqWLvSN"
      }
    },
    {
      "cell_type": "code",
      "source": [
        "pt[['Ticker','ggroup']].to_csv(\"Industry.csv\",index=False)"
      ],
      "metadata": {
        "id": "WsizGQysLukz"
      },
      "execution_count": null,
      "outputs": []
    },
    {
      "cell_type": "markdown",
      "source": [
        "## Run OLS explanatory for 4 categories:"
      ],
      "metadata": {
        "id": "tGVvoELqMuAc"
      }
    },
    {
      "cell_type": "markdown",
      "source": [
        "### a. Risk Regressions:"
      ],
      "metadata": {
        "id": "cmM76EXMM9z-"
      }
    },
    {
      "cell_type": "markdown",
      "source": [
        "i. $Ret(i) = a + b1*MktExposure(i) + b2*SizeExposure(i) +\n",
        "b3*ValueExposure(i) + e$"
      ],
      "metadata": {
        "id": "DFblfy5LNFpj"
      }
    },
    {
      "cell_type": "code",
      "source": [
        "# regression\n",
        "y = data_ff[\"RET\"]\n",
        "X = data_ff[['mktrf' , 'smb' , 'hml']]\n",
        "#Use statsmodels\n",
        "X = sm.add_constant(X) # adding a constant\n",
        "model = sm.OLS(y, X).fit()\n",
        "print(model.summary())"
      ],
      "metadata": {
        "colab": {
          "base_uri": "https://localhost:8080/"
        },
        "id": "Z5_tOm-PM6p3",
        "outputId": "02a38ea8-fd23-4862-9abf-494489df5490"
      },
      "execution_count": null,
      "outputs": [
        {
          "output_type": "stream",
          "name": "stdout",
          "text": [
            "                            OLS Regression Results                            \n",
            "==============================================================================\n",
            "Dep. Variable:                    RET   R-squared:                       0.151\n",
            "Model:                            OLS   Adj. R-squared:                  0.151\n",
            "Method:                 Least Squares   F-statistic:                     6777.\n",
            "Date:                Wed, 27 Apr 2022   Prob (F-statistic):               0.00\n",
            "Time:                        20:23:26   Log-Likelihood:                 59900.\n",
            "No. Observations:              114715   AIC:                        -1.198e+05\n",
            "Df Residuals:                  114711   BIC:                        -1.198e+05\n",
            "Df Model:                           3                                         \n",
            "Covariance Type:            nonrobust                                         \n",
            "==============================================================================\n",
            "                 coef    std err          t      P>|t|      [0.025      0.975]\n",
            "------------------------------------------------------------------------------\n",
            "const          0.0050      0.000     10.929      0.000       0.004       0.006\n",
            "mktrf          1.0643      0.010    109.305      0.000       1.045       1.083\n",
            "smb            0.6613      0.017     39.009      0.000       0.628       0.695\n",
            "hml            0.3154      0.012     26.001      0.000       0.292       0.339\n",
            "==============================================================================\n",
            "Omnibus:                   282933.493   Durbin-Watson:                   2.056\n",
            "Prob(Omnibus):                  0.000   Jarque-Bera (JB):      23172197231.685\n",
            "Skew:                          25.701   Prob(JB):                         0.00\n",
            "Kurtosis:                    2204.206   Cond. No.                         41.0\n",
            "==============================================================================\n",
            "\n",
            "Warnings:\n",
            "[1] Standard Errors assume that the covariance matrix of the errors is correctly specified.\n"
          ]
        },
        {
          "output_type": "stream",
          "name": "stderr",
          "text": [
            "/usr/local/lib/python3.7/dist-packages/statsmodels/tsa/tsatools.py:117: FutureWarning: In a future version of pandas all arguments of concat except for the argument 'objs' will be keyword-only\n",
            "  x = pd.concat(x[::order], 1)\n"
          ]
        }
      ]
    },
    {
      "cell_type": "markdown",
      "source": [
        "ii. Interpret and explain your findings (focus on R2, Adj R2 and\n",
        "coefficients)\n",
        "\n",
        "* The \"R2\" and \"Adjusted R2\" of 0.151, indicate that 15.1% of the variance for company's Year-To-Date Return can be explained by these risk exposure variables in a linear regression model. \n",
        "* P-values for the coefficients for all variables are 0.000, indicating within 95% confidence interval, all coefficients are statistically different from 0.\n",
        "* All variables are positively related to the Year-To-Date Return. According to the coefficient, e.g., With one unit increase of mktrf, the Year-To-Date will increase by an average of 1.0643.\n",
        "\n"
      ],
      "metadata": {
        "id": "RR_3PZLZRlxk"
      }
    },
    {
      "cell_type": "markdown",
      "source": [
        "### b. Financial Characteristics:\n",
        "i. $Ret(i) = a + c1*Ratio1(i) + c2*Ratio2(i) + … + c10*Ratio10 (i) + e$"
      ],
      "metadata": {
        "id": "EHxtvxWHR0oZ"
      }
    },
    {
      "cell_type": "code",
      "source": [
        "data.head()"
      ],
      "metadata": {
        "colab": {
          "base_uri": "https://localhost:8080/",
          "height": 334
        },
        "id": "7gYQOiXLRseK",
        "outputId": "106edaee-215e-4a9a-acb2-93695a700a22"
      },
      "execution_count": null,
      "outputs": [
        {
          "output_type": "execute_result",
          "data": {
            "text/plain": [
              "   gvkey  datadate  fyear indfmt consol popsrc datafmt  tic curcd         at  \\\n",
              "0   1004  20210531   2020   INDL      C      D     STD  AIR   USD   1539.700   \n",
              "1   1045  20211231   2021   INDL      C      D     STD  AAL   USD  66467.000   \n",
              "2   1075  20211231   2021   INDL      C      D     STD  PNW   USD  22003.222   \n",
              "3   1078  20211231   2021   INDL      C      D     STD  ABT   USD  75196.000   \n",
              "4   1161  20211231   2021   INDL      C      D     STD  AMD   USD  12419.000   \n",
              "\n",
              "   ...  Book/Price       E/P    EBIT/P   SALES/P       ROA       ROE  \\\n",
              "0  ...    0.760488  0.027941  0.051121  1.288865  0.023251  0.036741   \n",
              "1  ...   -0.148290 -0.090778 -0.117984  1.761143 -0.029985  0.271526   \n",
              "2  ...    0.740913  0.077616  0.101023  0.477178  0.028120  0.104758   \n",
              "3  ...    0.144202  0.028480  0.036113  0.173496  0.094034  0.197503   \n",
              "4  ...    0.043164  0.018205  0.021176  0.094618  0.176781  0.421769   \n",
              "\n",
              "   Market Value RE/TA ratio  Asset Turnover Ratio NET PROFIT MARGIN  \n",
              "0    1281.28250    0.469832              1.072547          0.039663  \n",
              "1   11633.19488   -0.219357              0.449576         -0.184526  \n",
              "2    7971.51693    0.145881              0.172876          0.211710  \n",
              "3   29734.98190    0.307915              0.572836          0.208149  \n",
              "4   29734.98190   -0.117079              1.323295          0.223804  \n",
              "\n",
              "[5 rows x 36 columns]"
            ],
            "text/html": [
              "\n",
              "  <div id=\"df-01c3fece-786a-4a8a-a393-aa06b86cf010\">\n",
              "    <div class=\"colab-df-container\">\n",
              "      <div>\n",
              "<style scoped>\n",
              "    .dataframe tbody tr th:only-of-type {\n",
              "        vertical-align: middle;\n",
              "    }\n",
              "\n",
              "    .dataframe tbody tr th {\n",
              "        vertical-align: top;\n",
              "    }\n",
              "\n",
              "    .dataframe thead th {\n",
              "        text-align: right;\n",
              "    }\n",
              "</style>\n",
              "<table border=\"1\" class=\"dataframe\">\n",
              "  <thead>\n",
              "    <tr style=\"text-align: right;\">\n",
              "      <th></th>\n",
              "      <th>gvkey</th>\n",
              "      <th>datadate</th>\n",
              "      <th>fyear</th>\n",
              "      <th>indfmt</th>\n",
              "      <th>consol</th>\n",
              "      <th>popsrc</th>\n",
              "      <th>datafmt</th>\n",
              "      <th>tic</th>\n",
              "      <th>curcd</th>\n",
              "      <th>at</th>\n",
              "      <th>...</th>\n",
              "      <th>Book/Price</th>\n",
              "      <th>E/P</th>\n",
              "      <th>EBIT/P</th>\n",
              "      <th>SALES/P</th>\n",
              "      <th>ROA</th>\n",
              "      <th>ROE</th>\n",
              "      <th>Market Value</th>\n",
              "      <th>RE/TA ratio</th>\n",
              "      <th>Asset Turnover Ratio</th>\n",
              "      <th>NET PROFIT MARGIN</th>\n",
              "    </tr>\n",
              "  </thead>\n",
              "  <tbody>\n",
              "    <tr>\n",
              "      <th>0</th>\n",
              "      <td>1004</td>\n",
              "      <td>20210531</td>\n",
              "      <td>2020</td>\n",
              "      <td>INDL</td>\n",
              "      <td>C</td>\n",
              "      <td>D</td>\n",
              "      <td>STD</td>\n",
              "      <td>AIR</td>\n",
              "      <td>USD</td>\n",
              "      <td>1539.700</td>\n",
              "      <td>...</td>\n",
              "      <td>0.760488</td>\n",
              "      <td>0.027941</td>\n",
              "      <td>0.051121</td>\n",
              "      <td>1.288865</td>\n",
              "      <td>0.023251</td>\n",
              "      <td>0.036741</td>\n",
              "      <td>1281.28250</td>\n",
              "      <td>0.469832</td>\n",
              "      <td>1.072547</td>\n",
              "      <td>0.039663</td>\n",
              "    </tr>\n",
              "    <tr>\n",
              "      <th>1</th>\n",
              "      <td>1045</td>\n",
              "      <td>20211231</td>\n",
              "      <td>2021</td>\n",
              "      <td>INDL</td>\n",
              "      <td>C</td>\n",
              "      <td>D</td>\n",
              "      <td>STD</td>\n",
              "      <td>AAL</td>\n",
              "      <td>USD</td>\n",
              "      <td>66467.000</td>\n",
              "      <td>...</td>\n",
              "      <td>-0.148290</td>\n",
              "      <td>-0.090778</td>\n",
              "      <td>-0.117984</td>\n",
              "      <td>1.761143</td>\n",
              "      <td>-0.029985</td>\n",
              "      <td>0.271526</td>\n",
              "      <td>11633.19488</td>\n",
              "      <td>-0.219357</td>\n",
              "      <td>0.449576</td>\n",
              "      <td>-0.184526</td>\n",
              "    </tr>\n",
              "    <tr>\n",
              "      <th>2</th>\n",
              "      <td>1075</td>\n",
              "      <td>20211231</td>\n",
              "      <td>2021</td>\n",
              "      <td>INDL</td>\n",
              "      <td>C</td>\n",
              "      <td>D</td>\n",
              "      <td>STD</td>\n",
              "      <td>PNW</td>\n",
              "      <td>USD</td>\n",
              "      <td>22003.222</td>\n",
              "      <td>...</td>\n",
              "      <td>0.740913</td>\n",
              "      <td>0.077616</td>\n",
              "      <td>0.101023</td>\n",
              "      <td>0.477178</td>\n",
              "      <td>0.028120</td>\n",
              "      <td>0.104758</td>\n",
              "      <td>7971.51693</td>\n",
              "      <td>0.145881</td>\n",
              "      <td>0.172876</td>\n",
              "      <td>0.211710</td>\n",
              "    </tr>\n",
              "    <tr>\n",
              "      <th>3</th>\n",
              "      <td>1078</td>\n",
              "      <td>20211231</td>\n",
              "      <td>2021</td>\n",
              "      <td>INDL</td>\n",
              "      <td>C</td>\n",
              "      <td>D</td>\n",
              "      <td>STD</td>\n",
              "      <td>ABT</td>\n",
              "      <td>USD</td>\n",
              "      <td>75196.000</td>\n",
              "      <td>...</td>\n",
              "      <td>0.144202</td>\n",
              "      <td>0.028480</td>\n",
              "      <td>0.036113</td>\n",
              "      <td>0.173496</td>\n",
              "      <td>0.094034</td>\n",
              "      <td>0.197503</td>\n",
              "      <td>29734.98190</td>\n",
              "      <td>0.307915</td>\n",
              "      <td>0.572836</td>\n",
              "      <td>0.208149</td>\n",
              "    </tr>\n",
              "    <tr>\n",
              "      <th>4</th>\n",
              "      <td>1161</td>\n",
              "      <td>20211231</td>\n",
              "      <td>2021</td>\n",
              "      <td>INDL</td>\n",
              "      <td>C</td>\n",
              "      <td>D</td>\n",
              "      <td>STD</td>\n",
              "      <td>AMD</td>\n",
              "      <td>USD</td>\n",
              "      <td>12419.000</td>\n",
              "      <td>...</td>\n",
              "      <td>0.043164</td>\n",
              "      <td>0.018205</td>\n",
              "      <td>0.021176</td>\n",
              "      <td>0.094618</td>\n",
              "      <td>0.176781</td>\n",
              "      <td>0.421769</td>\n",
              "      <td>29734.98190</td>\n",
              "      <td>-0.117079</td>\n",
              "      <td>1.323295</td>\n",
              "      <td>0.223804</td>\n",
              "    </tr>\n",
              "  </tbody>\n",
              "</table>\n",
              "<p>5 rows × 36 columns</p>\n",
              "</div>\n",
              "      <button class=\"colab-df-convert\" onclick=\"convertToInteractive('df-01c3fece-786a-4a8a-a393-aa06b86cf010')\"\n",
              "              title=\"Convert this dataframe to an interactive table.\"\n",
              "              style=\"display:none;\">\n",
              "        \n",
              "  <svg xmlns=\"http://www.w3.org/2000/svg\" height=\"24px\"viewBox=\"0 0 24 24\"\n",
              "       width=\"24px\">\n",
              "    <path d=\"M0 0h24v24H0V0z\" fill=\"none\"/>\n",
              "    <path d=\"M18.56 5.44l.94 2.06.94-2.06 2.06-.94-2.06-.94-.94-2.06-.94 2.06-2.06.94zm-11 1L8.5 8.5l.94-2.06 2.06-.94-2.06-.94L8.5 2.5l-.94 2.06-2.06.94zm10 10l.94 2.06.94-2.06 2.06-.94-2.06-.94-.94-2.06-.94 2.06-2.06.94z\"/><path d=\"M17.41 7.96l-1.37-1.37c-.4-.4-.92-.59-1.43-.59-.52 0-1.04.2-1.43.59L10.3 9.45l-7.72 7.72c-.78.78-.78 2.05 0 2.83L4 21.41c.39.39.9.59 1.41.59.51 0 1.02-.2 1.41-.59l7.78-7.78 2.81-2.81c.8-.78.8-2.07 0-2.86zM5.41 20L4 18.59l7.72-7.72 1.47 1.35L5.41 20z\"/>\n",
              "  </svg>\n",
              "      </button>\n",
              "      \n",
              "  <style>\n",
              "    .colab-df-container {\n",
              "      display:flex;\n",
              "      flex-wrap:wrap;\n",
              "      gap: 12px;\n",
              "    }\n",
              "\n",
              "    .colab-df-convert {\n",
              "      background-color: #E8F0FE;\n",
              "      border: none;\n",
              "      border-radius: 50%;\n",
              "      cursor: pointer;\n",
              "      display: none;\n",
              "      fill: #1967D2;\n",
              "      height: 32px;\n",
              "      padding: 0 0 0 0;\n",
              "      width: 32px;\n",
              "    }\n",
              "\n",
              "    .colab-df-convert:hover {\n",
              "      background-color: #E2EBFA;\n",
              "      box-shadow: 0px 1px 2px rgba(60, 64, 67, 0.3), 0px 1px 3px 1px rgba(60, 64, 67, 0.15);\n",
              "      fill: #174EA6;\n",
              "    }\n",
              "\n",
              "    [theme=dark] .colab-df-convert {\n",
              "      background-color: #3B4455;\n",
              "      fill: #D2E3FC;\n",
              "    }\n",
              "\n",
              "    [theme=dark] .colab-df-convert:hover {\n",
              "      background-color: #434B5C;\n",
              "      box-shadow: 0px 1px 3px 1px rgba(0, 0, 0, 0.15);\n",
              "      filter: drop-shadow(0px 1px 2px rgba(0, 0, 0, 0.3));\n",
              "      fill: #FFFFFF;\n",
              "    }\n",
              "  </style>\n",
              "\n",
              "      <script>\n",
              "        const buttonEl =\n",
              "          document.querySelector('#df-01c3fece-786a-4a8a-a393-aa06b86cf010 button.colab-df-convert');\n",
              "        buttonEl.style.display =\n",
              "          google.colab.kernel.accessAllowed ? 'block' : 'none';\n",
              "\n",
              "        async function convertToInteractive(key) {\n",
              "          const element = document.querySelector('#df-01c3fece-786a-4a8a-a393-aa06b86cf010');\n",
              "          const dataTable =\n",
              "            await google.colab.kernel.invokeFunction('convertToInteractive',\n",
              "                                                     [key], {});\n",
              "          if (!dataTable) return;\n",
              "\n",
              "          const docLinkHtml = 'Like what you see? Visit the ' +\n",
              "            '<a target=\"_blank\" href=https://colab.research.google.com/notebooks/data_table.ipynb>data table notebook</a>'\n",
              "            + ' to learn more about interactive tables.';\n",
              "          element.innerHTML = '';\n",
              "          dataTable['output_type'] = 'display_data';\n",
              "          await google.colab.output.renderOutput(dataTable, element);\n",
              "          const docLink = document.createElement('div');\n",
              "          docLink.innerHTML = docLinkHtml;\n",
              "          element.appendChild(docLink);\n",
              "        }\n",
              "      </script>\n",
              "    </div>\n",
              "  </div>\n",
              "  "
            ]
          },
          "metadata": {},
          "execution_count": 57
        }
      ]
    },
    {
      "cell_type": "code",
      "source": [
        "# define x as a subset of original dataframe\n",
        "X = data[columns]\n",
        "X = sm.add_constant(X)\n",
        "# define y as a series\n",
        "y = data['RetYTD']\n",
        "\n",
        "# pass x as a dataframe, while pass y as a series\n",
        "print(sm.OLS(y, X).fit().summary())"
      ],
      "metadata": {
        "colab": {
          "base_uri": "https://localhost:8080/"
        },
        "id": "0xkG9sBSTCAQ",
        "outputId": "3e569860-1ee4-4b23-f611-6bd875f1e524"
      },
      "execution_count": null,
      "outputs": [
        {
          "output_type": "stream",
          "name": "stdout",
          "text": [
            "                            OLS Regression Results                            \n",
            "==============================================================================\n",
            "Dep. Variable:                 RetYTD   R-squared:                       0.095\n",
            "Model:                            OLS   Adj. R-squared:                  0.090\n",
            "Method:                 Least Squares   F-statistic:                     19.59\n",
            "Date:                Wed, 27 Apr 2022   Prob (F-statistic):           9.49e-35\n",
            "Time:                        20:23:26   Log-Likelihood:                 79.986\n",
            "No. Observations:                1886   AIC:                            -138.0\n",
            "Df Residuals:                    1875   BIC:                            -77.01\n",
            "Df Model:                          10                                         \n",
            "Covariance Type:            nonrobust                                         \n",
            "========================================================================================\n",
            "                           coef    std err          t      P>|t|      [0.025      0.975]\n",
            "----------------------------------------------------------------------------------------\n",
            "const                   -0.1817      0.017    -10.926      0.000      -0.214      -0.149\n",
            "Book/Price               0.1593      0.024      6.592      0.000       0.112       0.207\n",
            "E/P                     -0.7036      0.196     -3.598      0.000      -1.087      -0.320\n",
            "EBIT/P                   0.1939      0.150      1.290      0.197      -0.101       0.489\n",
            "SALES/P                  0.1134      0.019      5.940      0.000       0.076       0.151\n",
            "ROA                      0.4272      0.165      2.583      0.010       0.103       0.752\n",
            "ROE                      0.0252      0.040      0.624      0.533      -0.054       0.104\n",
            "Market Value           2.62e-06   5.91e-07      4.437      0.000    1.46e-06    3.78e-06\n",
            "RE/TA ratio             -0.0250      0.018     -1.356      0.175      -0.061       0.011\n",
            "Asset Turnover Ratio    -0.0698      0.020     -3.462      0.001      -0.109      -0.030\n",
            "NET PROFIT MARGIN        0.0193      0.046      0.423      0.673      -0.070       0.109\n",
            "==============================================================================\n",
            "Omnibus:                      640.455   Durbin-Watson:                   1.957\n",
            "Prob(Omnibus):                  0.000   Jarque-Bera (JB):             3915.477\n",
            "Skew:                           1.458   Prob(JB):                         0.00\n",
            "Kurtosis:                       9.428   Cond. No.                     6.25e+05\n",
            "==============================================================================\n",
            "\n",
            "Warnings:\n",
            "[1] Standard Errors assume that the covariance matrix of the errors is correctly specified.\n",
            "[2] The condition number is large, 6.25e+05. This might indicate that there are\n",
            "strong multicollinearity or other numerical problems.\n"
          ]
        },
        {
          "output_type": "stream",
          "name": "stderr",
          "text": [
            "/usr/local/lib/python3.7/dist-packages/statsmodels/tsa/tsatools.py:117: FutureWarning: In a future version of pandas all arguments of concat except for the argument 'objs' will be keyword-only\n",
            "  x = pd.concat(x[::order], 1)\n"
          ]
        }
      ]
    },
    {
      "cell_type": "markdown",
      "source": [
        "ii. Interpret and explain your findings (focus on R2, Adj R2 and\n",
        "coefficients)\n",
        "\n",
        "* The \"R2\" 0.095 and \"Adjusted R2\" of 0.090, indicate that 9% of the variance for company's Year-To-Date Return can be explained by these financial or financial ratio variables in a linear regression model. \n",
        "* P-values for the coefficients for all Book/Price, E/P, SALES/P, ROA, Market Value, Asset Turnover Ratio are less than 0.05, indicating within 95% confidence interval, all coefficient are statistically different from 0. But we cannot reject the null that the coefficients for EBIT/P, ROE, RE/TA ratio, and NET PROFIT MARGIN are 0.\n",
        "* Book/Price, EBIT/P, SALES/P, ROA, ROE, Market Value are positively related to the Year-To-Date Return; while E/P, RE/TA ratio, Asset Turnover Ratio and NET PROFIT MARGIN are negatively related to the Year-To-Date Return. According to the coefficient, e.g., With one unit increase of Book/Price, the Year-To-Date will increase by an average of 0.1593.\n"
      ],
      "metadata": {
        "id": "4nnjQCehToaX"
      }
    },
    {
      "cell_type": "markdown",
      "source": [
        "### c. Industry Dummies:\n"
      ],
      "metadata": {
        "id": "HFL3JS_wT07F"
      }
    },
    {
      "cell_type": "markdown",
      "source": [
        "i. $Ret(i) = a + coefficients*IndustryDummies + e$"
      ],
      "metadata": {
        "id": "nU0vqGgmT3f8"
      }
    },
    {
      "cell_type": "code",
      "source": [
        "pt.head()"
      ],
      "metadata": {
        "colab": {
          "base_uri": "https://localhost:8080/",
          "height": 206
        },
        "id": "_bH1eWvqTn24",
        "outputId": "3641d8fd-e831-4a77-d704-9d2e0e8b611e"
      },
      "execution_count": null,
      "outputs": [
        {
          "output_type": "execute_result",
          "data": {
            "text/plain": [
              "  Ticker                     Name   RetYTD     gvkey    datadate   fyear  \\\n",
              "0      A     Agilent Technologies  -0.2080  126554.0  20211031.0  2021.0   \n",
              "1     AA               Alcoa Corp   0.4731   27638.0  20211231.0  2021.0   \n",
              "2    AAL     American Airlines Gp   0.0579    1045.0  20211231.0  2021.0   \n",
              "3    AAN  Aarons Holdings Company  -0.1327   37445.0  20211231.0  2021.0   \n",
              "4   AAON                 Aaon Inc  -0.3456   21542.0  20211231.0  2021.0   \n",
              "\n",
              "  indfmt consol popsrc datafmt   tic curcd costat  ggroup  \n",
              "0   INDL      C      D     STD     A   USD      A  3520.0  \n",
              "1   INDL      C      D     STD    AA   USD      A  1510.0  \n",
              "2   INDL      C      D     STD   AAL   USD      A  2030.0  \n",
              "3   INDL      C      D     STD   AAN   USD      A  2550.0  \n",
              "4   INDL      C      D     STD  AAON   USD      A  2010.0  "
            ],
            "text/html": [
              "\n",
              "  <div id=\"df-6ba8cc75-a28f-46d0-aec3-8fe7ca989301\">\n",
              "    <div class=\"colab-df-container\">\n",
              "      <div>\n",
              "<style scoped>\n",
              "    .dataframe tbody tr th:only-of-type {\n",
              "        vertical-align: middle;\n",
              "    }\n",
              "\n",
              "    .dataframe tbody tr th {\n",
              "        vertical-align: top;\n",
              "    }\n",
              "\n",
              "    .dataframe thead th {\n",
              "        text-align: right;\n",
              "    }\n",
              "</style>\n",
              "<table border=\"1\" class=\"dataframe\">\n",
              "  <thead>\n",
              "    <tr style=\"text-align: right;\">\n",
              "      <th></th>\n",
              "      <th>Ticker</th>\n",
              "      <th>Name</th>\n",
              "      <th>RetYTD</th>\n",
              "      <th>gvkey</th>\n",
              "      <th>datadate</th>\n",
              "      <th>fyear</th>\n",
              "      <th>indfmt</th>\n",
              "      <th>consol</th>\n",
              "      <th>popsrc</th>\n",
              "      <th>datafmt</th>\n",
              "      <th>tic</th>\n",
              "      <th>curcd</th>\n",
              "      <th>costat</th>\n",
              "      <th>ggroup</th>\n",
              "    </tr>\n",
              "  </thead>\n",
              "  <tbody>\n",
              "    <tr>\n",
              "      <th>0</th>\n",
              "      <td>A</td>\n",
              "      <td>Agilent Technologies</td>\n",
              "      <td>-0.2080</td>\n",
              "      <td>126554.0</td>\n",
              "      <td>20211031.0</td>\n",
              "      <td>2021.0</td>\n",
              "      <td>INDL</td>\n",
              "      <td>C</td>\n",
              "      <td>D</td>\n",
              "      <td>STD</td>\n",
              "      <td>A</td>\n",
              "      <td>USD</td>\n",
              "      <td>A</td>\n",
              "      <td>3520.0</td>\n",
              "    </tr>\n",
              "    <tr>\n",
              "      <th>1</th>\n",
              "      <td>AA</td>\n",
              "      <td>Alcoa Corp</td>\n",
              "      <td>0.4731</td>\n",
              "      <td>27638.0</td>\n",
              "      <td>20211231.0</td>\n",
              "      <td>2021.0</td>\n",
              "      <td>INDL</td>\n",
              "      <td>C</td>\n",
              "      <td>D</td>\n",
              "      <td>STD</td>\n",
              "      <td>AA</td>\n",
              "      <td>USD</td>\n",
              "      <td>A</td>\n",
              "      <td>1510.0</td>\n",
              "    </tr>\n",
              "    <tr>\n",
              "      <th>2</th>\n",
              "      <td>AAL</td>\n",
              "      <td>American Airlines Gp</td>\n",
              "      <td>0.0579</td>\n",
              "      <td>1045.0</td>\n",
              "      <td>20211231.0</td>\n",
              "      <td>2021.0</td>\n",
              "      <td>INDL</td>\n",
              "      <td>C</td>\n",
              "      <td>D</td>\n",
              "      <td>STD</td>\n",
              "      <td>AAL</td>\n",
              "      <td>USD</td>\n",
              "      <td>A</td>\n",
              "      <td>2030.0</td>\n",
              "    </tr>\n",
              "    <tr>\n",
              "      <th>3</th>\n",
              "      <td>AAN</td>\n",
              "      <td>Aarons Holdings Company</td>\n",
              "      <td>-0.1327</td>\n",
              "      <td>37445.0</td>\n",
              "      <td>20211231.0</td>\n",
              "      <td>2021.0</td>\n",
              "      <td>INDL</td>\n",
              "      <td>C</td>\n",
              "      <td>D</td>\n",
              "      <td>STD</td>\n",
              "      <td>AAN</td>\n",
              "      <td>USD</td>\n",
              "      <td>A</td>\n",
              "      <td>2550.0</td>\n",
              "    </tr>\n",
              "    <tr>\n",
              "      <th>4</th>\n",
              "      <td>AAON</td>\n",
              "      <td>Aaon Inc</td>\n",
              "      <td>-0.3456</td>\n",
              "      <td>21542.0</td>\n",
              "      <td>20211231.0</td>\n",
              "      <td>2021.0</td>\n",
              "      <td>INDL</td>\n",
              "      <td>C</td>\n",
              "      <td>D</td>\n",
              "      <td>STD</td>\n",
              "      <td>AAON</td>\n",
              "      <td>USD</td>\n",
              "      <td>A</td>\n",
              "      <td>2010.0</td>\n",
              "    </tr>\n",
              "  </tbody>\n",
              "</table>\n",
              "</div>\n",
              "      <button class=\"colab-df-convert\" onclick=\"convertToInteractive('df-6ba8cc75-a28f-46d0-aec3-8fe7ca989301')\"\n",
              "              title=\"Convert this dataframe to an interactive table.\"\n",
              "              style=\"display:none;\">\n",
              "        \n",
              "  <svg xmlns=\"http://www.w3.org/2000/svg\" height=\"24px\"viewBox=\"0 0 24 24\"\n",
              "       width=\"24px\">\n",
              "    <path d=\"M0 0h24v24H0V0z\" fill=\"none\"/>\n",
              "    <path d=\"M18.56 5.44l.94 2.06.94-2.06 2.06-.94-2.06-.94-.94-2.06-.94 2.06-2.06.94zm-11 1L8.5 8.5l.94-2.06 2.06-.94-2.06-.94L8.5 2.5l-.94 2.06-2.06.94zm10 10l.94 2.06.94-2.06 2.06-.94-2.06-.94-.94-2.06-.94 2.06-2.06.94z\"/><path d=\"M17.41 7.96l-1.37-1.37c-.4-.4-.92-.59-1.43-.59-.52 0-1.04.2-1.43.59L10.3 9.45l-7.72 7.72c-.78.78-.78 2.05 0 2.83L4 21.41c.39.39.9.59 1.41.59.51 0 1.02-.2 1.41-.59l7.78-7.78 2.81-2.81c.8-.78.8-2.07 0-2.86zM5.41 20L4 18.59l7.72-7.72 1.47 1.35L5.41 20z\"/>\n",
              "  </svg>\n",
              "      </button>\n",
              "      \n",
              "  <style>\n",
              "    .colab-df-container {\n",
              "      display:flex;\n",
              "      flex-wrap:wrap;\n",
              "      gap: 12px;\n",
              "    }\n",
              "\n",
              "    .colab-df-convert {\n",
              "      background-color: #E8F0FE;\n",
              "      border: none;\n",
              "      border-radius: 50%;\n",
              "      cursor: pointer;\n",
              "      display: none;\n",
              "      fill: #1967D2;\n",
              "      height: 32px;\n",
              "      padding: 0 0 0 0;\n",
              "      width: 32px;\n",
              "    }\n",
              "\n",
              "    .colab-df-convert:hover {\n",
              "      background-color: #E2EBFA;\n",
              "      box-shadow: 0px 1px 2px rgba(60, 64, 67, 0.3), 0px 1px 3px 1px rgba(60, 64, 67, 0.15);\n",
              "      fill: #174EA6;\n",
              "    }\n",
              "\n",
              "    [theme=dark] .colab-df-convert {\n",
              "      background-color: #3B4455;\n",
              "      fill: #D2E3FC;\n",
              "    }\n",
              "\n",
              "    [theme=dark] .colab-df-convert:hover {\n",
              "      background-color: #434B5C;\n",
              "      box-shadow: 0px 1px 3px 1px rgba(0, 0, 0, 0.15);\n",
              "      filter: drop-shadow(0px 1px 2px rgba(0, 0, 0, 0.3));\n",
              "      fill: #FFFFFF;\n",
              "    }\n",
              "  </style>\n",
              "\n",
              "      <script>\n",
              "        const buttonEl =\n",
              "          document.querySelector('#df-6ba8cc75-a28f-46d0-aec3-8fe7ca989301 button.colab-df-convert');\n",
              "        buttonEl.style.display =\n",
              "          google.colab.kernel.accessAllowed ? 'block' : 'none';\n",
              "\n",
              "        async function convertToInteractive(key) {\n",
              "          const element = document.querySelector('#df-6ba8cc75-a28f-46d0-aec3-8fe7ca989301');\n",
              "          const dataTable =\n",
              "            await google.colab.kernel.invokeFunction('convertToInteractive',\n",
              "                                                     [key], {});\n",
              "          if (!dataTable) return;\n",
              "\n",
              "          const docLinkHtml = 'Like what you see? Visit the ' +\n",
              "            '<a target=\"_blank\" href=https://colab.research.google.com/notebooks/data_table.ipynb>data table notebook</a>'\n",
              "            + ' to learn more about interactive tables.';\n",
              "          element.innerHTML = '';\n",
              "          dataTable['output_type'] = 'display_data';\n",
              "          await google.colab.output.renderOutput(dataTable, element);\n",
              "          const docLink = document.createElement('div');\n",
              "          docLink.innerHTML = docLinkHtml;\n",
              "          element.appendChild(docLink);\n",
              "        }\n",
              "      </script>\n",
              "    </div>\n",
              "  </div>\n",
              "  "
            ]
          },
          "metadata": {},
          "execution_count": 59
        }
      ]
    },
    {
      "cell_type": "code",
      "source": [
        "pt_dum = pd.get_dummies(pt, columns=['ggroup'],drop_first=True)"
      ],
      "metadata": {
        "id": "SgixJRvKUJGg"
      },
      "execution_count": null,
      "outputs": []
    },
    {
      "cell_type": "code",
      "source": [
        "pt_dum.columns"
      ],
      "metadata": {
        "colab": {
          "base_uri": "https://localhost:8080/"
        },
        "id": "OTk9FE4mVIB5",
        "outputId": "b79cf443-4c79-4ef1-b175-83e4bec53a11"
      },
      "execution_count": null,
      "outputs": [
        {
          "output_type": "execute_result",
          "data": {
            "text/plain": [
              "Index(['Ticker', 'Name ', 'RetYTD', 'gvkey', 'datadate', 'fyear', 'indfmt',\n",
              "       'consol', 'popsrc', 'datafmt', 'tic', 'curcd', 'costat',\n",
              "       'ggroup_1510.0', 'ggroup_2010.0', 'ggroup_2020.0', 'ggroup_2030.0',\n",
              "       'ggroup_2510.0', 'ggroup_2520.0', 'ggroup_2530.0', 'ggroup_2550.0',\n",
              "       'ggroup_3010.0', 'ggroup_3020.0', 'ggroup_3030.0', 'ggroup_3510.0',\n",
              "       'ggroup_3520.0', 'ggroup_4010.0', 'ggroup_4020.0', 'ggroup_4030.0',\n",
              "       'ggroup_4510.0', 'ggroup_4520.0', 'ggroup_4530.0', 'ggroup_5010.0',\n",
              "       'ggroup_5020.0', 'ggroup_5510.0', 'ggroup_6010.0'],\n",
              "      dtype='object')"
            ]
          },
          "metadata": {},
          "execution_count": 61
        }
      ]
    },
    {
      "cell_type": "code",
      "source": [
        "# define X as a subset of original dataframe\n",
        "pt_dum['constant'] = 1\n",
        "\n",
        "X = pt_dum[['ggroup_1510.0', 'ggroup_2010.0', 'ggroup_2020.0', 'ggroup_2030.0',\n",
        "       'ggroup_2510.0', 'ggroup_2520.0', 'ggroup_2530.0', 'ggroup_2550.0',\n",
        "       'ggroup_3010.0', 'ggroup_3020.0', 'ggroup_3030.0', 'ggroup_3510.0',\n",
        "       'ggroup_3520.0', 'ggroup_4010.0', 'ggroup_4020.0', 'ggroup_4030.0',\n",
        "       'ggroup_4510.0', 'ggroup_4520.0', 'ggroup_4530.0', 'ggroup_5010.0',\n",
        "       'ggroup_5020.0', 'ggroup_5510.0', 'ggroup_6010.0','constant']]\n",
        "# define y as a series\n",
        "y = pt_dum['RetYTD']\n",
        "\n",
        "# pass x as a dataframe, while pass y as a series\n",
        "print(sm.OLS(y, X).fit().summary())"
      ],
      "metadata": {
        "colab": {
          "base_uri": "https://localhost:8080/"
        },
        "id": "RXnnI1dpUkNS",
        "outputId": "0a146ff8-2b96-4cf5-e0c6-223e9e3dfd9e"
      },
      "execution_count": null,
      "outputs": [
        {
          "output_type": "stream",
          "name": "stdout",
          "text": [
            "                            OLS Regression Results                            \n",
            "==============================================================================\n",
            "Dep. Variable:                 RetYTD   R-squared:                       0.186\n",
            "Model:                            OLS   Adj. R-squared:                  0.176\n",
            "Method:                 Least Squares   F-statistic:                     18.56\n",
            "Date:                Wed, 27 Apr 2022   Prob (F-statistic):           1.10e-67\n",
            "Time:                        20:23:27   Log-Likelihood:                 180.91\n",
            "No. Observations:                1886   AIC:                            -313.8\n",
            "Df Residuals:                    1862   BIC:                            -180.8\n",
            "Df Model:                          23                                         \n",
            "Covariance Type:            nonrobust                                         \n",
            "=================================================================================\n",
            "                    coef    std err          t      P>|t|      [0.025      0.975]\n",
            "---------------------------------------------------------------------------------\n",
            "ggroup_1510.0    -0.1206      0.029     -4.166      0.000      -0.177      -0.064\n",
            "ggroup_2010.0    -0.2812      0.024    -11.576      0.000      -0.329      -0.234\n",
            "ggroup_2020.0    -0.2187      0.034     -6.505      0.000      -0.285      -0.153\n",
            "ggroup_2030.0    -0.2489      0.040     -6.245      0.000      -0.327      -0.171\n",
            "ggroup_2510.0    -0.3989      0.049     -8.095      0.000      -0.496      -0.302\n",
            "ggroup_2520.0    -0.3911      0.035    -11.259      0.000      -0.459      -0.323\n",
            "ggroup_2530.0    -0.2466      0.033     -7.513      0.000      -0.311      -0.182\n",
            "ggroup_2550.0    -0.3313      0.030    -10.970      0.000      -0.391      -0.272\n",
            "ggroup_3010.0    -0.1056      0.058     -1.822      0.069      -0.219       0.008\n",
            "ggroup_3020.0    -0.1611      0.041     -3.953      0.000      -0.241      -0.081\n",
            "ggroup_3030.0    -0.3341      0.058     -5.764      0.000      -0.448      -0.220\n",
            "ggroup_3510.0    -0.2538      0.027     -9.320      0.000      -0.307      -0.200\n",
            "ggroup_3520.0    -0.3509      0.025    -14.249      0.000      -0.399      -0.303\n",
            "ggroup_4010.0    -0.2729      0.024    -11.392      0.000      -0.320      -0.226\n",
            "ggroup_4020.0    -0.3059      0.029    -10.527      0.000      -0.363      -0.249\n",
            "ggroup_4030.0    -0.1813      0.033     -5.458      0.000      -0.246      -0.116\n",
            "ggroup_4510.0    -0.2874      0.027    -10.497      0.000      -0.341      -0.234\n",
            "ggroup_4520.0    -0.3663      0.031    -11.920      0.000      -0.427      -0.306\n",
            "ggroup_4530.0    -0.4384      0.035    -12.349      0.000      -0.508      -0.369\n",
            "ggroup_5010.0    -0.1732      0.064     -2.716      0.007      -0.298      -0.048\n",
            "ggroup_5020.0    -0.2537      0.039     -6.431      0.000      -0.331      -0.176\n",
            "ggroup_5510.0    -0.1443      0.034     -4.265      0.000      -0.211      -0.078\n",
            "ggroup_6010.0    -0.2209      0.026     -8.508      0.000      -0.272      -0.170\n",
            "constant          0.1850      0.017     10.678      0.000       0.151       0.219\n",
            "==============================================================================\n",
            "Omnibus:                      479.411   Durbin-Watson:                   2.027\n",
            "Prob(Omnibus):                  0.000   Jarque-Bera (JB):             2546.294\n",
            "Skew:                           1.091   Prob(JB):                         0.00\n",
            "Kurtosis:                       8.257   Cond. No.                         18.5\n",
            "==============================================================================\n",
            "\n",
            "Warnings:\n",
            "[1] Standard Errors assume that the covariance matrix of the errors is correctly specified.\n"
          ]
        }
      ]
    },
    {
      "cell_type": "markdown",
      "source": [
        "ii. Interpret and explain your findings (focus on R2, Adj R2 and\n",
        "coefficients)\n",
        "\n",
        "* The \"R2\" of 0.186 and \"Adjusted R2\" of 0.176, indicate that 17.6% of the variance for company's Year-To-Date Return can be explained by these industry group variables in a linear regression model. \n",
        "* P-values for the coefficients for almost all variables are less than 0.05, indicating within 95% confidence interval, all coefficients are statistically different from 0. But we can not reject the null that the coefficient for ggroup_3010 is 0.\n",
        "* All variables are negatively related to the Year-To-Date Return. According to the coefficient, e.g., when a company is in ggroup_1510, the Year-To-Date will decrease by an average of 0.1206."
      ],
      "metadata": {
        "id": "4rr93djzV3sr"
      }
    },
    {
      "cell_type": "markdown",
      "source": [
        "### d. Combined Regressions:\n"
      ],
      "metadata": {
        "id": "D62nikKiWHP9"
      }
    },
    {
      "cell_type": "code",
      "source": [
        "data_ff.shape"
      ],
      "metadata": {
        "colab": {
          "base_uri": "https://localhost:8080/"
        },
        "id": "NUFOYy2WWv9K",
        "outputId": "49d9306d-32af-41ce-ed5e-2f7b56e28b2c"
      },
      "execution_count": null,
      "outputs": [
        {
          "output_type": "execute_result",
          "data": {
            "text/plain": [
              "(114715, 9)"
            ]
          },
          "metadata": {},
          "execution_count": 63
        }
      ]
    },
    {
      "cell_type": "code",
      "source": [
        "#combine datasets\n",
        "data_all = data_ff.merge(data[columns_3],how='inner',left_on='TICKER',right_on='Ticker')\n",
        "data_all = data_all.merge(pt_dum,how='inner',on='Ticker')"
      ],
      "metadata": {
        "id": "5vHCFvNgV42Y"
      },
      "execution_count": null,
      "outputs": []
    },
    {
      "cell_type": "code",
      "source": [
        "data_all.shape"
      ],
      "metadata": {
        "colab": {
          "base_uri": "https://localhost:8080/"
        },
        "id": "mhGfxDETaIdd",
        "outputId": "5b8bc311-2774-4c3c-ad3a-6bf720b56d85"
      },
      "execution_count": null,
      "outputs": [
        {
          "output_type": "execute_result",
          "data": {
            "text/plain": [
              "(113160, 56)"
            ]
          },
          "metadata": {},
          "execution_count": 65
        }
      ]
    },
    {
      "cell_type": "code",
      "source": [
        "data_all.columns"
      ],
      "metadata": {
        "colab": {
          "base_uri": "https://localhost:8080/"
        },
        "id": "UaGcPJrNarcy",
        "outputId": "0558a8da-c97a-474d-f976-56ce4ad3f8cc"
      },
      "execution_count": null,
      "outputs": [
        {
          "output_type": "execute_result",
          "data": {
            "text/plain": [
              "Index(['PERMNO', 'date', 'TICKER', 'RET', 'dateff', 'mktrf', 'smb', 'hml',\n",
              "       'rf', 'Ticker', 'Book/Price', 'E/P', 'EBIT/P', 'SALES/P', 'ROA', 'ROE',\n",
              "       'Market Value', 'RE/TA ratio', 'Asset Turnover Ratio',\n",
              "       'NET PROFIT MARGIN', 'Name ', 'RetYTD', 'gvkey', 'datadate', 'fyear',\n",
              "       'indfmt', 'consol', 'popsrc', 'datafmt', 'tic', 'curcd', 'costat',\n",
              "       'ggroup_1510.0', 'ggroup_2010.0', 'ggroup_2020.0', 'ggroup_2030.0',\n",
              "       'ggroup_2510.0', 'ggroup_2520.0', 'ggroup_2530.0', 'ggroup_2550.0',\n",
              "       'ggroup_3010.0', 'ggroup_3020.0', 'ggroup_3030.0', 'ggroup_3510.0',\n",
              "       'ggroup_3520.0', 'ggroup_4010.0', 'ggroup_4020.0', 'ggroup_4030.0',\n",
              "       'ggroup_4510.0', 'ggroup_4520.0', 'ggroup_4530.0', 'ggroup_5010.0',\n",
              "       'ggroup_5020.0', 'ggroup_5510.0', 'ggroup_6010.0', 'constant'],\n",
              "      dtype='object')"
            ]
          },
          "metadata": {},
          "execution_count": 66
        }
      ]
    },
    {
      "cell_type": "code",
      "source": [
        "X = data_all[['mktrf','smb' ,'hml','Book/Price','E/P', 'EBIT/P', 'SALES/P','ROA', 'ROE', \n",
        "           'Market Value', 'RE/TA ratio', 'Asset Turnover Ratio',\n",
        "           'NET PROFIT MARGIN','ggroup_1510.0', 'ggroup_2010.0', 'ggroup_2020.0', 'ggroup_2030.0',\n",
        "       'ggroup_2510.0', 'ggroup_2520.0', 'ggroup_2530.0', 'ggroup_2550.0',\n",
        "       'ggroup_3010.0', 'ggroup_3020.0', 'ggroup_3030.0', 'ggroup_3510.0',\n",
        "       'ggroup_3520.0', 'ggroup_4010.0', 'ggroup_4020.0', 'ggroup_4030.0',\n",
        "       'ggroup_4510.0', 'ggroup_4520.0', 'ggroup_4530.0', 'ggroup_5010.0',\n",
        "       'ggroup_5020.0', 'ggroup_5510.0', 'ggroup_6010.0','constant',]]\n",
        "X = sm.add_constant(X)\n",
        "\n",
        "# define y as a series\n",
        "y = data_all['RetYTD']\n",
        "# pass x as a dataframe, while pass y as a series\n",
        "print(sm.OLS(y, X).fit().summary())"
      ],
      "metadata": {
        "colab": {
          "base_uri": "https://localhost:8080/"
        },
        "id": "8Rcc8HrtYi8m",
        "outputId": "35f4269a-421f-4d88-9440-b805d330f0ae"
      },
      "execution_count": null,
      "outputs": [
        {
          "output_type": "stream",
          "name": "stderr",
          "text": [
            "/usr/local/lib/python3.7/dist-packages/statsmodels/tsa/tsatools.py:117: FutureWarning: In a future version of pandas all arguments of concat except for the argument 'objs' will be keyword-only\n",
            "  x = pd.concat(x[::order], 1)\n"
          ]
        },
        {
          "output_type": "stream",
          "name": "stdout",
          "text": [
            "                            OLS Regression Results                            \n",
            "==============================================================================\n",
            "Dep. Variable:                 RetYTD   R-squared:                       0.255\n",
            "Model:                            OLS   Adj. R-squared:                  0.254\n",
            "Method:                 Least Squares   F-statistic:                     1073.\n",
            "Date:                Wed, 27 Apr 2022   Prob (F-statistic):               0.00\n",
            "Time:                        20:23:27   Log-Likelihood:                 15797.\n",
            "No. Observations:              113160   AIC:                        -3.152e+04\n",
            "Df Residuals:                  113123   BIC:                        -3.116e+04\n",
            "Df Model:                          36                                         \n",
            "Covariance Type:            nonrobust                                         \n",
            "========================================================================================\n",
            "                           coef    std err          t      P>|t|      [0.025      0.975]\n",
            "----------------------------------------------------------------------------------------\n",
            "mktrf                 1.305e-13      0.014   9.08e-12      1.000      -0.028       0.028\n",
            "smb                  -2.149e-12      0.025  -8.59e-11      1.000      -0.049       0.049\n",
            "hml                   1.647e-12      0.018    9.2e-11      1.000      -0.035       0.035\n",
            "Book/Price               0.1482      0.003     49.387      0.000       0.142       0.154\n",
            "E/P                     -0.1115      0.024     -4.622      0.000      -0.159      -0.064\n",
            "EBIT/P                  -0.0579      0.018     -3.168      0.002      -0.094      -0.022\n",
            "SALES/P                  0.0894      0.002     37.992      0.000       0.085       0.094\n",
            "ROA                     -0.1417      0.022     -6.322      0.000      -0.186      -0.098\n",
            "ROE                      0.0602      0.005     12.500      0.000       0.051       0.070\n",
            "Market Value          1.855e-06   7.12e-08     26.033      0.000    1.72e-06    1.99e-06\n",
            "RE/TA ratio             -0.0310      0.002    -13.415      0.000      -0.035      -0.026\n",
            "Asset Turnover Ratio    -0.0472      0.003    -18.176      0.000      -0.052      -0.042\n",
            "NET PROFIT MARGIN        0.2148      0.007     30.880      0.000       0.201       0.228\n",
            "ggroup_1510.0           -0.1100      0.004    -30.451      0.000      -0.117      -0.103\n",
            "ggroup_2010.0           -0.2417      0.003    -78.829      0.000      -0.248      -0.236\n",
            "ggroup_2020.0           -0.1905      0.004    -45.400      0.000      -0.199      -0.182\n",
            "ggroup_2030.0           -0.2423      0.005    -48.786      0.000      -0.252      -0.233\n",
            "ggroup_2510.0           -0.3997      0.006    -65.179      0.000      -0.412      -0.388\n",
            "ggroup_2520.0           -0.3681      0.004    -84.114      0.000      -0.377      -0.360\n",
            "ggroup_2530.0           -0.1852      0.004    -44.675      0.000      -0.193      -0.177\n",
            "ggroup_2550.0           -0.3150      0.004    -80.722      0.000      -0.323      -0.307\n",
            "ggroup_3010.0           -0.1036      0.007    -13.862      0.000      -0.118      -0.089\n",
            "ggroup_3020.0           -0.1329      0.005    -26.267      0.000      -0.143      -0.123\n",
            "ggroup_3030.0           -0.2623      0.007    -36.375      0.000      -0.276      -0.248\n",
            "ggroup_3510.0           -0.1946      0.003    -57.082      0.000      -0.201      -0.188\n",
            "ggroup_3520.0           -0.2632      0.003    -78.692      0.000      -0.270      -0.257\n",
            "ggroup_4010.0           -0.3813      0.004    -91.024      0.000      -0.389      -0.373\n",
            "ggroup_4020.0           -0.3705      0.004    -93.046      0.000      -0.378      -0.363\n",
            "ggroup_4030.0           -0.2614      0.004    -60.633      0.000      -0.270      -0.253\n",
            "ggroup_4510.0           -0.2120      0.004    -60.525      0.000      -0.219      -0.205\n",
            "ggroup_4520.0           -0.3272      0.004    -85.833      0.000      -0.335      -0.320\n",
            "ggroup_4530.0           -0.3705      0.004    -83.214      0.000      -0.379      -0.362\n",
            "ggroup_5010.0           -0.1618      0.008    -20.584      0.000      -0.177      -0.146\n",
            "ggroup_5020.0           -0.2284      0.005    -46.503      0.000      -0.238      -0.219\n",
            "ggroup_5510.0           -0.1636      0.004    -38.155      0.000      -0.172      -0.155\n",
            "ggroup_6010.0           -0.2389      0.003    -68.435      0.000      -0.246      -0.232\n",
            "constant                 0.0493      0.003     15.598      0.000       0.043       0.056\n",
            "==============================================================================\n",
            "Omnibus:                    29742.792   Durbin-Watson:                   0.033\n",
            "Prob(Omnibus):                  0.000   Jarque-Bera (JB):           172016.521\n",
            "Skew:                           1.142   Prob(JB):                         0.00\n",
            "Kurtosis:                       8.592   Cond. No.                     6.88e+05\n",
            "==============================================================================\n",
            "\n",
            "Warnings:\n",
            "[1] Standard Errors assume that the covariance matrix of the errors is correctly specified.\n",
            "[2] The condition number is large, 6.88e+05. This might indicate that there are\n",
            "strong multicollinearity or other numerical problems.\n"
          ]
        }
      ]
    },
    {
      "cell_type": "markdown",
      "source": [
        "ii. Interpret and explain your findings (focus on R2, Adj R2 and\n",
        "coefficients)"
      ],
      "metadata": {
        "id": "sDdkLVNZcawd"
      }
    },
    {
      "cell_type": "markdown",
      "source": [
        "\n",
        "* The \"R2\" of 0.255 and \"Adjusted R2\" of 0.254, indicate that 25.4% of the variance for company's Year-To-Date Return can be explained by all these variables in a linear regression model. \n",
        "* P-values for the coefficients for almost all variables are less than 0.05, indicating within 95% confidence interval, all coefficients are statistically different from 0. But we can not reject the null that the coefficient for three risk exposure variables is 0.\n",
        "* Most variables are negatively related to the Year-To-Date Return, while Book/Price, SALES/P, SALES/P, Market Value are positively related to the company's Year-To-Date Return. According to the coefficient, e.g., With one unit increase of Book/Price ratio, the Year-To-Date will increase by an average of 0.1482."
      ],
      "metadata": {
        "id": "SyQcQCTDjp_1"
      }
    },
    {
      "cell_type": "markdown",
      "source": [
        "## Appendix:"
      ],
      "metadata": {
        "id": "0mu-uXPDk-Ue"
      }
    },
    {
      "cell_type": "markdown",
      "source": [
        "### 1. Heatmap to check variable correlation"
      ],
      "metadata": {
        "id": "f0TBYnyg-8Rp"
      }
    },
    {
      "cell_type": "code",
      "source": [
        "corr = data_all[['mktrf','smb' ,'hml','Book/Price','E/P', 'EBIT/P', 'SALES/P','ROA', 'ROE', \n",
        "           'Market Value', 'RE/TA ratio', 'Asset Turnover Ratio',\n",
        "           'NET PROFIT MARGIN','ggroup_1510.0', 'ggroup_2010.0', 'ggroup_2020.0', 'ggroup_2030.0',\n",
        "       'ggroup_2510.0', 'ggroup_2520.0', 'ggroup_2530.0', 'ggroup_2550.0',\n",
        "       'ggroup_3010.0', 'ggroup_3020.0', 'ggroup_3030.0', 'ggroup_3510.0',\n",
        "       'ggroup_3520.0', 'ggroup_4010.0', 'ggroup_4020.0', 'ggroup_4030.0',\n",
        "       'ggroup_4510.0', 'ggroup_4520.0', 'ggroup_4530.0', 'ggroup_5010.0',\n",
        "       'ggroup_5020.0', 'ggroup_5510.0', 'ggroup_6010.0','RetYTD']].corr()"
      ],
      "metadata": {
        "id": "Xqw21ehhlBrz"
      },
      "execution_count": null,
      "outputs": []
    },
    {
      "cell_type": "code",
      "source": [
        "plt.figure(figsize=(15,15))\n",
        "sns.heatmap(corr,cmap='Blues')"
      ],
      "metadata": {
        "colab": {
          "base_uri": "https://localhost:8080/",
          "height": 978
        },
        "id": "5Vhb-zwglWBE",
        "outputId": "fb91c77e-4434-43af-c192-d445c4fb9fc8"
      },
      "execution_count": null,
      "outputs": [
        {
          "output_type": "execute_result",
          "data": {
            "text/plain": [
              "<matplotlib.axes._subplots.AxesSubplot at 0x7fc0eb53b850>"
            ]
          },
          "metadata": {},
          "execution_count": 69
        },
        {
          "output_type": "display_data",
          "data": {
            "text/plain": [
              "<Figure size 1080x1080 with 2 Axes>"
            ],
            "image/png": "[encoded data removed]"
          },
          "metadata": {
            "needs_background": "light"
          }
        }
      ]
    },
    {
      "cell_type": "markdown",
      "source": [
        "### 2. Companies number distribution in each Sector"
      ],
      "metadata": {
        "id": "yS4wutQfmPyp"
      }
    },
    {
      "cell_type": "code",
      "source": [
        "pt.head()"
      ],
      "metadata": {
        "colab": {
          "base_uri": "https://localhost:8080/",
          "height": 206
        },
        "id": "4R9mv_eqlf0-",
        "outputId": "d39af5b1-ae5e-45d7-d29a-dd5e1c13f9ac"
      },
      "execution_count": null,
      "outputs": [
        {
          "output_type": "execute_result",
          "data": {
            "text/plain": [
              "  Ticker                     Name   RetYTD     gvkey    datadate   fyear  \\\n",
              "0      A     Agilent Technologies  -0.2080  126554.0  20211031.0  2021.0   \n",
              "1     AA               Alcoa Corp   0.4731   27638.0  20211231.0  2021.0   \n",
              "2    AAL     American Airlines Gp   0.0579    1045.0  20211231.0  2021.0   \n",
              "3    AAN  Aarons Holdings Company  -0.1327   37445.0  20211231.0  2021.0   \n",
              "4   AAON                 Aaon Inc  -0.3456   21542.0  20211231.0  2021.0   \n",
              "\n",
              "  indfmt consol popsrc datafmt   tic curcd costat  ggroup  \n",
              "0   INDL      C      D     STD     A   USD      A  3520.0  \n",
              "1   INDL      C      D     STD    AA   USD      A  1510.0  \n",
              "2   INDL      C      D     STD   AAL   USD      A  2030.0  \n",
              "3   INDL      C      D     STD   AAN   USD      A  2550.0  \n",
              "4   INDL      C      D     STD  AAON   USD      A  2010.0  "
            ],
            "text/html": [
              "\n",
              "  <div id=\"df-e0cda81c-9c01-45ae-aaf7-bb9c568c2e9b\">\n",
              "    <div class=\"colab-df-container\">\n",
              "      <div>\n",
              "<style scoped>\n",
              "    .dataframe tbody tr th:only-of-type {\n",
              "        vertical-align: middle;\n",
              "    }\n",
              "\n",
              "    .dataframe tbody tr th {\n",
              "        vertical-align: top;\n",
              "    }\n",
              "\n",
              "    .dataframe thead th {\n",
              "        text-align: right;\n",
              "    }\n",
              "</style>\n",
              "<table border=\"1\" class=\"dataframe\">\n",
              "  <thead>\n",
              "    <tr style=\"text-align: right;\">\n",
              "      <th></th>\n",
              "      <th>Ticker</th>\n",
              "      <th>Name</th>\n",
              "      <th>RetYTD</th>\n",
              "      <th>gvkey</th>\n",
              "      <th>datadate</th>\n",
              "      <th>fyear</th>\n",
              "      <th>indfmt</th>\n",
              "      <th>consol</th>\n",
              "      <th>popsrc</th>\n",
              "      <th>datafmt</th>\n",
              "      <th>tic</th>\n",
              "      <th>curcd</th>\n",
              "      <th>costat</th>\n",
              "      <th>ggroup</th>\n",
              "    </tr>\n",
              "  </thead>\n",
              "  <tbody>\n",
              "    <tr>\n",
              "      <th>0</th>\n",
              "      <td>A</td>\n",
              "      <td>Agilent Technologies</td>\n",
              "      <td>-0.2080</td>\n",
              "      <td>126554.0</td>\n",
              "      <td>20211031.0</td>\n",
              "      <td>2021.0</td>\n",
              "      <td>INDL</td>\n",
              "      <td>C</td>\n",
              "      <td>D</td>\n",
              "      <td>STD</td>\n",
              "      <td>A</td>\n",
              "      <td>USD</td>\n",
              "      <td>A</td>\n",
              "      <td>3520.0</td>\n",
              "    </tr>\n",
              "    <tr>\n",
              "      <th>1</th>\n",
              "      <td>AA</td>\n",
              "      <td>Alcoa Corp</td>\n",
              "      <td>0.4731</td>\n",
              "      <td>27638.0</td>\n",
              "      <td>20211231.0</td>\n",
              "      <td>2021.0</td>\n",
              "      <td>INDL</td>\n",
              "      <td>C</td>\n",
              "      <td>D</td>\n",
              "      <td>STD</td>\n",
              "      <td>AA</td>\n",
              "      <td>USD</td>\n",
              "      <td>A</td>\n",
              "      <td>1510.0</td>\n",
              "    </tr>\n",
              "    <tr>\n",
              "      <th>2</th>\n",
              "      <td>AAL</td>\n",
              "      <td>American Airlines Gp</td>\n",
              "      <td>0.0579</td>\n",
              "      <td>1045.0</td>\n",
              "      <td>20211231.0</td>\n",
              "      <td>2021.0</td>\n",
              "      <td>INDL</td>\n",
              "      <td>C</td>\n",
              "      <td>D</td>\n",
              "      <td>STD</td>\n",
              "      <td>AAL</td>\n",
              "      <td>USD</td>\n",
              "      <td>A</td>\n",
              "      <td>2030.0</td>\n",
              "    </tr>\n",
              "    <tr>\n",
              "      <th>3</th>\n",
              "      <td>AAN</td>\n",
              "      <td>Aarons Holdings Company</td>\n",
              "      <td>-0.1327</td>\n",
              "      <td>37445.0</td>\n",
              "      <td>20211231.0</td>\n",
              "      <td>2021.0</td>\n",
              "      <td>INDL</td>\n",
              "      <td>C</td>\n",
              "      <td>D</td>\n",
              "      <td>STD</td>\n",
              "      <td>AAN</td>\n",
              "      <td>USD</td>\n",
              "      <td>A</td>\n",
              "      <td>2550.0</td>\n",
              "    </tr>\n",
              "    <tr>\n",
              "      <th>4</th>\n",
              "      <td>AAON</td>\n",
              "      <td>Aaon Inc</td>\n",
              "      <td>-0.3456</td>\n",
              "      <td>21542.0</td>\n",
              "      <td>20211231.0</td>\n",
              "      <td>2021.0</td>\n",
              "      <td>INDL</td>\n",
              "      <td>C</td>\n",
              "      <td>D</td>\n",
              "      <td>STD</td>\n",
              "      <td>AAON</td>\n",
              "      <td>USD</td>\n",
              "      <td>A</td>\n",
              "      <td>2010.0</td>\n",
              "    </tr>\n",
              "  </tbody>\n",
              "</table>\n",
              "</div>\n",
              "      <button class=\"colab-df-convert\" onclick=\"convertToInteractive('df-e0cda81c-9c01-45ae-aaf7-bb9c568c2e9b')\"\n",
              "              title=\"Convert this dataframe to an interactive table.\"\n",
              "              style=\"display:none;\">\n",
              "        \n",
              "  <svg xmlns=\"http://www.w3.org/2000/svg\" height=\"24px\"viewBox=\"0 0 24 24\"\n",
              "       width=\"24px\">\n",
              "    <path d=\"M0 0h24v24H0V0z\" fill=\"none\"/>\n",
              "    <path d=\"M18.56 5.44l.94 2.06.94-2.06 2.06-.94-2.06-.94-.94-2.06-.94 2.06-2.06.94zm-11 1L8.5 8.5l.94-2.06 2.06-.94-2.06-.94L8.5 2.5l-.94 2.06-2.06.94zm10 10l.94 2.06.94-2.06 2.06-.94-2.06-.94-.94-2.06-.94 2.06-2.06.94z\"/><path d=\"M17.41 7.96l-1.37-1.37c-.4-.4-.92-.59-1.43-.59-.52 0-1.04.2-1.43.59L10.3 9.45l-7.72 7.72c-.78.78-.78 2.05 0 2.83L4 21.41c.39.39.9.59 1.41.59.51 0 1.02-.2 1.41-.59l7.78-7.78 2.81-2.81c.8-.78.8-2.07 0-2.86zM5.41 20L4 18.59l7.72-7.72 1.47 1.35L5.41 20z\"/>\n",
              "  </svg>\n",
              "      </button>\n",
              "      \n",
              "  <style>\n",
              "    .colab-df-container {\n",
              "      display:flex;\n",
              "      flex-wrap:wrap;\n",
              "      gap: 12px;\n",
              "    }\n",
              "\n",
              "    .colab-df-convert {\n",
              "      background-color: #E8F0FE;\n",
              "      border: none;\n",
              "      border-radius: 50%;\n",
              "      cursor: pointer;\n",
              "      display: none;\n",
              "      fill: #1967D2;\n",
              "      height: 32px;\n",
              "      padding: 0 0 0 0;\n",
              "      width: 32px;\n",
              "    }\n",
              "\n",
              "    .colab-df-convert:hover {\n",
              "      background-color: #E2EBFA;\n",
              "      box-shadow: 0px 1px 2px rgba(60, 64, 67, 0.3), 0px 1px 3px 1px rgba(60, 64, 67, 0.15);\n",
              "      fill: #174EA6;\n",
              "    }\n",
              "\n",
              "    [theme=dark] .colab-df-convert {\n",
              "      background-color: #3B4455;\n",
              "      fill: #D2E3FC;\n",
              "    }\n",
              "\n",
              "    [theme=dark] .colab-df-convert:hover {\n",
              "      background-color: #434B5C;\n",
              "      box-shadow: 0px 1px 3px 1px rgba(0, 0, 0, 0.15);\n",
              "      filter: drop-shadow(0px 1px 2px rgba(0, 0, 0, 0.3));\n",
              "      fill: #FFFFFF;\n",
              "    }\n",
              "  </style>\n",
              "\n",
              "      <script>\n",
              "        const buttonEl =\n",
              "          document.querySelector('#df-e0cda81c-9c01-45ae-aaf7-bb9c568c2e9b button.colab-df-convert');\n",
              "        buttonEl.style.display =\n",
              "          google.colab.kernel.accessAllowed ? 'block' : 'none';\n",
              "\n",
              "        async function convertToInteractive(key) {\n",
              "          const element = document.querySelector('#df-e0cda81c-9c01-45ae-aaf7-bb9c568c2e9b');\n",
              "          const dataTable =\n",
              "            await google.colab.kernel.invokeFunction('convertToInteractive',\n",
              "                                                     [key], {});\n",
              "          if (!dataTable) return;\n",
              "\n",
              "          const docLinkHtml = 'Like what you see? Visit the ' +\n",
              "            '<a target=\"_blank\" href=https://colab.research.google.com/notebooks/data_table.ipynb>data table notebook</a>'\n",
              "            + ' to learn more about interactive tables.';\n",
              "          element.innerHTML = '';\n",
              "          dataTable['output_type'] = 'display_data';\n",
              "          await google.colab.output.renderOutput(dataTable, element);\n",
              "          const docLink = document.createElement('div');\n",
              "          docLink.innerHTML = docLinkHtml;\n",
              "          element.appendChild(docLink);\n",
              "        }\n",
              "      </script>\n",
              "    </div>\n",
              "  </div>\n",
              "  "
            ]
          },
          "metadata": {},
          "execution_count": 70
        }
      ]
    },
    {
      "cell_type": "code",
      "source": [
        "pt.ggroup.value_counts()"
      ],
      "metadata": {
        "colab": {
          "base_uri": "https://localhost:8080/"
        },
        "id": "06PcWIQkmcpI",
        "outputId": "0d5d409f-fef7-4b3a-d9a2-1ef061d04ac8"
      },
      "execution_count": null,
      "outputs": [
        {
          "output_type": "execute_result",
          "data": {
            "text/plain": [
              "4010.0    179\n",
              "2010.0    169\n",
              "3520.0    160\n",
              "6010.0    131\n",
              "3510.0    111\n",
              "4510.0    109\n",
              "1510.0     91\n",
              "4020.0     90\n",
              "2550.0     80\n",
              "4520.0     76\n",
              "1010.0     74\n",
              "2530.0     63\n",
              "4030.0     61\n",
              "2020.0     59\n",
              "5510.0     58\n",
              "2520.0     54\n",
              "4530.0     51\n",
              "5020.0     39\n",
              "2030.0     38\n",
              "3020.0     36\n",
              "2510.0     23\n",
              "3010.0     16\n",
              "3030.0     16\n",
              "5010.0     13\n",
              "Name: ggroup, dtype: int64"
            ]
          },
          "metadata": {},
          "execution_count": 71
        }
      ]
    },
    {
      "cell_type": "code",
      "source": [
        "sns.histplot(x=pt.ggroup,stat=\"percent\")\n",
        "plt.xlabel(\"Sector\")"
      ],
      "metadata": {
        "colab": {
          "base_uri": "https://localhost:8080/",
          "height": 296
        },
        "id": "bIGIUbedmiCo",
        "outputId": "7432efea-f979-4755-85e1-01bcf451d53a"
      },
      "execution_count": null,
      "outputs": [
        {
          "output_type": "execute_result",
          "data": {
            "text/plain": [
              "Text(0.5, 0, 'Sector')"
            ]
          },
          "metadata": {},
          "execution_count": 72
        },
        {
          "output_type": "display_data",
          "data": {
            "text/plain": [
              "<Figure size 432x288 with 1 Axes>"
            ],
            "image/png": "[encoded data removed]"
          },
          "metadata": {
            "needs_background": "light"
          }
        }
      ]
    },
    {
      "cell_type": "code",
      "source": [
        "sns.histplot(x=pt.ggroup)\n",
        "plt.xlabel(\"Sector\")"
      ],
      "metadata": {
        "colab": {
          "base_uri": "https://localhost:8080/",
          "height": 296
        },
        "id": "KeFKYk4-mptw",
        "outputId": "4b4a715c-e593-4430-8b99-fa1d00564240"
      },
      "execution_count": null,
      "outputs": [
        {
          "output_type": "execute_result",
          "data": {
            "text/plain": [
              "Text(0.5, 0, 'Sector')"
            ]
          },
          "metadata": {},
          "execution_count": 73
        },
        {
          "output_type": "display_data",
          "data": {
            "text/plain": [
              "<Figure size 432x288 with 1 Axes>"
            ],
            "image/png": "[encoded data removed]"
          },
          "metadata": {
            "needs_background": "light"
          }
        }
      ]
    },
    {
      "cell_type": "markdown",
      "source": [
        "### 3. Average Return YTD in each Industry"
      ],
      "metadata": {
        "id": "3Tdv0Nkhoiig"
      }
    },
    {
      "cell_type": "code",
      "source": [
        "avg_ret = pt.groupby(['ggroup']).mean().reset_index()[['ggroup','RetYTD']]\n",
        "avg_ret"
      ],
      "metadata": {
        "colab": {
          "base_uri": "https://localhost:8080/",
          "height": 802
        },
        "id": "z1_CN93yoYPm",
        "outputId": "649b2555-0402-41f0-9970-de09160c0737"
      },
      "execution_count": null,
      "outputs": [
        {
          "output_type": "execute_result",
          "data": {
            "text/plain": [
              "    ggroup    RetYTD\n",
              "0   1010.0  0.518715\n",
              "1   1510.0  0.064418\n",
              "2   2010.0 -0.096122\n",
              "3   2020.0 -0.033625\n",
              "4   2030.0 -0.063847\n",
              "5   2510.0 -0.213870\n",
              "6   2520.0 -0.206102\n",
              "7   2530.0 -0.061554\n",
              "8   2550.0 -0.146284\n",
              "9   3010.0  0.079444\n",
              "10  3020.0  0.023983\n",
              "11  3030.0 -0.149062\n",
              "12  3510.0 -0.068719\n",
              "13  3520.0 -0.165806\n",
              "14  4010.0 -0.087832\n",
              "15  4020.0 -0.120813\n",
              "16  4030.0  0.003779\n",
              "17  4510.0 -0.102308\n",
              "18  4520.0 -0.181264\n",
              "19  4530.0 -0.253339\n",
              "20  5010.0  0.011838\n",
              "21  5020.0 -0.068605\n",
              "22  5510.0  0.040759\n",
              "23  6010.0 -0.035826"
            ],
            "text/html": [
              "\n",
              "  <div id=\"df-d37ecd73-e4d8-4484-80fe-3a67e006f173\">\n",
              "    <div class=\"colab-df-container\">\n",
              "      <div>\n",
              "<style scoped>\n",
              "    .dataframe tbody tr th:only-of-type {\n",
              "        vertical-align: middle;\n",
              "    }\n",
              "\n",
              "    .dataframe tbody tr th {\n",
              "        vertical-align: top;\n",
              "    }\n",
              "\n",
              "    .dataframe thead th {\n",
              "        text-align: right;\n",
              "    }\n",
              "</style>\n",
              "<table border=\"1\" class=\"dataframe\">\n",
              "  <thead>\n",
              "    <tr style=\"text-align: right;\">\n",
              "      <th></th>\n",
              "      <th>ggroup</th>\n",
              "      <th>RetYTD</th>\n",
              "    </tr>\n",
              "  </thead>\n",
              "  <tbody>\n",
              "    <tr>\n",
              "      <th>0</th>\n",
              "      <td>1010.0</td>\n",
              "      <td>0.518715</td>\n",
              "    </tr>\n",
              "    <tr>\n",
              "      <th>1</th>\n",
              "      <td>1510.0</td>\n",
              "      <td>0.064418</td>\n",
              "    </tr>\n",
              "    <tr>\n",
              "      <th>2</th>\n",
              "      <td>2010.0</td>\n",
              "      <td>-0.096122</td>\n",
              "    </tr>\n",
              "    <tr>\n",
              "      <th>3</th>\n",
              "      <td>2020.0</td>\n",
              "      <td>-0.033625</td>\n",
              "    </tr>\n",
              "    <tr>\n",
              "      <th>4</th>\n",
              "      <td>2030.0</td>\n",
              "      <td>-0.063847</td>\n",
              "    </tr>\n",
              "    <tr>\n",
              "      <th>5</th>\n",
              "      <td>2510.0</td>\n",
              "      <td>-0.213870</td>\n",
              "    </tr>\n",
              "    <tr>\n",
              "      <th>6</th>\n",
              "      <td>2520.0</td>\n",
              "      <td>-0.206102</td>\n",
              "    </tr>\n",
              "    <tr>\n",
              "      <th>7</th>\n",
              "      <td>2530.0</td>\n",
              "      <td>-0.061554</td>\n",
              "    </tr>\n",
              "    <tr>\n",
              "      <th>8</th>\n",
              "      <td>2550.0</td>\n",
              "      <td>-0.146284</td>\n",
              "    </tr>\n",
              "    <tr>\n",
              "      <th>9</th>\n",
              "      <td>3010.0</td>\n",
              "      <td>0.079444</td>\n",
              "    </tr>\n",
              "    <tr>\n",
              "      <th>10</th>\n",
              "      <td>3020.0</td>\n",
              "      <td>0.023983</td>\n",
              "    </tr>\n",
              "    <tr>\n",
              "      <th>11</th>\n",
              "      <td>3030.0</td>\n",
              "      <td>-0.149062</td>\n",
              "    </tr>\n",
              "    <tr>\n",
              "      <th>12</th>\n",
              "      <td>3510.0</td>\n",
              "      <td>-0.068719</td>\n",
              "    </tr>\n",
              "    <tr>\n",
              "      <th>13</th>\n",
              "      <td>3520.0</td>\n",
              "      <td>-0.165806</td>\n",
              "    </tr>\n",
              "    <tr>\n",
              "      <th>14</th>\n",
              "      <td>4010.0</td>\n",
              "      <td>-0.087832</td>\n",
              "    </tr>\n",
              "    <tr>\n",
              "      <th>15</th>\n",
              "      <td>4020.0</td>\n",
              "      <td>-0.120813</td>\n",
              "    </tr>\n",
              "    <tr>\n",
              "      <th>16</th>\n",
              "      <td>4030.0</td>\n",
              "      <td>0.003779</td>\n",
              "    </tr>\n",
              "    <tr>\n",
              "      <th>17</th>\n",
              "      <td>4510.0</td>\n",
              "      <td>-0.102308</td>\n",
              "    </tr>\n",
              "    <tr>\n",
              "      <th>18</th>\n",
              "      <td>4520.0</td>\n",
              "      <td>-0.181264</td>\n",
              "    </tr>\n",
              "    <tr>\n",
              "      <th>19</th>\n",
              "      <td>4530.0</td>\n",
              "      <td>-0.253339</td>\n",
              "    </tr>\n",
              "    <tr>\n",
              "      <th>20</th>\n",
              "      <td>5010.0</td>\n",
              "      <td>0.011838</td>\n",
              "    </tr>\n",
              "    <tr>\n",
              "      <th>21</th>\n",
              "      <td>5020.0</td>\n",
              "      <td>-0.068605</td>\n",
              "    </tr>\n",
              "    <tr>\n",
              "      <th>22</th>\n",
              "      <td>5510.0</td>\n",
              "      <td>0.040759</td>\n",
              "    </tr>\n",
              "    <tr>\n",
              "      <th>23</th>\n",
              "      <td>6010.0</td>\n",
              "      <td>-0.035826</td>\n",
              "    </tr>\n",
              "  </tbody>\n",
              "</table>\n",
              "</div>\n",
              "      <button class=\"colab-df-convert\" onclick=\"convertToInteractive('df-d37ecd73-e4d8-4484-80fe-3a67e006f173')\"\n",
              "              title=\"Convert this dataframe to an interactive table.\"\n",
              "              style=\"display:none;\">\n",
              "        \n",
              "  <svg xmlns=\"http://www.w3.org/2000/svg\" height=\"24px\"viewBox=\"0 0 24 24\"\n",
              "       width=\"24px\">\n",
              "    <path d=\"M0 0h24v24H0V0z\" fill=\"none\"/>\n",
              "    <path d=\"M18.56 5.44l.94 2.06.94-2.06 2.06-.94-2.06-.94-.94-2.06-.94 2.06-2.06.94zm-11 1L8.5 8.5l.94-2.06 2.06-.94-2.06-.94L8.5 2.5l-.94 2.06-2.06.94zm10 10l.94 2.06.94-2.06 2.06-.94-2.06-.94-.94-2.06-.94 2.06-2.06.94z\"/><path d=\"M17.41 7.96l-1.37-1.37c-.4-.4-.92-.59-1.43-.59-.52 0-1.04.2-1.43.59L10.3 9.45l-7.72 7.72c-.78.78-.78 2.05 0 2.83L4 21.41c.39.39.9.59 1.41.59.51 0 1.02-.2 1.41-.59l7.78-7.78 2.81-2.81c.8-.78.8-2.07 0-2.86zM5.41 20L4 18.59l7.72-7.72 1.47 1.35L5.41 20z\"/>\n",
              "  </svg>\n",
              "      </button>\n",
              "      \n",
              "  <style>\n",
              "    .colab-df-container {\n",
              "      display:flex;\n",
              "      flex-wrap:wrap;\n",
              "      gap: 12px;\n",
              "    }\n",
              "\n",
              "    .colab-df-convert {\n",
              "      background-color: #E8F0FE;\n",
              "      border: none;\n",
              "      border-radius: 50%;\n",
              "      cursor: pointer;\n",
              "      display: none;\n",
              "      fill: #1967D2;\n",
              "      height: 32px;\n",
              "      padding: 0 0 0 0;\n",
              "      width: 32px;\n",
              "    }\n",
              "\n",
              "    .colab-df-convert:hover {\n",
              "      background-color: #E2EBFA;\n",
              "      box-shadow: 0px 1px 2px rgba(60, 64, 67, 0.3), 0px 1px 3px 1px rgba(60, 64, 67, 0.15);\n",
              "      fill: #174EA6;\n",
              "    }\n",
              "\n",
              "    [theme=dark] .colab-df-convert {\n",
              "      background-color: #3B4455;\n",
              "      fill: #D2E3FC;\n",
              "    }\n",
              "\n",
              "    [theme=dark] .colab-df-convert:hover {\n",
              "      background-color: #434B5C;\n",
              "      box-shadow: 0px 1px 3px 1px rgba(0, 0, 0, 0.15);\n",
              "      filter: drop-shadow(0px 1px 2px rgba(0, 0, 0, 0.3));\n",
              "      fill: #FFFFFF;\n",
              "    }\n",
              "  </style>\n",
              "\n",
              "      <script>\n",
              "        const buttonEl =\n",
              "          document.querySelector('#df-d37ecd73-e4d8-4484-80fe-3a67e006f173 button.colab-df-convert');\n",
              "        buttonEl.style.display =\n",
              "          google.colab.kernel.accessAllowed ? 'block' : 'none';\n",
              "\n",
              "        async function convertToInteractive(key) {\n",
              "          const element = document.querySelector('#df-d37ecd73-e4d8-4484-80fe-3a67e006f173');\n",
              "          const dataTable =\n",
              "            await google.colab.kernel.invokeFunction('convertToInteractive',\n",
              "                                                     [key], {});\n",
              "          if (!dataTable) return;\n",
              "\n",
              "          const docLinkHtml = 'Like what you see? Visit the ' +\n",
              "            '<a target=\"_blank\" href=https://colab.research.google.com/notebooks/data_table.ipynb>data table notebook</a>'\n",
              "            + ' to learn more about interactive tables.';\n",
              "          element.innerHTML = '';\n",
              "          dataTable['output_type'] = 'display_data';\n",
              "          await google.colab.output.renderOutput(dataTable, element);\n",
              "          const docLink = document.createElement('div');\n",
              "          docLink.innerHTML = docLinkHtml;\n",
              "          element.appendChild(docLink);\n",
              "        }\n",
              "      </script>\n",
              "    </div>\n",
              "  </div>\n",
              "  "
            ]
          },
          "metadata": {},
          "execution_count": 74
        }
      ]
    },
    {
      "cell_type": "markdown",
      "source": [
        "Find the highest and lowest return industries make economic sense for early 2022 (RetYTD) Explain in detail."
      ],
      "metadata": {
        "id": "QPFKaMcDLsou"
      }
    },
    {
      "cell_type": "code",
      "source": [
        "avg_ret.sort_values(by='RetYTD').head(1)"
      ],
      "metadata": {
        "colab": {
          "base_uri": "https://localhost:8080/",
          "height": 81
        },
        "id": "sl2CD5wSLoR-",
        "outputId": "c6c65812-e42d-4cb8-d414-3e04df67f284"
      },
      "execution_count": null,
      "outputs": [
        {
          "output_type": "execute_result",
          "data": {
            "text/plain": [
              "    ggroup    RetYTD\n",
              "19  4530.0 -0.253339"
            ],
            "text/html": [
              "\n",
              "  <div id=\"df-babda6b2-d964-44f0-ad02-24cfe440ed9f\">\n",
              "    <div class=\"colab-df-container\">\n",
              "      <div>\n",
              "<style scoped>\n",
              "    .dataframe tbody tr th:only-of-type {\n",
              "        vertical-align: middle;\n",
              "    }\n",
              "\n",
              "    .dataframe tbody tr th {\n",
              "        vertical-align: top;\n",
              "    }\n",
              "\n",
              "    .dataframe thead th {\n",
              "        text-align: right;\n",
              "    }\n",
              "</style>\n",
              "<table border=\"1\" class=\"dataframe\">\n",
              "  <thead>\n",
              "    <tr style=\"text-align: right;\">\n",
              "      <th></th>\n",
              "      <th>ggroup</th>\n",
              "      <th>RetYTD</th>\n",
              "    </tr>\n",
              "  </thead>\n",
              "  <tbody>\n",
              "    <tr>\n",
              "      <th>19</th>\n",
              "      <td>4530.0</td>\n",
              "      <td>-0.253339</td>\n",
              "    </tr>\n",
              "  </tbody>\n",
              "</table>\n",
              "</div>\n",
              "      <button class=\"colab-df-convert\" onclick=\"convertToInteractive('df-babda6b2-d964-44f0-ad02-24cfe440ed9f')\"\n",
              "              title=\"Convert this dataframe to an interactive table.\"\n",
              "              style=\"display:none;\">\n",
              "        \n",
              "  <svg xmlns=\"http://www.w3.org/2000/svg\" height=\"24px\"viewBox=\"0 0 24 24\"\n",
              "       width=\"24px\">\n",
              "    <path d=\"M0 0h24v24H0V0z\" fill=\"none\"/>\n",
              "    <path d=\"M18.56 5.44l.94 2.06.94-2.06 2.06-.94-2.06-.94-.94-2.06-.94 2.06-2.06.94zm-11 1L8.5 8.5l.94-2.06 2.06-.94-2.06-.94L8.5 2.5l-.94 2.06-2.06.94zm10 10l.94 2.06.94-2.06 2.06-.94-2.06-.94-.94-2.06-.94 2.06-2.06.94z\"/><path d=\"M17.41 7.96l-1.37-1.37c-.4-.4-.92-.59-1.43-.59-.52 0-1.04.2-1.43.59L10.3 9.45l-7.72 7.72c-.78.78-.78 2.05 0 2.83L4 21.41c.39.39.9.59 1.41.59.51 0 1.02-.2 1.41-.59l7.78-7.78 2.81-2.81c.8-.78.8-2.07 0-2.86zM5.41 20L4 18.59l7.72-7.72 1.47 1.35L5.41 20z\"/>\n",
              "  </svg>\n",
              "      </button>\n",
              "      \n",
              "  <style>\n",
              "    .colab-df-container {\n",
              "      display:flex;\n",
              "      flex-wrap:wrap;\n",
              "      gap: 12px;\n",
              "    }\n",
              "\n",
              "    .colab-df-convert {\n",
              "      background-color: #E8F0FE;\n",
              "      border: none;\n",
              "      border-radius: 50%;\n",
              "      cursor: pointer;\n",
              "      display: none;\n",
              "      fill: #1967D2;\n",
              "      height: 32px;\n",
              "      padding: 0 0 0 0;\n",
              "      width: 32px;\n",
              "    }\n",
              "\n",
              "    .colab-df-convert:hover {\n",
              "      background-color: #E2EBFA;\n",
              "      box-shadow: 0px 1px 2px rgba(60, 64, 67, 0.3), 0px 1px 3px 1px rgba(60, 64, 67, 0.15);\n",
              "      fill: #174EA6;\n",
              "    }\n",
              "\n",
              "    [theme=dark] .colab-df-convert {\n",
              "      background-color: #3B4455;\n",
              "      fill: #D2E3FC;\n",
              "    }\n",
              "\n",
              "    [theme=dark] .colab-df-convert:hover {\n",
              "      background-color: #434B5C;\n",
              "      box-shadow: 0px 1px 3px 1px rgba(0, 0, 0, 0.15);\n",
              "      filter: drop-shadow(0px 1px 2px rgba(0, 0, 0, 0.3));\n",
              "      fill: #FFFFFF;\n",
              "    }\n",
              "  </style>\n",
              "\n",
              "      <script>\n",
              "        const buttonEl =\n",
              "          document.querySelector('#df-babda6b2-d964-44f0-ad02-24cfe440ed9f button.colab-df-convert');\n",
              "        buttonEl.style.display =\n",
              "          google.colab.kernel.accessAllowed ? 'block' : 'none';\n",
              "\n",
              "        async function convertToInteractive(key) {\n",
              "          const element = document.querySelector('#df-babda6b2-d964-44f0-ad02-24cfe440ed9f');\n",
              "          const dataTable =\n",
              "            await google.colab.kernel.invokeFunction('convertToInteractive',\n",
              "                                                     [key], {});\n",
              "          if (!dataTable) return;\n",
              "\n",
              "          const docLinkHtml = 'Like what you see? Visit the ' +\n",
              "            '<a target=\"_blank\" href=https://colab.research.google.com/notebooks/data_table.ipynb>data table notebook</a>'\n",
              "            + ' to learn more about interactive tables.';\n",
              "          element.innerHTML = '';\n",
              "          dataTable['output_type'] = 'display_data';\n",
              "          await google.colab.output.renderOutput(dataTable, element);\n",
              "          const docLink = document.createElement('div');\n",
              "          docLink.innerHTML = docLinkHtml;\n",
              "          element.appendChild(docLink);\n",
              "        }\n",
              "      </script>\n",
              "    </div>\n",
              "  </div>\n",
              "  "
            ]
          },
          "metadata": {},
          "execution_count": 75
        }
      ]
    },
    {
      "cell_type": "code",
      "source": [
        "avg_ret.sort_values(by='RetYTD',ascending=False).head(1)"
      ],
      "metadata": {
        "colab": {
          "base_uri": "https://localhost:8080/",
          "height": 81
        },
        "id": "zcwG50-tMbK_",
        "outputId": "5e46e937-61bf-48c1-e290-033bf0184ddf"
      },
      "execution_count": null,
      "outputs": [
        {
          "output_type": "execute_result",
          "data": {
            "text/plain": [
              "   ggroup    RetYTD\n",
              "0  1010.0  0.518715"
            ],
            "text/html": [
              "\n",
              "  <div id=\"df-e5684022-b3d8-4aa6-99a9-6ed255a8c750\">\n",
              "    <div class=\"colab-df-container\">\n",
              "      <div>\n",
              "<style scoped>\n",
              "    .dataframe tbody tr th:only-of-type {\n",
              "        vertical-align: middle;\n",
              "    }\n",
              "\n",
              "    .dataframe tbody tr th {\n",
              "        vertical-align: top;\n",
              "    }\n",
              "\n",
              "    .dataframe thead th {\n",
              "        text-align: right;\n",
              "    }\n",
              "</style>\n",
              "<table border=\"1\" class=\"dataframe\">\n",
              "  <thead>\n",
              "    <tr style=\"text-align: right;\">\n",
              "      <th></th>\n",
              "      <th>ggroup</th>\n",
              "      <th>RetYTD</th>\n",
              "    </tr>\n",
              "  </thead>\n",
              "  <tbody>\n",
              "    <tr>\n",
              "      <th>0</th>\n",
              "      <td>1010.0</td>\n",
              "      <td>0.518715</td>\n",
              "    </tr>\n",
              "  </tbody>\n",
              "</table>\n",
              "</div>\n",
              "      <button class=\"colab-df-convert\" onclick=\"convertToInteractive('df-e5684022-b3d8-4aa6-99a9-6ed255a8c750')\"\n",
              "              title=\"Convert this dataframe to an interactive table.\"\n",
              "              style=\"display:none;\">\n",
              "        \n",
              "  <svg xmlns=\"http://www.w3.org/2000/svg\" height=\"24px\"viewBox=\"0 0 24 24\"\n",
              "       width=\"24px\">\n",
              "    <path d=\"M0 0h24v24H0V0z\" fill=\"none\"/>\n",
              "    <path d=\"M18.56 5.44l.94 2.06.94-2.06 2.06-.94-2.06-.94-.94-2.06-.94 2.06-2.06.94zm-11 1L8.5 8.5l.94-2.06 2.06-.94-2.06-.94L8.5 2.5l-.94 2.06-2.06.94zm10 10l.94 2.06.94-2.06 2.06-.94-2.06-.94-.94-2.06-.94 2.06-2.06.94z\"/><path d=\"M17.41 7.96l-1.37-1.37c-.4-.4-.92-.59-1.43-.59-.52 0-1.04.2-1.43.59L10.3 9.45l-7.72 7.72c-.78.78-.78 2.05 0 2.83L4 21.41c.39.39.9.59 1.41.59.51 0 1.02-.2 1.41-.59l7.78-7.78 2.81-2.81c.8-.78.8-2.07 0-2.86zM5.41 20L4 18.59l7.72-7.72 1.47 1.35L5.41 20z\"/>\n",
              "  </svg>\n",
              "      </button>\n",
              "      \n",
              "  <style>\n",
              "    .colab-df-container {\n",
              "      display:flex;\n",
              "      flex-wrap:wrap;\n",
              "      gap: 12px;\n",
              "    }\n",
              "\n",
              "    .colab-df-convert {\n",
              "      background-color: #E8F0FE;\n",
              "      border: none;\n",
              "      border-radius: 50%;\n",
              "      cursor: pointer;\n",
              "      display: none;\n",
              "      fill: #1967D2;\n",
              "      height: 32px;\n",
              "      padding: 0 0 0 0;\n",
              "      width: 32px;\n",
              "    }\n",
              "\n",
              "    .colab-df-convert:hover {\n",
              "      background-color: #E2EBFA;\n",
              "      box-shadow: 0px 1px 2px rgba(60, 64, 67, 0.3), 0px 1px 3px 1px rgba(60, 64, 67, 0.15);\n",
              "      fill: #174EA6;\n",
              "    }\n",
              "\n",
              "    [theme=dark] .colab-df-convert {\n",
              "      background-color: #3B4455;\n",
              "      fill: #D2E3FC;\n",
              "    }\n",
              "\n",
              "    [theme=dark] .colab-df-convert:hover {\n",
              "      background-color: #434B5C;\n",
              "      box-shadow: 0px 1px 3px 1px rgba(0, 0, 0, 0.15);\n",
              "      filter: drop-shadow(0px 1px 2px rgba(0, 0, 0, 0.3));\n",
              "      fill: #FFFFFF;\n",
              "    }\n",
              "  </style>\n",
              "\n",
              "      <script>\n",
              "        const buttonEl =\n",
              "          document.querySelector('#df-e5684022-b3d8-4aa6-99a9-6ed255a8c750 button.colab-df-convert');\n",
              "        buttonEl.style.display =\n",
              "          google.colab.kernel.accessAllowed ? 'block' : 'none';\n",
              "\n",
              "        async function convertToInteractive(key) {\n",
              "          const element = document.querySelector('#df-e5684022-b3d8-4aa6-99a9-6ed255a8c750');\n",
              "          const dataTable =\n",
              "            await google.colab.kernel.invokeFunction('convertToInteractive',\n",
              "                                                     [key], {});\n",
              "          if (!dataTable) return;\n",
              "\n",
              "          const docLinkHtml = 'Like what you see? Visit the ' +\n",
              "            '<a target=\"_blank\" href=https://colab.research.google.com/notebooks/data_table.ipynb>data table notebook</a>'\n",
              "            + ' to learn more about interactive tables.';\n",
              "          element.innerHTML = '';\n",
              "          dataTable['output_type'] = 'display_data';\n",
              "          await google.colab.output.renderOutput(dataTable, element);\n",
              "          const docLink = document.createElement('div');\n",
              "          docLink.innerHTML = docLinkHtml;\n",
              "          element.appendChild(docLink);\n",
              "        }\n",
              "      </script>\n",
              "    </div>\n",
              "  </div>\n",
              "  "
            ]
          },
          "metadata": {},
          "execution_count": 76
        }
      ]
    },
    {
      "cell_type": "markdown",
      "source": [
        "The highest and lowest return industries do make economic sense for early 2022.The energy sector has the highest stock return from the rising energy prices due to inflation, and as the U.S. imposed sanctions on Russian energy imports in early 2022. While the semiconductors industry has the lowest return due to the increased risk of consumer spending slowing down.**"
      ],
      "metadata": {
        "id": "YyZkPbLUTVCo"
      }
    },
    {
      "cell_type": "code",
      "source": [
        "plt.figure(figsize=(8,6))\n",
        "sns.barplot(data=avg_ret,x='ggroup',y='RetYTD')\n",
        "plt.xlabel(\"Sector\")\n",
        "plt.xticks(rotation = 90)"
      ],
      "metadata": {
        "colab": {
          "base_uri": "https://localhost:8080/",
          "height": 465
        },
        "id": "QOuWzelTplYX",
        "outputId": "d6bf186d-4382-44bd-f4be-ad63c91e3a4b"
      },
      "execution_count": null,
      "outputs": [
        {
          "output_type": "execute_result",
          "data": {
            "text/plain": [
              "(array([ 0,  1,  2,  3,  4,  5,  6,  7,  8,  9, 10, 11, 12, 13, 14, 15, 16,\n",
              "        17, 18, 19, 20, 21, 22, 23]),\n",
              " <a list of 24 Text major ticklabel objects>)"
            ]
          },
          "metadata": {},
          "execution_count": 77
        },
        {
          "output_type": "display_data",
          "data": {
            "text/plain": [
              "<Figure size 576x432 with 1 Axes>"
            ],
            "image/png": "[encoded data removed]"
          },
          "metadata": {
            "needs_background": "light"
          }
        }
      ]
    },
    {
      "cell_type": "markdown",
      "source": [
        "## Summary:\n",
        "\n",
        "* The highest and lowest return industries are energy and semiconductors, respectively.The energy sector has the highest stock return from the rising energy prices due to inflation, and also during the time when the U.S. imposed sanctions on Russian energy imports in early 2022. While the semiconductors industry has the lowest return due to the increased risk of consumer spending slowing down.\n",
        "\n",
        "* To generate strong YTD return, companies should focus on the increase of Book/Price ratio, SALES/Price ratio and ROE. Investors should also refer to these financial indicators to make investment decisions.\n",
        "\n",
        "* Investors might want to consider stocks in energy, material, food and Staples retailing, and utilities industries that would get higher YTD return."
      ],
      "metadata": {
        "id": "xDILDVbZ-LnX"
      }
    }
  ]
}